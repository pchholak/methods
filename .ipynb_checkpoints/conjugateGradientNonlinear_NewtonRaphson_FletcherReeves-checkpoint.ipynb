{
 "cells": [
  {
   "cell_type": "code",
   "execution_count": 1,
   "id": "1efab525",
   "metadata": {},
   "outputs": [],
   "source": [
    "%matplotlib qt\n",
    "import numpy as np\n",
    "import matplotlib.pyplot as plt\n",
    "from mpl_toolkits.mplot3d import Axes3D"
   ]
  },
  {
   "cell_type": "code",
   "execution_count": 7,
   "id": "e5a8f16b",
   "metadata": {},
   "outputs": [],
   "source": [
    "def conjugateGradientNL_NR_FR(A, b, c, x, i_max=1e3, j_max=1e2, epsilon=1e-6, epsilon_NR=1e-3):\n",
    "    i, k, n = 0, 0, np.size(x)\n",
    "    r = - f_dash(A, b, c, x)\n",
    "    d = r\n",
    "    delta_new = np.linalg.norm(r) ** 2\n",
    "    delta_0 = delta_new\n",
    "    X = []; X.append(x)\n",
    "    while (i < i_max) & (delta_new > epsilon ** 2 * delta_0):\n",
    "        j = 0\n",
    "        delta_d =  np.linalg.norm(d) ** 2\n",
    "        while True:\n",
    "            alpha = - f_dash(A, b, c, x).T.dot(d) / (d.T.dot(f_double_dash(A, b, c, x).dot(d)))\n",
    "            x = x + alpha * d\n",
    "            j += 1\n",
    "            if (j > j_max) | (alpha ** 2 * delta_d < epsilon_NR ** 2):\n",
    "                break\n",
    "        r = - f_dash(A, b, c, x)\n",
    "        delta_old = delta_new\n",
    "        delta_new = np.linalg.norm(r) ** 2\n",
    "        beta = delta_new / delta_old\n",
    "        d = r + beta * d\n",
    "        k += 1\n",
    "        if (k == n) | (r.T.dot(d) <= 0):\n",
    "            d = r\n",
    "            k = 0\n",
    "        X.append(x)\n",
    "        i += 1\n",
    "    return x, np.array(X), i\n",
    "    \n",
    "\n",
    "def conjugateGradient(A, b, x, i_max=1e3, epsilon=1e-6):\n",
    "    i = 0\n",
    "    r = b - A.dot(x)\n",
    "    d = r\n",
    "    delta_new = np.linalg.norm(r) ** 2\n",
    "    delta_0 = delta_new\n",
    "    X = []; X.append(x)\n",
    "    while (i < i_max) & (delta_new > epsilon ** 2 * delta_0):\n",
    "        q = A.dot(d)\n",
    "        alpha = delta_new / (d.T.dot(q))\n",
    "        x = x + alpha * d\n",
    "        if i % 50 == 0:\n",
    "            r = b - A.dot(x)\n",
    "        else:\n",
    "            r = r - alpha * q\n",
    "        delta_old = delta_new\n",
    "        delta_new = np.linalg.norm(r) ** 2\n",
    "        beta = delta_new / delta_old\n",
    "        d = r + beta * d\n",
    "        X.append(x)\n",
    "        i += 1\n",
    "    return x, np.array(X), i\n",
    "\n",
    "def f_double_dash(A, b, c, x):\n",
    "    return A\n",
    "\n",
    "def f_dash(A, b, c, x):\n",
    "    return A.dot(x) - b\n",
    "\n",
    "def f(A, b, c, x):\n",
    "    return 1 / 2 * x.T.dot(A.dot(x)) - b.T.dot(x) + c"
   ]
  },
  {
   "cell_type": "code",
   "execution_count": 3,
   "id": "a6e7f67d",
   "metadata": {},
   "outputs": [],
   "source": [
    "A = np.array([[3, 2], [2, 6]])\n",
    "b = np.array([[2], [-8]])\n",
    "c = 0\n",
    "x_0 = np.array([[-2], [-2]])"
   ]
  },
  {
   "cell_type": "code",
   "execution_count": 10,
   "id": "e1f70230",
   "metadata": {},
   "outputs": [
    {
     "name": "stdout",
     "output_type": "stream",
     "text": [
      "x = [[ 2.]\n",
      " [-2.]]\n",
      "no. of iterations = 2\n",
      "Minimum value of function = [[-10.]]\n"
     ]
    }
   ],
   "source": [
    "x, X, n_steps = conjugateGradientNL_NR_FR(A, b, c, x_0)\n",
    "# x, X, n_steps = conjugateGradient(A, b, x_0)\n",
    "print('x =', x)\n",
    "print('no. of iterations =', n_steps)\n",
    "\n",
    "fmin = f(A, b, c, x)\n",
    "print('Minimum value of function =', fmin)"
   ]
  },
  {
   "cell_type": "code",
   "execution_count": 11,
   "id": "c6f67b9c",
   "metadata": {},
   "outputs": [],
   "source": [
    "u = np.arange(-4, 6, .5)\n",
    "v = np.arange(-6, 4, .5)\n",
    "U, V = np.meshgrid(u, v)\n",
    "\n",
    "ws = []\n",
    "for arr in zip(np.ravel(U), np.ravel(V)):\n",
    "    vec = np.array(arr).T\n",
    "    ws.append(f(A, b, c, vec))\n",
    "W = np.array(ws).reshape(U.shape)\n",
    "\n",
    "fig, ax = plt.subplots(1, 1)\n",
    "cp = ax.contourf(U, V, W)\n",
    "fig.colorbar(cp)\n",
    "ax.plot(X[:, 0], X[:, 1], c='r', marker='o')\n",
    "\n",
    "ax.set_xlabel('X1')\n",
    "ax.set_ylabel('X2')\n",
    "\n",
    "plt.show()"
   ]
  },
  {
   "cell_type": "code",
   "execution_count": null,
   "id": "9289aa51",
   "metadata": {},
   "outputs": [],
   "source": []
  }
 ],
 "metadata": {
  "kernelspec": {
   "display_name": "Python 3",
   "language": "python",
   "name": "python3"
  },
  "language_info": {
   "codemirror_mode": {
    "name": "ipython",
    "version": 3
   },
   "file_extension": ".py",
   "mimetype": "text/x-python",
   "name": "python",
   "nbconvert_exporter": "python",
   "pygments_lexer": "ipython3",
   "version": "3.8.8"
  }
 },
 "nbformat": 4,
 "nbformat_minor": 5
}
