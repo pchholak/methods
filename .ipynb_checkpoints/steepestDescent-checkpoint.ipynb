{
 "cells": [
  {
   "cell_type": "code",
   "execution_count": 1,
   "id": "1efab525",
   "metadata": {},
   "outputs": [],
   "source": [
    "%matplotlib qt\n",
    "import numpy as np\n",
    "import matplotlib.pyplot as plt\n",
    "from mpl_toolkits.mplot3d import Axes3D"
   ]
  },
  {
   "cell_type": "code",
   "execution_count": 2,
   "id": "1eb827f6",
   "metadata": {},
   "outputs": [],
   "source": [
    "def steepestDescent(A, b, x, i_max=1e3, epsilon=1e-6):\n",
    "    i = 0\n",
    "    r = b - A.dot(x)\n",
    "    delta = np.linalg.norm(r) ** 2\n",
    "    delta_0 = delta\n",
    "    X = []; X.append(x)\n",
    "    while (i < i_max) & (delta > epsilon ** 2 * delta_0):\n",
    "        q = A.dot(r)\n",
    "        alpha = delta / (r.T.dot(q))\n",
    "        x = x + alpha * r\n",
    "        if i % 50 == 0: # for large n: sqrt(n) might be appropriate here instead of 50\n",
    "            r = b - A.dot(x)\n",
    "        else:\n",
    "            r = r - alpha * q\n",
    "        delta = np.linalg.norm(r) ** 2\n",
    "        X.append(x)\n",
    "        i += 1\n",
    "    return x, np.array(X), i\n",
    "\n",
    "def steepestDescentTheoretical(A, b, x_0, eps_tol=1e-12):\n",
    "    x_i = x_0\n",
    "    r_0 = b - A.dot(x_0)\n",
    "    norm_0 = np.linalg.norm(r_0) ** 2\n",
    "    epsilon = 1\n",
    "    X = []; X.append(x_0)\n",
    "    while epsilon > eps_tol:\n",
    "        r_i = b - A.dot(x_i)\n",
    "        alpha_i = (r_i.T.dot(r_i)) / (r_i.T.dot(A.dot(r_i)))\n",
    "        x_iplus1 = x_i + alpha_i * r_i\n",
    "        x_i = x_iplus1\n",
    "        norm_i = np.linalg.norm(r_i) ** 2\n",
    "        epsilon = norm_i / norm_0\n",
    "        X.append(x_iplus1)\n",
    "    return x_iplus1, np.array(X), len(X) - 1\n",
    "\n",
    "def steepestDescentPlusTheoretical(A, b, x_0, eps_tol=1e-12):\n",
    "    x_i = x_0\n",
    "    r_0 = b - A.dot(x_0)\n",
    "    norm_0 = np.linalg.norm(r_0) ** 2\n",
    "    epsilon, i = 1, 0\n",
    "    X = []; X.append(x_0)\n",
    "    while epsilon > eps_tol:\n",
    "        if i % 50 == 0:\n",
    "            r_i = b - A.dot(x_i)\n",
    "        else:\n",
    "            r_i = r_iplus1\n",
    "        Adotr_i = A.dot(r_i)\n",
    "        alpha_i = (r_i.T.dot(r_i)) / (r_i.T.dot(Adotr_i))\n",
    "        x_iplus1 = x_i + alpha_i * r_i\n",
    "        \n",
    "        r_iplus1 = r_i - alpha_i * Adotr_i\n",
    "        \n",
    "        x_i = x_iplus1\n",
    "        \n",
    "        norm_i = np.linalg.norm(r_i) ** 2\n",
    "        epsilon = norm_i / norm_0\n",
    "        \n",
    "        i += 1\n",
    "        X.append(x_iplus1)\n",
    "    return x_iplus1, np.array(X), len(X) - 1\n",
    "\n",
    "def f(A, b, c, x):\n",
    "    return 1 / 2 * x.T.dot(A.dot(x)) - b.T.dot(x) + c"
   ]
  },
  {
   "cell_type": "code",
   "execution_count": 3,
   "id": "a6e7f67d",
   "metadata": {},
   "outputs": [],
   "source": [
    "A = np.array([[3, 2], [2, 6]])\n",
    "b = np.array([[2], [-8]])\n",
    "c = 0\n",
    "x_0 = np.array([[-2], [-2]])"
   ]
  },
  {
   "cell_type": "code",
   "execution_count": 4,
   "id": "3de24d87",
   "metadata": {},
   "outputs": [
    {
     "name": "stdout",
     "output_type": "stream",
     "text": [
      "x = [[ 1.99999635]\n",
      " [-2.        ]]\n",
      "no. of iterations = 20\n",
      "Minimum value of function = [[-10.]]\n"
     ]
    }
   ],
   "source": [
    "x, X, n_steps = steepestDescent(A, b, x_0)\n",
    "# x, X, n_steps = steepestDescentTheoretical(A, b, x_0)\n",
    "# x, X, n_steps = steepestDescentPlusTheoretical(A, b, x_0)\n",
    "\n",
    "print('x =', x)\n",
    "print('no. of iterations =', n_steps)\n",
    "\n",
    "fmin = f(A, b, c, x)\n",
    "print('Minimum value of function =', fmin)"
   ]
  },
  {
   "cell_type": "code",
   "execution_count": 5,
   "id": "c6f67b9c",
   "metadata": {},
   "outputs": [],
   "source": [
    "u = np.arange(-4, 6, .5)\n",
    "v = np.arange(-6, 4, .5)\n",
    "U, V = np.meshgrid(u, v)\n",
    "\n",
    "ws = []\n",
    "for arr in zip(np.ravel(U), np.ravel(V)):\n",
    "    vec = np.array(arr).T\n",
    "    ws.append(f(A, b, c, vec))\n",
    "W = np.array(ws).reshape(U.shape)\n",
    "    \n",
    "# fig = plt.figure()\n",
    "# ax = fig.add_subplot(111, projection='3d')\n",
    "# ax.plot_surface(U, V, W)\n",
    "\n",
    "# ax.set_xlabel('X1')\n",
    "# ax.set_ylabel('X2')\n",
    "# ax.set_zlabel('f(x)')\n",
    "\n",
    "# plt.show()\n",
    "\n",
    "fig, ax = plt.subplots(1, 1)\n",
    "cp = ax.contourf(U, V, W)\n",
    "fig.colorbar(cp)\n",
    "ax.plot(X[:, 0], X[:, 1], c='r', marker='o')\n",
    "\n",
    "ax.set_xlabel('X1')\n",
    "ax.set_ylabel('X2')\n",
    "\n",
    "plt.show()"
   ]
  },
  {
   "cell_type": "code",
   "execution_count": null,
   "id": "73a823d7",
   "metadata": {},
   "outputs": [],
   "source": []
  },
  {
   "cell_type": "code",
   "execution_count": null,
   "id": "e1d59783",
   "metadata": {},
   "outputs": [],
   "source": []
  }
 ],
 "metadata": {
  "kernelspec": {
   "display_name": "Python 3",
   "language": "python",
   "name": "python3"
  },
  "language_info": {
   "codemirror_mode": {
    "name": "ipython",
    "version": 3
   },
   "file_extension": ".py",
   "mimetype": "text/x-python",
   "name": "python",
   "nbconvert_exporter": "python",
   "pygments_lexer": "ipython3",
   "version": "3.8.8"
  }
 },
 "nbformat": 4,
 "nbformat_minor": 5
}
