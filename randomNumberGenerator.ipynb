{
 "cells": [
  {
   "cell_type": "markdown",
   "id": "9463e1b2",
   "metadata": {},
   "source": [
    "# Inverse CDF Sampling"
   ]
  },
  {
   "cell_type": "code",
   "execution_count": 1,
   "id": "b46e251d",
   "metadata": {},
   "outputs": [],
   "source": [
    "%matplotlib qt\n",
    "import numpy as np\n",
    "import matplotlib.pyplot as plt"
   ]
  },
  {
   "cell_type": "code",
   "execution_count": 2,
   "id": "c5cdee58",
   "metadata": {},
   "outputs": [],
   "source": [
    "n = 1000\n",
    "nbins = 20"
   ]
  },
  {
   "cell_type": "code",
   "execution_count": 3,
   "id": "2b22798d",
   "metadata": {},
   "outputs": [],
   "source": [
    "# Generate samples from the uniform distribution\n",
    "u = np.random.uniform(size=n)"
   ]
  },
  {
   "cell_type": "code",
   "execution_count": 4,
   "id": "062a1704",
   "metadata": {},
   "outputs": [],
   "source": [
    "# Generate samples from the exponential distribution\n",
    "x = [-np.log(1 - uj) for uj in u]"
   ]
  },
  {
   "cell_type": "code",
   "execution_count": 6,
   "id": "2b0bcf29",
   "metadata": {},
   "outputs": [],
   "source": [
    "# Visualize\n",
    "plt.rcParams.update({'font.size': 18})\n",
    "fig = plt.figure(figsize=(16, 8))\n",
    "ax1 = fig.add_subplot(121)\n",
    "plt.hist(u, bins=nbins)\n",
    "plt.title('Uniform Distribution')\n",
    "ax2 = fig.add_subplot(122)\n",
    "plt.hist(x, bins=nbins)\n",
    "plt.title('Exponential Distribution')\n",
    "plt.show()"
   ]
  },
  {
   "cell_type": "code",
   "execution_count": null,
   "id": "6e558a2a",
   "metadata": {},
   "outputs": [],
   "source": []
  }
 ],
 "metadata": {
  "kernelspec": {
   "display_name": "Python 3 (ipykernel)",
   "language": "python",
   "name": "python3"
  },
  "language_info": {
   "codemirror_mode": {
    "name": "ipython",
    "version": 3
   },
   "file_extension": ".py",
   "mimetype": "text/x-python",
   "name": "python",
   "nbconvert_exporter": "python",
   "pygments_lexer": "ipython3",
   "version": "3.9.7"
  }
 },
 "nbformat": 4,
 "nbformat_minor": 5
}
