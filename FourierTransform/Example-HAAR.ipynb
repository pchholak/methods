{
 "cells": [
  {
   "cell_type": "code",
   "execution_count": 1,
   "id": "c0b0292a",
   "metadata": {},
   "outputs": [],
   "source": [
    "%matplotlib qt\n",
    "import numpy as np\n",
    "import matplotlib.pyplot as plt\n",
    "plt.rcParams['figure.figsize'] = [12, 8]\n",
    "plt.rcParams['font.size'] = 18"
   ]
  },
  {
   "cell_type": "code",
   "execution_count": 3,
   "id": "d9f866a6",
   "metadata": {},
   "outputs": [],
   "source": [
    "x = np.arange(0, 1, 0.001)\n",
    "n = len(x)\n",
    "n2 = int(np.floor(n / 2))\n",
    "n4 = int(np.floor(n / 4))\n",
    "\n",
    "f10 = np.zeros_like(x)\n",
    "f10[:n2] = 1\n",
    "f10[n2:] = -1\n",
    "\n",
    "f21 = np.zeros_like(x)\n",
    "f21[:n4] = 1\n",
    "f21[n4:n2] = -1\n",
    "f21 = f21 * np.sqrt(2)\n",
    "\n",
    "f22 = np.zeros_like(x)\n",
    "f22[n2:(n2+n4)] = 1\n",
    "f22[(n2+n4):] = -1\n",
    "f22 = f22 * np.sqrt(2)\n",
    "\n",
    "x = np.append([-1, 0], x)\n",
    "x = np.append(x, [1, 2])\n",
    "\n",
    "f10 = np.pad(f10, (2, 2), 'constant')\n",
    "f21 = np.pad(f21, (2, 2), 'constant')\n",
    "f22 = np.pad(f22, (2, 2), 'constant')\n",
    "\n",
    "fig, axs = plt.subplots(3, 1)\n",
    "axs[0].plot(x, f10, color='k', lw=2)\n",
    "axs[0].set_xlim(-0.2, 1.2)\n",
    "axs[0].set_ylim(-1.75, 1.75)\n",
    "axs[1].plot(x, f21, color='k', lw=2)\n",
    "axs[1].set_xlim(-0.2, 1.2)\n",
    "axs[1].set_ylim(-1.75, 1.75)\n",
    "axs[2].plot(x, f22, color='k', lw=2)\n",
    "axs[2].set_xlim(-0.2, 1.2)\n",
    "axs[2].set_ylim(-1.75, 1.75)\n",
    "plt.show()"
   ]
  },
  {
   "cell_type": "code",
   "execution_count": 4,
   "id": "72212625",
   "metadata": {},
   "outputs": [],
   "source": [
    "x = np.arange(-5, 5, 0.001)\n",
    "fMexHat = (1 - np.power(x, 2)) * np.exp(-np.power(x, 2) / 2)\n",
    "plt.figure()\n",
    "plt.plot(x, fMexHat, color='k', lw=2)\n",
    "plt.show()"
   ]
  },
  {
   "cell_type": "code",
   "execution_count": null,
   "id": "87a1b5b0",
   "metadata": {},
   "outputs": [],
   "source": []
  }
 ],
 "metadata": {
  "kernelspec": {
   "display_name": "Python 3 (ipykernel)",
   "language": "python",
   "name": "python3"
  },
  "language_info": {
   "codemirror_mode": {
    "name": "ipython",
    "version": 3
   },
   "file_extension": ".py",
   "mimetype": "text/x-python",
   "name": "python",
   "nbconvert_exporter": "python",
   "pygments_lexer": "ipython3",
   "version": "3.9.7"
  }
 },
 "nbformat": 4,
 "nbformat_minor": 5
}
