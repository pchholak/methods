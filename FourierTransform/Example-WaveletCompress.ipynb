{
 "cells": [
  {
   "cell_type": "code",
   "execution_count": 1,
   "id": "3874808e",
   "metadata": {},
   "outputs": [],
   "source": [
    "%matplotlib qt\n",
    "from matplotlib.image import imread\n",
    "import numpy as np\n",
    "import matplotlib.pyplot as plt\n",
    "import os\n",
    "import pywt\n",
    "plt.rcParams['figure.figsize'] = [8, 8]\n",
    "plt.rcParams['font.size'] = 18\n",
    "\n",
    "A = imread(os.path.join('/Users/creator/data/databookuw/', 'dog.jpg'))\n",
    "B = np.mean(A, -1) # Convert RGB to grayscale"
   ]
  },
  {
   "cell_type": "code",
   "execution_count": 2,
   "id": "c0920907",
   "metadata": {},
   "outputs": [],
   "source": [
    "## Wavelet compression\n",
    "n = 4\n",
    "w = 'db1'\n",
    "coeffs = pywt.wavedec2(B, wavelet=w, level=n)\n",
    "\n",
    "coeff_arr, coeff_slices = pywt.coeffs_to_array(coeffs)"
   ]
  },
  {
   "cell_type": "code",
   "execution_count": 4,
   "id": "369b62d5",
   "metadata": {},
   "outputs": [],
   "source": [
    "Csort = np.sort(np.abs(coeff_arr.reshape(-1)))\n",
    "\n",
    "for keep in (0.1, 0.05, 0.01, 0.005):\n",
    "    thresh = Csort[int(np.floor((1 - keep) * len(Csort)))]\n",
    "    ind = np.abs(coeff_arr) > thresh\n",
    "    Cfilt = coeff_arr * ind # Threshold small indices\n",
    "    \n",
    "    coeffs_filt = pywt.array_to_coeffs(Cfilt, coeff_slices, output_format='wavedec2')\n",
    "    \n",
    "    # Plot reconstruction\n",
    "    Brecon = pywt.waverec2(coeffs_filt, wavelet=w)\n",
    "    plt.figure()\n",
    "    plt.imshow(Brecon.astype('uint8'), cmap='gray')\n",
    "    plt.axis('off')\n",
    "    plt.title('keep = ' + str(keep))\n",
    "    \n",
    "plt.show()"
   ]
  },
  {
   "cell_type": "code",
   "execution_count": null,
   "id": "1fa6003e",
   "metadata": {},
   "outputs": [],
   "source": []
  }
 ],
 "metadata": {
  "kernelspec": {
   "display_name": "Python 3 (ipykernel)",
   "language": "python",
   "name": "python3"
  },
  "language_info": {
   "codemirror_mode": {
    "name": "ipython",
    "version": 3
   },
   "file_extension": ".py",
   "mimetype": "text/x-python",
   "name": "python",
   "nbconvert_exporter": "python",
   "pygments_lexer": "ipython3",
   "version": "3.9.7"
  }
 },
 "nbformat": 4,
 "nbformat_minor": 5
}
