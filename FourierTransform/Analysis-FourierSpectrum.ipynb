{
 "cells": [
  {
   "cell_type": "code",
   "execution_count": null,
   "id": "d9503e20",
   "metadata": {},
   "outputs": [],
   "source": [
    "%matplotlib qt\n",
    "import numpy as np\n",
    "import matplotlib.pyplot as plt\n",
    "\n",
    "plt.rcParams['figure.figsize'] = [16, 12]\n",
    "plt.rcParams['font.size'] = 18"
   ]
  },
  {
   "cell_type": "code",
   "execution_count": null,
   "id": "7fd57627",
   "metadata": {},
   "outputs": [],
   "source": [
    "def computeFourierPowerSpectrum1D(x, Fs, to_window=True, to_plot=True):\n",
    "    '''\n",
    "    Compute the Fourier power spectrum of the signal `x` sampled\n",
    "    at frequency `Fs`.\n",
    "    '''\n",
    "    n = len(x)\n",
    "    \n",
    "    # Windowing\n",
    "    if to_window:\n",
    "        w = np.hamming(n)\n",
    "        x = w * x\n",
    "    \n",
    "    # FFT\n",
    "    xhat = np.fft.fft(x, n)\n",
    "    psd = np.real(xhat * np.conj(xhat) / n) # power spectral density\n",
    "    freq = Fs / n * np.arange(n)\n",
    "    k = np.arange(np.floor(n / 2), dtype='int') # only plot the first half of frequencies\n",
    "    \n",
    "    # Plot power spectrum\n",
    "    if to_plot:\n",
    "        plt.figure()\n",
    "        plt.plot(freq[k], psd[k], color='k', lw=2)\n",
    "        plt.show()\n",
    "        \n",
    "    return psd[k], freq[k]\n",
    "\n",
    "def computeFourierPowerSpectrumND(X, Fs, to_window=True, to_plot=True):\n",
    "    '''\n",
    "    Compute the Fourier power spectrum of the N-channel block `X`\n",
    "    [nSamples, nChannels] sampled at frequency `Fs`.\n",
    "    '''\n",
    "    n = np.size(X, 1)\n",
    "    \n",
    "    # Windowing\n",
    "    if to_window:\n",
    "        w = np.hamming(n)\n",
    "        X = w * X\n",
    "    \n",
    "    # FFT\n",
    "    Xhat = np.fft.fftn(X)\n",
    "    psd = np.real(Xhat * np.conj(Xhat)) / n # power spectral density\n",
    "    freq = Fs / n * np.arange(n)\n",
    "    k = np.arange(np.floor(n / 2), dtype='int') # only plot the first half of frequencies\n",
    "    \n",
    "    # Plot power spectrum\n",
    "    if to_plot:\n",
    "        plt.figure()\n",
    "        for p in psd:\n",
    "            plt.plot(freq[k], p[k], '-.')\n",
    "        plt.show()\n",
    "        \n",
    "    return psd[:, k], freq[k]"
   ]
  },
  {
   "cell_type": "code",
   "execution_count": null,
   "id": "51a14209",
   "metadata": {},
   "outputs": [],
   "source": [
    "# Create a simple signal with two frequencies\n",
    "dt = 0.001\n",
    "t = np.arange(0, 1, dt)\n",
    "f1 = np.sin(2 * np.pi * 50 * t) + np.sin(2 * np.pi * 120 * t) # sum of two frequencies\n",
    "f2 = np.sin(2 * np.pi * 35 * t) + np.cos(2 * np.pi * 110 * t) # sum of two frequencies\n",
    "data = np.array([f1, f2, 2 * f1, 5 * f2])\n",
    "data = data + 2.5 * np.random.randn(np.size(data, 0), np.size(data, 1))"
   ]
  },
  {
   "cell_type": "code",
   "execution_count": null,
   "id": "077cb4f7",
   "metadata": {},
   "outputs": [],
   "source": [
    "pw, fw = computeFourierPowerSpectrumND(data, 1 / dt)"
   ]
  },
  {
   "cell_type": "code",
   "execution_count": null,
   "id": "eeaad9e4",
   "metadata": {},
   "outputs": [],
   "source": []
  }
 ],
 "metadata": {
  "kernelspec": {
   "display_name": "Python 3 (ipykernel)",
   "language": "python",
   "name": "python3"
  },
  "language_info": {
   "codemirror_mode": {
    "name": "ipython",
    "version": 3
   },
   "file_extension": ".py",
   "mimetype": "text/x-python",
   "name": "python",
   "nbconvert_exporter": "python",
   "pygments_lexer": "ipython3",
   "version": "3.9.7"
  }
 },
 "nbformat": 4,
 "nbformat_minor": 5
}
