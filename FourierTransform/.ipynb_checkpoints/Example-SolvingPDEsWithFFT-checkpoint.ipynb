{
 "cells": [
  {
   "cell_type": "code",
   "execution_count": 1,
   "id": "3f5193e4",
   "metadata": {},
   "outputs": [],
   "source": [
    "%matplotlib qt\n",
    "import numpy as np\n",
    "import matplotlib.pyplot as plt\n",
    "from scipy.integrate import odeint\n",
    "from mpl_toolkits.mplot3d import axes3d\n",
    "plt.rcParams['figure.figsize'] = [12, 12]\n",
    "plt.rcParams['font.size'] = 18"
   ]
  },
  {
   "cell_type": "markdown",
   "id": "fad1db3c",
   "metadata": {},
   "source": [
    "# Solving the heat equation"
   ]
  },
  {
   "cell_type": "code",
   "execution_count": null,
   "id": "b8a07250",
   "metadata": {},
   "outputs": [],
   "source": [
    "a = 1 # thermal diffusivity constant\n",
    "L = 100 # Length of domain\n",
    "N = 1000 # Number of discretization points\n",
    "dx = L / N\n",
    "x = np.arange(-L / 2, L / 2, dx) # Define x domain\n",
    "\n",
    "# Define discrete wavenumbers\n",
    "kappa = 2 * np.pi * np.fft.fftfreq(N, d=dx)\n",
    "\n",
    "# Initial condition\n",
    "u0 = np.zeros_like(x)\n",
    "u0[int((L / 2 - L / 10) / dx):int((L / 2 + L / 10) / dx)] = 1\n",
    "u0hat = np.fft.fft(u0)\n",
    "\n",
    "# Scipy's odeint function doesn't play well with complex numbers, so we recast\n",
    "# the state u0hat from an N-element complex vector to a 2N-element real vector\n",
    "u0hat_ri = np.concatenate((u0hat.real, u0hat.imag))\n",
    "\n",
    "# Simulate in Fourier frequency domain\n",
    "dt = 0.1\n",
    "t = np.arange(0, 10, dt)\n",
    "\n",
    "def rhsHeat(uhat_ri, t, kappa, a):\n",
    "    uhat = uhat_ri[:N] + (1j) * uhat_ri[N:]\n",
    "    d_uhat = - a ** 2 * np.power(kappa, 2) * uhat\n",
    "    d_uhat_ri = np.concatenate((d_uhat.real, d_uhat.imag)).astype('float64')\n",
    "    return d_uhat_ri\n",
    "\n",
    "uhat_ri = odeint(rhsHeat, u0hat_ri, t, args=(kappa, a))\n",
    "\n",
    "uhat = uhat_ri[:, :N] + (1j) * uhat_ri[:, N:]\n",
    "\n",
    "u = np.zeros_like(uhat)\n",
    "\n",
    "for k in range(len(t)):\n",
    "    u[k, :] = np.fft.ifft(uhat[k, :])\n",
    "    \n",
    "u = u.real\n",
    "\n",
    "# Waterfall plot\n",
    "fig = plt.figure()\n",
    "ax = fig.add_subplot(111, projection='3d')\n",
    "\n",
    "u_plot = u[0:-1:10, :]\n",
    "for j in range(u_plot.shape[0]):\n",
    "    ys = j * np.ones(u_plot.shape[1])\n",
    "    ax.plot(x, ys, u_plot[j, :])\n",
    "    \n",
    "# Image plot\n",
    "plt.figure()\n",
    "plt.imshow(np.flipud(u), aspect=8)\n",
    "plt.axis('off')\n",
    "plt.show()"
   ]
  },
  {
   "cell_type": "markdown",
   "id": "aaa8b0db",
   "metadata": {},
   "source": [
    "# Solving the 1-D wave equation"
   ]
  },
  {
   "cell_type": "code",
   "execution_count": 2,
   "id": "5adb9c86",
   "metadata": {},
   "outputs": [],
   "source": [
    "c = 2 # Wave speed\n",
    "L = 20 # Length of domain\n",
    "N = 1000 # Number of discretization points\n",
    "dx = L / N\n",
    "x = np.arange(-L/2, L/2, dx) # Define x domain\n",
    "\n",
    "# Define discrete wavenumbers\n",
    "kappa = 2 * np.pi * np.fft.fftfreq(N, d=dx)\n",
    "\n",
    "# Initial condition\n",
    "u0 = 1 / np.cosh(x)\n",
    "u0hat = np.fft.fft(u0)\n",
    "\n",
    "# Scipy's odeint function doesn't play well with complex numbers, so we recast\n",
    "# the state u0hat from an N-element complex vector to a 2N-element real vector\n",
    "u0hat_ri = np.concatenate((u0hat.real, u0hat.imag))\n",
    "\n",
    "# Simulate in Fourier frequency domain\n",
    "dt = 0.025\n",
    "t = np.arange(0, 100*dt, dt)\n",
    "\n",
    "def rhsWave(uhat_ri, t, kappa, c):\n",
    "    uhat = uhat_ri[:N] + (1j) * uhat_ri[N:]\n",
    "    d_uhat = -c * (1j) * kappa * uhat\n",
    "    d_uhat_ri = np.concatenate((d_uhat.real, d_uhat.imag)).astype('float64')\n",
    "    return d_uhat_ri\n",
    "\n",
    "uhat_ri = odeint(rhsWave, u0hat_ri, t, args=(kappa, c))\n",
    "uhat = uhat_ri[:, :N] + (1j) * uhat_ri[:, N:]\n",
    "\n",
    "# Inverse FFT to bring back to spatial domain\n",
    "u = np.zeros_like(uhat)\n",
    "\n",
    "for k in range(len(t)):\n",
    "    u[k, :] = np.fft.ifft(uhat[k, :])\n",
    "    \n",
    "u = u.real"
   ]
  },
  {
   "cell_type": "code",
   "execution_count": 8,
   "id": "53c8c76a",
   "metadata": {},
   "outputs": [],
   "source": [
    "# Alternatively, simulate in spatial domain\n",
    "def rhsWaveSpatial(u, t, kappa, c):\n",
    "    uhat = np.fft.fft(u)\n",
    "    d_uhat = (1j) * kappa * uhat\n",
    "    d_u = np.fft.ifft(d_uhat).real\n",
    "    du_dt = -c * d_u\n",
    "    return du_dt\n",
    "\n",
    "u = odeint(rhsWaveSpatial, u0, t, args=(kappa, c))"
   ]
  },
  {
   "cell_type": "code",
   "execution_count": 9,
   "id": "92262104",
   "metadata": {},
   "outputs": [],
   "source": [
    "# Waterfall plot\n",
    "fig = plt.figure()\n",
    "ax = fig.add_subplot(111, projection='3d')\n",
    "\n",
    "u_plot = u[0:-1:10, :]\n",
    "for j in range(u_plot.shape[0]):\n",
    "    ys = j * np.ones(u_plot.shape[1])\n",
    "    ax.plot(x, ys, u_plot[j, :])\n",
    "    \n",
    "# Image plot\n",
    "plt.figure()\n",
    "plt.imshow(np.flipud(u), aspect=8)\n",
    "plt.axis('off')\n",
    "plt.show()"
   ]
  },
  {
   "cell_type": "markdown",
   "id": "d66c0e93",
   "metadata": {},
   "source": [
    "# Solving the nonlinear Burgers equation"
   ]
  },
  {
   "cell_type": "code",
   "execution_count": 10,
   "id": "f781b985",
   "metadata": {},
   "outputs": [],
   "source": [
    "nu = 0.001 # Diffusion constant\n",
    "L = 20 # Length of domain\n",
    "N = 1000 # Number of discretization points\n",
    "dx = L / N\n",
    "x = np.arange(-L/2, L/2, dx) # Define x domain\n",
    "\n",
    "# Define discrete wavenumbers\n",
    "kappa = 2 * np.pi * np.fft.fftfreq(N, d=dx)\n",
    "\n",
    "# Initial condition\n",
    "u0 = 1 / np.cosh(x)"
   ]
  },
  {
   "cell_type": "code",
   "execution_count": 11,
   "id": "f003409d",
   "metadata": {},
   "outputs": [],
   "source": [
    "# Simulate PDE in spatial domain\n",
    "dt = 0.025\n",
    "t = np.arange(0, 100*dt, dt)\n",
    "\n",
    "def rhsBurgers(u, t, kappa, nu):\n",
    "    uhat = np.fft.fft(u)\n",
    "    d_uhat = (1j) * kappa * uhat\n",
    "    dd_uhat = -np.power(kappa, 2) * uhat\n",
    "    d_u = np.fft.ifft(d_uhat)\n",
    "    dd_u = np.fft.ifft(dd_uhat)\n",
    "    du_dt = -u * d_u + nu * dd_u\n",
    "    return du_dt.real\n",
    "\n",
    "u = odeint(rhsBurgers, u0, t, args=(kappa, nu))"
   ]
  },
  {
   "cell_type": "code",
   "execution_count": 12,
   "id": "a62b5f99",
   "metadata": {},
   "outputs": [],
   "source": [
    "# Waterfall plot\n",
    "fig = plt.figure()\n",
    "ax = fig.add_subplot(111, projection='3d')\n",
    "\n",
    "u_plot = u[0:-1:10, :]\n",
    "for j in range(u_plot.shape[0]):\n",
    "    ys = j * np.ones(u_plot.shape[1])\n",
    "    ax.plot(x, ys, u_plot[j, :])\n",
    "    \n",
    "# Image plot\n",
    "plt.figure()\n",
    "plt.imshow(np.flipud(u), aspect=8)\n",
    "plt.axis('off')\n",
    "plt.show()"
   ]
  },
  {
   "cell_type": "code",
   "execution_count": null,
   "id": "2b679d40",
   "metadata": {},
   "outputs": [],
   "source": []
  }
 ],
 "metadata": {
  "kernelspec": {
   "display_name": "Python 3 (ipykernel)",
   "language": "python",
   "name": "python3"
  },
  "language_info": {
   "codemirror_mode": {
    "name": "ipython",
    "version": 3
   },
   "file_extension": ".py",
   "mimetype": "text/x-python",
   "name": "python",
   "nbconvert_exporter": "python",
   "pygments_lexer": "ipython3",
   "version": "3.9.7"
  }
 },
 "nbformat": 4,
 "nbformat_minor": 5
}
