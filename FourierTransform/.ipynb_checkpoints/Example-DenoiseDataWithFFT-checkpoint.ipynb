{
 "cells": [
  {
   "cell_type": "code",
   "execution_count": 1,
   "id": "d9503e20",
   "metadata": {},
   "outputs": [],
   "source": [
    "%matplotlib qt\n",
    "import numpy as np\n",
    "import matplotlib.pyplot as plt"
   ]
  },
  {
   "cell_type": "code",
   "execution_count": 2,
   "id": "6ce32b71",
   "metadata": {},
   "outputs": [],
   "source": [
    "plt.rcParams['figure.figsize'] = [16, 12]\n",
    "plt.rcParams['font.size'] = 18"
   ]
  },
  {
   "cell_type": "code",
   "execution_count": 4,
   "id": "51a14209",
   "metadata": {},
   "outputs": [],
   "source": [
    "# Create a simple signal with two frequencies\n",
    "dt = 0.001\n",
    "t = np.arange(0, 1, dt)\n",
    "f = np.sin(2 * np.pi * 50 * t) + np.sin(2 * np.pi * 120 * t) # sum of two frequencies\n",
    "f_clean = f\n",
    "f = f + 2.5 * np.random.randn(len(t)) # add some noise\n",
    "\n",
    "plt.plot(t, f, color='c', lw=1.5, label='Noisy')\n",
    "plt.plot(t, f_clean, color='k', lw=2, label='Clean')\n",
    "plt.xlim(t[0], t[-1])\n",
    "plt.legend()\n",
    "plt.show()"
   ]
  },
  {
   "cell_type": "code",
   "execution_count": 13,
   "id": "b2c4678d",
   "metadata": {},
   "outputs": [],
   "source": [
    "## Compute the Fast Fourier Transform (FFT)\n",
    "n = len(t)\n",
    "fhat = np.fft.fft(f, n) # Compute the FFT\n",
    "PSD = np.real(fhat * np.conj(fhat) / n) # Power spectrum (power per freq)\n",
    "freq = (1 / (dt * n)) * np.arange(n) # Create x-axis of frequencies in Hz\n",
    "L = np.arange(1, np.floor(n / 2), dtype='int') # only plot the first half of frequencies"
   ]
  },
  {
   "cell_type": "code",
   "execution_count": 14,
   "id": "36bc080e",
   "metadata": {},
   "outputs": [],
   "source": [
    "## Use the PSD to filter out noise\n",
    "indices = PSD > 100 # Find all freqs with large power\n",
    "PSDclean = PSD * indices # Zero out all others\n",
    "fhat = indices * fhat # Zero out small Fourier coeffs. in Y\n",
    "ffilt = np.real(np.fft.ifft(fhat)) # Inverse FFT for filtered time signal"
   ]
  },
  {
   "cell_type": "code",
   "execution_count": 15,
   "id": "30dad84d",
   "metadata": {},
   "outputs": [],
   "source": [
    "## Plots\n",
    "fig, axs = plt.subplots(3, 1)\n",
    "\n",
    "plt.sca(axs[0])\n",
    "plt.plot(t, f, color='r', lw=1.5, label='Noisy')\n",
    "plt.plot(t, f_clean, color='k', lw=2, label='Clean')\n",
    "plt.xlim(t[0], t[-1])\n",
    "plt.legend()\n",
    "\n",
    "plt.sca(axs[1])\n",
    "plt.plot(t, f_clean, color='k', lw=1.5, label='Clean')\n",
    "plt.plot(t, ffilt, color='b', lw=2, label='Filtered')\n",
    "plt.xlim(t[0], t[-1])\n",
    "plt.legend()\n",
    "\n",
    "plt.sca(axs[2])\n",
    "plt.plot(freq[L], PSD[L], color='r', lw=2, label='Noisy')\n",
    "plt.plot(freq[L], PSDclean[L], color='b', lw=1.5, label='Filtered')\n",
    "plt.legend()\n",
    "\n",
    "plt.show()"
   ]
  },
  {
   "cell_type": "code",
   "execution_count": null,
   "id": "efcc5103",
   "metadata": {},
   "outputs": [],
   "source": []
  }
 ],
 "metadata": {
  "kernelspec": {
   "display_name": "Python 3 (ipykernel)",
   "language": "python",
   "name": "python3"
  },
  "language_info": {
   "codemirror_mode": {
    "name": "ipython",
    "version": 3
   },
   "file_extension": ".py",
   "mimetype": "text/x-python",
   "name": "python",
   "nbconvert_exporter": "python",
   "pygments_lexer": "ipython3",
   "version": "3.9.7"
  }
 },
 "nbformat": 4,
 "nbformat_minor": 5
}
