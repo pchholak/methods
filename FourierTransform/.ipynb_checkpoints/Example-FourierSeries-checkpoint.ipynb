{
 "cells": [
  {
   "cell_type": "code",
   "execution_count": 1,
   "id": "04ef5ffa",
   "metadata": {},
   "outputs": [],
   "source": [
    "%matplotlib qt\n",
    "import numpy as np\n",
    "import matplotlib.pyplot as plt\n",
    "from matplotlib.cm import get_cmap"
   ]
  },
  {
   "cell_type": "code",
   "execution_count": 2,
   "id": "38acb5fc",
   "metadata": {},
   "outputs": [],
   "source": [
    "plt.rcParams['figure.figsize'] = [8, 8]\n",
    "plt.rcParams.update({'font.size': 18})"
   ]
  },
  {
   "cell_type": "code",
   "execution_count": 3,
   "id": "d895063a",
   "metadata": {},
   "outputs": [],
   "source": [
    "# Define domain\n",
    "dx = 0.001\n",
    "L = np.pi # L' / 2, where L' is the \"L\" given in the notes\n",
    "x = L * np.arange(-1+dx, 1+dx, dx)\n",
    "n = len(x)\n",
    "nquart = int(np.floor(n/4))"
   ]
  },
  {
   "cell_type": "code",
   "execution_count": 4,
   "id": "45609764",
   "metadata": {},
   "outputs": [
    {
     "data": {
      "text/plain": [
       "[<matplotlib.lines.Line2D at 0x7ff2f005f640>]"
      ]
     },
     "execution_count": 4,
     "metadata": {},
     "output_type": "execute_result"
    }
   ],
   "source": [
    "# Define hat function\n",
    "f = np.zeros_like(x)\n",
    "f[nquart:2*nquart] = (4 / n) * np.arange(1, nquart+1)\n",
    "f[2*nquart:3*nquart] = np.ones(nquart) - (4 / n) * np.arange(0, nquart)\n",
    "\n",
    "fig, ax = plt.subplots()\n",
    "ax.plot(x, f, '-', color='k', lw='2')"
   ]
  },
  {
   "cell_type": "code",
   "execution_count": 5,
   "id": "bb41c96f",
   "metadata": {},
   "outputs": [],
   "source": [
    "# Compute Fourier series\n",
    "name = 'Accent'\n",
    "cmap = get_cmap('tab10')\n",
    "colors = cmap.colors\n",
    "ax.set_prop_cycle(color=colors)\n",
    "\n",
    "A0 = np.sum(f * np.ones_like(x)) * dx\n",
    "fFS = A0 / 2\n",
    "\n",
    "A = np.zeros(20)\n",
    "B = np.zeros(20)\n",
    "for k in range(20):\n",
    "    A[k] = np.sum(f * np.cos(np.pi * (k + 1) * x / L)) * dx # Inner product\n",
    "    B[k] = np.sum(f * np.sin(np.pi * (k + 1) * x / L)) * dx\n",
    "    fFS = fFS + A[k] * np.cos(np.pi * (k + 1) * x / L) + B[k] * np.sin(np.pi * (k + 1) * x / L)\n",
    "    ax.plot(x, fFS, '-')"
   ]
  },
  {
   "cell_type": "code",
   "execution_count": 6,
   "id": "960c723d",
   "metadata": {},
   "outputs": [
    {
     "name": "stderr",
     "output_type": "stream",
     "text": [
      "/var/folders/mc/t78cdvqx443cmt0dpm16qhy00000gn/T/ipykernel_50978/2307358971.py:23: MatplotlibDeprecationWarning: Case-insensitive properties were deprecated in 3.3 and support will be removed two minor releases later\n",
      "  axs[0].semilogy(r, A[r], 'o', color='b', MarkerSize=10)\n",
      "/var/folders/mc/t78cdvqx443cmt0dpm16qhy00000gn/T/ipykernel_50978/2307358971.py:28: MatplotlibDeprecationWarning: Case-insensitive properties were deprecated in 3.3 and support will be removed two minor releases later\n",
      "  axs[1].semilogy(r, ERR[r], 'o', color='b', MarkerSize=10)\n"
     ]
    }
   ],
   "source": [
    "## Plot amplitudes\n",
    "\n",
    "fFS = (A0 / 2) * np.ones_like(f)\n",
    "kmax = 100\n",
    "A = np.zeros(kmax)\n",
    "B = np.zeros(kmax)\n",
    "ERR = np.zeros(kmax)\n",
    "\n",
    "A[0] = A0 / 2\n",
    "ERR[0] = np.linalg.norm(f - fFS) / np.linalg.norm(f)\n",
    "\n",
    "for k in range(1, kmax):\n",
    "    A[k] = np.sum(f * np.cos(np.pi * k * x / L)) * dx # Inner product\n",
    "    B[k] = np.sum(f * np.sin(np.pi * k * x / L)) * dx\n",
    "    fFS = fFS + A[k] * np.cos(np.pi * k * x / L) + B[k] * np.sin(np.pi * k * x / L)\n",
    "    ERR[k] = np.linalg.norm(f - fFS) / np.linalg.norm(f)\n",
    "    \n",
    "thresh = np.median(ERR) * np.sqrt(kmax) * 4 / np.sqrt(3)\n",
    "r = np.max(np.where(ERR > thresh))\n",
    "\n",
    "fig, axs = plt.subplots(2, 1)\n",
    "axs[0].semilogy(np.arange(kmax), A, color='k', lw=2)\n",
    "axs[0].semilogy(r, A[r], 'o', color='b', MarkerSize=10)\n",
    "plt.sca(axs[0])\n",
    "plt.title('Fourier Coefficients')\n",
    "\n",
    "axs[1].semilogy(np.arange(kmax), ERR, color='k', lw=2)\n",
    "axs[1].semilogy(r, ERR[r], 'o', color='b', MarkerSize=10)\n",
    "plt.sca(axs[1])\n",
    "plt.title('Error')\n",
    "\n",
    "plt.show()"
   ]
  },
  {
   "cell_type": "code",
   "execution_count": null,
   "id": "f2407649",
   "metadata": {},
   "outputs": [],
   "source": []
  }
 ],
 "metadata": {
  "kernelspec": {
   "display_name": "Python 3 (ipykernel)",
   "language": "python",
   "name": "python3"
  },
  "language_info": {
   "codemirror_mode": {
    "name": "ipython",
    "version": 3
   },
   "file_extension": ".py",
   "mimetype": "text/x-python",
   "name": "python",
   "nbconvert_exporter": "python",
   "pygments_lexer": "ipython3",
   "version": "3.9.7"
  }
 },
 "nbformat": 4,
 "nbformat_minor": 5
}
