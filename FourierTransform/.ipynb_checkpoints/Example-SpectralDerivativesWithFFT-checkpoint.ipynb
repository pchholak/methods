{
 "cells": [
  {
   "cell_type": "code",
   "execution_count": 1,
   "id": "e4913ede",
   "metadata": {},
   "outputs": [],
   "source": [
    "%matplotlib qt\n",
    "import numpy as np\n",
    "import matplotlib.pyplot as plt"
   ]
  },
  {
   "cell_type": "code",
   "execution_count": 3,
   "id": "b2d4749d",
   "metadata": {},
   "outputs": [],
   "source": [
    "plt.rcParams['figure.figsize'] = [12, 12]\n",
    "plt.rcParams['font.size'] = 18\n",
    "\n",
    "n = 128\n",
    "L = 30\n",
    "dx = L / n\n",
    "x = np.arange(-L / 2, L / 2, dx, dtype='complex_')\n",
    "f = np.cos(x) * np.exp(-np.power(x, 2) / 25) # Function\n",
    "df = -(np.sin(x) * np.exp(-np.power(x, 2) / 25) + 2 / 25 * x * f) # Derivative"
   ]
  },
  {
   "cell_type": "code",
   "execution_count": 4,
   "id": "53de90cc",
   "metadata": {},
   "outputs": [],
   "source": [
    "## Approximate derivative using finite difference\n",
    "dfFD = np.zeros(len(df), dtype='complex_')\n",
    "for kappa in range(len(df) - 1):\n",
    "    dfFD[kappa] = (f[kappa + 1] - f[kappa]) / dx\n",
    "    \n",
    "dfFD[-1] = dfFD[-2]"
   ]
  },
  {
   "cell_type": "code",
   "execution_count": 5,
   "id": "bd228d1e",
   "metadata": {},
   "outputs": [],
   "source": [
    "## Derivative using FFT (spectral derivative)\n",
    "fhat = np.fft.fft(f)\n",
    "kappa = 2 * np.pi / L * np.arange(-n / 2, n / 2)\n",
    "kappa = np.fft.fftshift(kappa) # Re-order fft frequencies\n",
    "dfhat = kappa * fhat * (1j)\n",
    "dfFFT = np.real(np.fft.ifft(dfhat))"
   ]
  },
  {
   "cell_type": "code",
   "execution_count": 6,
   "id": "630d8ceb",
   "metadata": {},
   "outputs": [
    {
     "name": "stderr",
     "output_type": "stream",
     "text": [
      "/opt/anaconda3/lib/python3.9/site-packages/numpy/core/_asarray.py:102: ComplexWarning: Casting complex values to real discards the imaginary part\n",
      "  return array(a, dtype, copy=False, order=order)\n",
      "/opt/anaconda3/lib/python3.9/site-packages/numpy/core/_asarray.py:102: ComplexWarning: Casting complex values to real discards the imaginary part\n",
      "  return array(a, dtype, copy=False, order=order)\n",
      "/opt/anaconda3/lib/python3.9/site-packages/numpy/core/_asarray.py:102: ComplexWarning: Casting complex values to real discards the imaginary part\n",
      "  return array(a, dtype, copy=False, order=order)\n"
     ]
    }
   ],
   "source": [
    "## Plots\n",
    "plt.plot(x, df.real, color='k', lw=2, label='True Derivative')\n",
    "plt.plot(x, dfFD.real, '--', color='b', lw=1.5, label='Finite Diff.')\n",
    "plt.plot(x, dfFFT.real, '--', color='r', lw=1.5, label='FFT Derivative')\n",
    "plt.legend()\n",
    "plt.show()"
   ]
  },
  {
   "cell_type": "code",
   "execution_count": null,
   "id": "90296192",
   "metadata": {},
   "outputs": [],
   "source": []
  }
 ],
 "metadata": {
  "kernelspec": {
   "display_name": "Python 3 (ipykernel)",
   "language": "python",
   "name": "python3"
  },
  "language_info": {
   "codemirror_mode": {
    "name": "ipython",
    "version": 3
   },
   "file_extension": ".py",
   "mimetype": "text/x-python",
   "name": "python",
   "nbconvert_exporter": "python",
   "pygments_lexer": "ipython3",
   "version": "3.9.7"
  }
 },
 "nbformat": 4,
 "nbformat_minor": 5
}
