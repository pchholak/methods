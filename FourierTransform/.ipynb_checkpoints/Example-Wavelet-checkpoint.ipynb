{
 "cells": [
  {
   "cell_type": "code",
   "execution_count": 2,
   "id": "f1ed09b8",
   "metadata": {},
   "outputs": [],
   "source": [
    "%matplotlib qt\n",
    "from matplotlib.image import imread\n",
    "import numpy as np\n",
    "import matplotlib.pyplot as plt\n",
    "import os\n",
    "import pywt\n",
    "plt.rcParams['figure.figsize'] = [12, 8]\n",
    "plt.rcParams['font.size'] = 18\n",
    "\n",
    "A = imread(os.path.join('/Users/creator/data/databookuw/', 'dog.jpg'))\n",
    "B = np.mean(A, -1) # Convert RGB to grayscale"
   ]
  },
  {
   "cell_type": "code",
   "execution_count": 3,
   "id": "f1e0c33e",
   "metadata": {},
   "outputs": [],
   "source": [
    "## Wavelet decomposition (2 level)\n",
    "n = 2\n",
    "w = 'db1'\n",
    "coeffs = pywt.wavedec2(B, wavelet=w, level=n)"
   ]
  },
  {
   "cell_type": "code",
   "execution_count": 14,
   "id": "c8442960",
   "metadata": {},
   "outputs": [
    {
     "name": "stdout",
     "output_type": "stream",
     "text": [
      "Shape of B = (2000, 1500)\n",
      "Shape of Coeffs[0] = (500, 375)\n"
     ]
    }
   ],
   "source": [
    "print('Shape of B =', np.shape(B))\n",
    "print('Shape of Coeffs[0] =', np.shape(coeffs[0]))"
   ]
  },
  {
   "cell_type": "code",
   "execution_count": 15,
   "id": "8bcafd37",
   "metadata": {},
   "outputs": [],
   "source": [
    "# Normalize each coefficient array\n",
    "coeffs[0] /= np.abs(coeffs[0]).max()\n",
    "for detail_level in range(n):\n",
    "    coeffs[detail_level + 1] = [d / np.abs(d).max() for d in coeffs[detail_level + 1]]\n",
    "    \n",
    "arr, coeff_slices = pywt.coeffs_to_array(coeffs)\n",
    "\n",
    "plt.imshow(arr, cmap='gray', vmin=-0.25, vmax=0.75)\n",
    "plt.show()"
   ]
  },
  {
   "cell_type": "code",
   "execution_count": null,
   "id": "5293ebab",
   "metadata": {},
   "outputs": [],
   "source": []
  }
 ],
 "metadata": {
  "kernelspec": {
   "display_name": "Python 3 (ipykernel)",
   "language": "python",
   "name": "python3"
  },
  "language_info": {
   "codemirror_mode": {
    "name": "ipython",
    "version": 3
   },
   "file_extension": ".py",
   "mimetype": "text/x-python",
   "name": "python",
   "nbconvert_exporter": "python",
   "pygments_lexer": "ipython3",
   "version": "3.9.7"
  }
 },
 "nbformat": 4,
 "nbformat_minor": 5
}
