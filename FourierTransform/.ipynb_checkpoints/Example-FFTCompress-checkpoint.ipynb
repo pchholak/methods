{
 "cells": [
  {
   "cell_type": "code",
   "execution_count": 1,
   "id": "88b65832",
   "metadata": {},
   "outputs": [],
   "source": [
    "%matplotlib qt\n",
    "from matplotlib.image import imread\n",
    "import numpy as np\n",
    "import matplotlib.pyplot as plt\n",
    "import os\n",
    "plt.rcParams['figure.figsize'] = [12, 8]\n",
    "plt.rcParams['font.size'] = 18"
   ]
  },
  {
   "cell_type": "code",
   "execution_count": 2,
   "id": "766e4ba4",
   "metadata": {},
   "outputs": [],
   "source": [
    "A = imread(os.path.join('/Users/creator/data/databookuw/', 'dog.jpg'))\n",
    "B = np.mean(A, -1) # Convert RGB to grayscale\n",
    "\n",
    "Bt = np.fft.fft2(B)\n",
    "Btsort = np.sort(np.abs(Bt.reshape(-1))) # sort by magnitude\n",
    "\n",
    "# Zero out all small coefficients and inverse transform\n",
    "for keep in (0.1, 0.05, 0.01, 0.002):\n",
    "    thresh = Btsort[int(np.floor((1 - keep) * len(Btsort)))]\n",
    "    ind = np.abs(Bt) > thresh # Find small indices\n",
    "    Btlow = Bt * ind # Threshold small indices\n",
    "    Blow = np.fft.ifft2(Btlow).real # Compressed image\n",
    "    plt.figure()\n",
    "    plt.imshow(Blow, cmap='gray')\n",
    "    plt.axis('off')\n",
    "    plt.title('Compressed image: keep = ' + str(keep))\n",
    "    \n",
    "plt.show()"
   ]
  },
  {
   "cell_type": "code",
   "execution_count": null,
   "id": "d9a804fa",
   "metadata": {},
   "outputs": [],
   "source": []
  }
 ],
 "metadata": {
  "kernelspec": {
   "display_name": "Python 3 (ipykernel)",
   "language": "python",
   "name": "python3"
  },
  "language_info": {
   "codemirror_mode": {
    "name": "ipython",
    "version": 3
   },
   "file_extension": ".py",
   "mimetype": "text/x-python",
   "name": "python",
   "nbconvert_exporter": "python",
   "pygments_lexer": "ipython3",
   "version": "3.9.7"
  }
 },
 "nbformat": 4,
 "nbformat_minor": 5
}
