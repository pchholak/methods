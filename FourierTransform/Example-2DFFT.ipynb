{
 "cells": [
  {
   "cell_type": "code",
   "execution_count": 1,
   "id": "f5a56958",
   "metadata": {},
   "outputs": [],
   "source": [
    "%matplotlib qt\n",
    "from matplotlib.image import imread\n",
    "import numpy as np\n",
    "import matplotlib.pyplot as plt\n",
    "import os\n",
    "plt.rcParams['figure.figsize'] = [12, 8]\n",
    "plt.rcParams['font.size'] = 18"
   ]
  },
  {
   "cell_type": "code",
   "execution_count": 2,
   "id": "f37ff328",
   "metadata": {},
   "outputs": [],
   "source": [
    "A = imread(os.path.join('/Users/creator/data/databookuw/', 'dog.jpg'))\n",
    "B = np.mean(A, -1) # Convert RGB to grayscale\n",
    "\n",
    "fig, axs = plt.subplots(1, 3)\n",
    "\n",
    "# Plot image\n",
    "img = axs[0].imshow(B)\n",
    "img.set_cmap('gray')\n",
    "axs[0].axis('off')\n",
    "\n",
    "# Compute row-wise FFT\n",
    "Cshift = np.zeros_like(B, dtype='complex_')\n",
    "C = np.zeros_like(B, dtype='complex_')\n",
    "\n",
    "for j in range(B.shape[0]):\n",
    "    Cshift[j, :] = np.fft.fftshift(np.fft.fft(B[j, :]))\n",
    "    C[j, :] = np.fft.fft(B[j, :])\n",
    "    \n",
    "img = axs[1].imshow(np.log(np.abs(Cshift)))\n",
    "img.set_cmap('gray')\n",
    "axs[1].axis('off')\n",
    "\n",
    "# Compute column-wise FFT\n",
    "D = np.zeros_like(C)\n",
    "for j in range(C.shape[1]):\n",
    "    D[:, j] = np.fft.fft(C[:, j])\n",
    "    \n",
    "img = axs[2].imshow(np.fft.fftshift(np.log(np.abs(D))))\n",
    "img.set_cmap('gray')\n",
    "axs[2].axis('off')\n",
    "\n",
    "plt.show()\n",
    "\n",
    "# Much more efficient to use fft2\n",
    "D = np.fft.fft2(B)"
   ]
  }
 ],
 "metadata": {
  "kernelspec": {
   "display_name": "Python 3 (ipykernel)",
   "language": "python",
   "name": "python3"
  },
  "language_info": {
   "codemirror_mode": {
    "name": "ipython",
    "version": 3
   },
   "file_extension": ".py",
   "mimetype": "text/x-python",
   "name": "python",
   "nbconvert_exporter": "python",
   "pygments_lexer": "ipython3",
   "version": "3.9.7"
  }
 },
 "nbformat": 4,
 "nbformat_minor": 5
}
