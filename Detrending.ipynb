{
 "cells": [
  {
   "cell_type": "code",
   "execution_count": 1,
   "id": "2a8bff7b",
   "metadata": {},
   "outputs": [],
   "source": [
    "%matplotlib qt\n",
    "import numpy as np\n",
    "import matplotlib.pyplot as plt\n",
    "from numpy.random import default_rng\n",
    "from scipy import signal, linalg"
   ]
  },
  {
   "cell_type": "code",
   "execution_count": 8,
   "id": "1cafc965",
   "metadata": {},
   "outputs": [],
   "source": [
    "def detrend(data, axis=-1, type='linear', bp=0):\n",
    "    \"\"\"\n",
    "    Remove linear trend along axis from data. (Simplified from Scipy)\n",
    "    \"\"\"\n",
    "    if type not in ['linear', 'l', 'constant', 'c']:\n",
    "        raise ValueError(\"Trend type must be 'linear' or 'constant'.\")  \n",
    "\n",
    "    data = np.asarray(data)\n",
    "    if type in ['constant', 'c']:\n",
    "        data_detrended = data - np.mean(data, axis, keepdims=True)\n",
    "        return data_detrended\n",
    "    else:\n",
    "        dshape = data.shape\n",
    "        N = dshape[axis]\n",
    "        bp = np.sort(np.unique(np.r_[0, bp, N]))\n",
    "        if np.any(bp > N):\n",
    "            raise ValueError(\"Breakpoints must be less than length \"\n",
    "                             \"of data along given axis.\")\n",
    "        Nreg = len(bp) - 1\n",
    "        \n",
    "        # Restructure data so that axis is along first dimension and\n",
    "        # all other dimensions are collapsed into second dimension\n",
    "        rnk = len(dshape)\n",
    "        if axis < 0:\n",
    "            axis = axis + rnk\n",
    "        newdims = np.r_[axis, 0:axis, axis+1:rnk]\n",
    "        newdata = np.reshape(np.transpose(data, tuple(newdims)),\n",
    "                            (N, np.prod(dshape) // N))\n",
    "        newdata = newdata.copy() # make sure we have a copy\n",
    "\n",
    "        # Find leastsq fit and remove it for each piece\n",
    "        for m in range(Nreg):\n",
    "            Npts = bp[m + 1] - bp[m]\n",
    "            A = np.ones((Npts, 2))\n",
    "            A[:, 0] = np.arange(1, Npts+1) / Npts\n",
    "            sl = slice(bp[m], bp[m+1])\n",
    "            coef, _, _, _ = linalg.lstsq(A, newdata[sl])\n",
    "            newdata[sl] = newdata[sl] - np.dot(A, coef)\n",
    "        \n",
    "        # Put data back in original shape\n",
    "        tdshape = np.take(dshape, newdims, 0)\n",
    "        data_detrended = np.reshape(newdata, tuple(tdshape))\n",
    "        vals = list(range(1, rnk))\n",
    "        olddims = vals[:axis] + [0] + vals[axis:]\n",
    "        data_detrended = np.transpose(data_detrended, tuple(olddims))\n",
    "        \n",
    "        return data_detrended"
   ]
  },
  {
   "cell_type": "code",
   "execution_count": 3,
   "id": "96f9ecc6",
   "metadata": {},
   "outputs": [],
   "source": [
    "rng = default_rng()\n",
    "npoints = 1000\n",
    "noise = rng.standard_normal(npoints)\n",
    "x = 3 + 2 * np.linspace(0, 1, npoints) + noise"
   ]
  },
  {
   "cell_type": "code",
   "execution_count": 4,
   "id": "d8f5b360",
   "metadata": {},
   "outputs": [
    {
     "data": {
      "text/plain": [
       "-0.0016516865224826538"
      ]
     },
     "execution_count": 4,
     "metadata": {},
     "output_type": "execute_result"
    }
   ],
   "source": [
    "(signal.detrend(x) - noise).max()"
   ]
  },
  {
   "cell_type": "code",
   "execution_count": 9,
   "id": "7a9acea2",
   "metadata": {},
   "outputs": [
    {
     "data": {
      "text/plain": [
       "-0.0016516865224826538"
      ]
     },
     "execution_count": 9,
     "metadata": {},
     "output_type": "execute_result"
    }
   ],
   "source": [
    "(detrend(x) - noise).max()"
   ]
  },
  {
   "cell_type": "code",
   "execution_count": 10,
   "id": "e0f27ece",
   "metadata": {},
   "outputs": [
    {
     "name": "stderr",
     "output_type": "stream",
     "text": [
      "qt.qpa.drawing: Layer-backing can not be explicitly controlled on 10.14 when built against the 10.14 SDK\n"
     ]
    }
   ],
   "source": [
    "plt.figure()\n",
    "plt.plot(x, label='Shifted')\n",
    "plt.plot(signal.detrend(x), label='Detrend:Scipy')\n",
    "plt.plot(detrend(x), label='Detrend:Mine')\n",
    "plt.legend()\n",
    "plt.show()"
   ]
  },
  {
   "cell_type": "code",
   "execution_count": null,
   "id": "c6dac11e",
   "metadata": {},
   "outputs": [],
   "source": []
  }
 ],
 "metadata": {
  "kernelspec": {
   "display_name": "Python [conda env:mne]",
   "language": "python",
   "name": "conda-env-mne-py"
  },
  "language_info": {
   "codemirror_mode": {
    "name": "ipython",
    "version": 3
   },
   "file_extension": ".py",
   "mimetype": "text/x-python",
   "name": "python",
   "nbconvert_exporter": "python",
   "pygments_lexer": "ipython3",
   "version": "3.9.10"
  }
 },
 "nbformat": 4,
 "nbformat_minor": 5
}
