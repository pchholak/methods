{
 "cells": [
  {
   "cell_type": "code",
   "execution_count": 1,
   "id": "4cc19966",
   "metadata": {},
   "outputs": [],
   "source": [
    "%matplotlib qt\n",
    "import numpy as np\n",
    "import matplotlib.pyplot as plt"
   ]
  },
  {
   "cell_type": "code",
   "execution_count": 2,
   "id": "135f2b2d",
   "metadata": {},
   "outputs": [
    {
     "name": "stdout",
     "output_type": "stream",
     "text": [
      "[[ 1.  -0.7]\n",
      " [-0.7  1. ]]\n"
     ]
    }
   ],
   "source": [
    "x_simple = np.array([-2, -1, 0, 1, 2])\n",
    "y_simple = np.array([4, 1, 3, 2, 0])\n",
    "my_rho = np.corrcoef(x_simple, y_simple)\n",
    "\n",
    "print(my_rho)"
   ]
  },
  {
   "cell_type": "code",
   "execution_count": 12,
   "id": "41960d22",
   "metadata": {},
   "outputs": [],
   "source": [
    "seed = 13\n",
    "rand = np.random.RandomState(seed)\n",
    "\n",
    "x = rand.uniform(0, 1, 100)\n",
    "x = np.vstack((x, x * 2 + 1))\n",
    "x = np.vstack((x, -x[0,] * 2 + 1))\n",
    "x = np.vstack((x, rand.normal(1, 3, 100)))"
   ]
  },
  {
   "cell_type": "code",
   "execution_count": 14,
   "id": "874bfba1",
   "metadata": {},
   "outputs": [],
   "source": [
    "rho = np.corrcoef(x)\n",
    "\n",
    "fig, ax = plt.subplots(nrows=1, ncols=3, figsize=(12, 3))\n",
    "for i in range(3):\n",
    "    ax[i].scatter(x[0,], x[1+i,])\n",
    "    ax[i].title.set_text('Correlation = ' + \"{:.2f}\".format(rho[0, i+1]))\n",
    "    ax[i].set(xlabel='x', ylabel='y')\n",
    "fig.subplots_adjust(wspace=0.4)\n",
    "plt.show()"
   ]
  },
  {
   "cell_type": "code",
   "execution_count": 19,
   "id": "388b73db",
   "metadata": {},
   "outputs": [],
   "source": [
    "fig, ax = plt.subplots(nrows=2, ncols=4, figsize=(15, 8))\n",
    "\n",
    "for i, noise in enumerate([0.05, 0.2, 0.8, 2]):\n",
    "    # Add noise\n",
    "    x_with_noise = x + rand.normal(0, noise, x.shape)\n",
    "    \n",
    "    # Compute correlation\n",
    "    rho_noise = np.corrcoef(x_with_noise)\n",
    "    \n",
    "    # Plot column wise. Positive correlation in row 0 and negative in row 1\n",
    "    ax[0, i].scatter(x_with_noise[0,], x_with_noise[1,], color='magenta')\n",
    "    ax[1, i].scatter(x_with_noise[0,], x_with_noise[2,], color='green')\n",
    "    ax[0, i].title.set_text('Correlation = ' + \"{:.2f}\".format(rho_noise[0, 1])\n",
    "                           + '\\n Noise = ' + \"{:.2f}\".format(noise))\n",
    "    ax[1, i].title.set_text('Correlation = ' + \"{:.2f}\".format(rho_noise[0, 2])\n",
    "                           + '\\n Noise = ' + \"{:.2f}\".format(noise))\n",
    "    ax[0, i].set(xlabel='x', ylabel='y')\n",
    "    ax[1, i].set(xlabel='x', ylabel='y')\n",
    "    \n",
    "fig.subplots_adjust(wspace=0.3, hspace=0.4)\n",
    "plt.show()"
   ]
  },
  {
   "cell_type": "code",
   "execution_count": 20,
   "id": "a663f27a",
   "metadata": {},
   "outputs": [],
   "source": [
    "# Create a data matrix\n",
    "x_nonlinear = np.linspace(-10, 10, 100)\n",
    "x_nonlinear = np.vstack((x_nonlinear, x_nonlinear ** 2))\n",
    "x_nonlinear = np.vstack((x_nonlinear, - x_nonlinear[0,] ** 2))\n",
    "x_nonlinear = np.vstack((x_nonlinear, x_nonlinear[0,] ** 4))\n",
    "x_nonlinear = np.vstack((x_nonlinear, np.log(x_nonlinear[0,] ** 2 + 1)))\n",
    "x_nonlinear = np.vstack((x_nonlinear, np.exp(x_nonlinear[0,])))\n",
    "\n",
    "# Compute the correlation\n",
    "rho_nonlinear = np.corrcoef(x_nonlinear)\n",
    "\n",
    "# Plot the data\n",
    "fig, ax = plt.subplots(nrows=1, ncols=5, figsize=(16, 3))\n",
    "title = ['$y=x^2$', '$y=-x^2$', '$y=x^4$', '$y=\\log(x^2+1)$', '$y=\\exp(x)$']\n",
    "for i in range(5):\n",
    "    ax[i].scatter(x_nonlinear[0,], x_nonlinear[1+i,], color='cyan')\n",
    "    ax[i].title.set_text(title[i] + '\\n' +\n",
    "                         'Correlation = ' + \"{:.2f}\".format(rho_nonlinear[0, i+1]))\n",
    "    ax[i].set(xlabel='x', ylabel='y')\n",
    "fig.subplots_adjust(wspace=0.4)\n",
    "plt.show()"
   ]
  },
  {
   "cell_type": "code",
   "execution_count": null,
   "id": "0db73e1a",
   "metadata": {},
   "outputs": [],
   "source": []
  }
 ],
 "metadata": {
  "kernelspec": {
   "display_name": "Python 3 (ipykernel)",
   "language": "python",
   "name": "python3"
  },
  "language_info": {
   "codemirror_mode": {
    "name": "ipython",
    "version": 3
   },
   "file_extension": ".py",
   "mimetype": "text/x-python",
   "name": "python",
   "nbconvert_exporter": "python",
   "pygments_lexer": "ipython3",
   "version": "3.9.12"
  }
 },
 "nbformat": 4,
 "nbformat_minor": 5
}
