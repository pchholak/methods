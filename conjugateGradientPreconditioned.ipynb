{
 "cells": [
  {
   "cell_type": "code",
   "execution_count": 1,
   "id": "1efab525",
   "metadata": {},
   "outputs": [],
   "source": [
    "%matplotlib qt\n",
    "import numpy as np\n",
    "import matplotlib.pyplot as plt\n",
    "from mpl_toolkits.mplot3d import Axes3D"
   ]
  },
  {
   "cell_type": "code",
   "execution_count": 16,
   "id": "e5a8f16b",
   "metadata": {},
   "outputs": [],
   "source": [
    "def conjugateGradientPreconditioned(A, b, x, i_max=1e3, epsilon=1e-6):\n",
    "    i = 0\n",
    "    r = b - A.dot(x)\n",
    "    d = precondition(A, r) # M_inverse * r\n",
    "    delta_new = r.T.dot(d)\n",
    "    delta_0 = delta_new\n",
    "    X = []; X.append(x)\n",
    "    while (i < i_max) & (delta_new > epsilon ** 2 * delta_0):\n",
    "        q = A.dot(d)\n",
    "        alpha = delta_new / d.T.dot(q)\n",
    "        x = x + alpha * d\n",
    "        if i % 50 == 0:\n",
    "            r = b - A.dot(x)\n",
    "        else:\n",
    "            r = r - alpha * q\n",
    "        s = precondition(A, r)\n",
    "        delta_old = delta_new\n",
    "        delta_new = r.T.dot(s)\n",
    "        beta = delta_new / delta_old\n",
    "        d = s + beta * d\n",
    "        X.append(x)\n",
    "        i += 1\n",
    "    return x, np.array(X), i\n",
    "\n",
    "def conjugateGradient(A, b, x, i_max=1e3, epsilon=1e-6):\n",
    "    i = 0\n",
    "    r = b - A.dot(x)\n",
    "    d = r\n",
    "    delta_new = np.linalg.norm(r) ** 2\n",
    "    delta_0 = delta_new\n",
    "    X = []; X.append(x)\n",
    "    while (i < i_max) & (delta_new > epsilon ** 2 * delta_0):\n",
    "        q = A.dot(d)\n",
    "        alpha = delta_new / (d.T.dot(q))\n",
    "        x = x + alpha * d\n",
    "        if i % 50:\n",
    "            r = b - A.dot(x)\n",
    "        else:\n",
    "            r = r - alpha * q\n",
    "        delta_old = delta_new\n",
    "        delta_new = np.linalg.norm(r) ** 2\n",
    "        beta = delta_new / delta_old\n",
    "        d = r + beta * d\n",
    "        X.append(x)\n",
    "        i += 1\n",
    "    return x, np.array(X), i\n",
    "\n",
    "def precondition(A, r):\n",
    "    M_inv_r = []\n",
    "    for i, a_ii in enumerate(A.diagonal()):\n",
    "        M_inv_r.append(1 / a_ii * r[i])\n",
    "    return np.array(M_inv_r)\n",
    "\n",
    "def f(A, b, c, x):\n",
    "    return 1 / 2 * x.T.dot(A.dot(x)) - b.T.dot(x) + c"
   ]
  },
  {
   "cell_type": "code",
   "execution_count": 17,
   "id": "a6e7f67d",
   "metadata": {},
   "outputs": [],
   "source": [
    "A = np.array([[3, 2], [2, 6]])\n",
    "b = np.array([[2], [-8]])\n",
    "c = 0\n",
    "x_0 = np.array([[-2], [-2]])"
   ]
  },
  {
   "cell_type": "code",
   "execution_count": 21,
   "id": "e1f70230",
   "metadata": {},
   "outputs": [
    {
     "name": "stdout",
     "output_type": "stream",
     "text": [
      "x = [[ 2.]\n",
      " [-2.]]\n",
      "no. of iterations = 2\n",
      "Minimum value of function = [[-10.]]\n"
     ]
    }
   ],
   "source": [
    "x, X, n_steps = conjugateGradientPreconditioned(A, b, x_0)\n",
    "# x, X, n_steps = conjugateGradient(A, b, x_0)\n",
    "print('x =', x)\n",
    "print('no. of iterations =', n_steps)\n",
    "\n",
    "fmin = f(A, b, c, x)\n",
    "print('Minimum value of function =', fmin)"
   ]
  },
  {
   "cell_type": "code",
   "execution_count": 22,
   "id": "c6f67b9c",
   "metadata": {},
   "outputs": [],
   "source": [
    "u = np.arange(-4, 6, .5)\n",
    "v = np.arange(-6, 4, .5)\n",
    "U, V = np.meshgrid(u, v)\n",
    "\n",
    "ws = []\n",
    "for arr in zip(np.ravel(U), np.ravel(V)):\n",
    "    vec = np.array(arr).T\n",
    "    ws.append(f(A, b, c, vec))\n",
    "W = np.array(ws).reshape(U.shape)\n",
    "    \n",
    "# fig = plt.figure()\n",
    "# ax = fig.add_subplot(111, projection='3d')\n",
    "# ax.plot_surface(U, V, W)\n",
    "\n",
    "# ax.set_xlabel('X1')\n",
    "# ax.set_ylabel('X2')\n",
    "# ax.set_zlabel('f(x)')\n",
    "\n",
    "# plt.show()\n",
    "\n",
    "fig, ax = plt.subplots(1, 1)\n",
    "cp = ax.contourf(U, V, W)\n",
    "fig.colorbar(cp)\n",
    "ax.plot(X[:, 0], X[:, 1], c='r', marker='o')\n",
    "\n",
    "ax.set_xlabel('X1')\n",
    "ax.set_ylabel('X2')\n",
    "\n",
    "plt.show()"
   ]
  },
  {
   "cell_type": "code",
   "execution_count": null,
   "id": "9289aa51",
   "metadata": {},
   "outputs": [],
   "source": []
  }
 ],
 "metadata": {
  "kernelspec": {
   "display_name": "Python 3",
   "language": "python",
   "name": "python3"
  },
  "language_info": {
   "codemirror_mode": {
    "name": "ipython",
    "version": 3
   },
   "file_extension": ".py",
   "mimetype": "text/x-python",
   "name": "python",
   "nbconvert_exporter": "python",
   "pygments_lexer": "ipython3",
   "version": "3.8.8"
  }
 },
 "nbformat": 4,
 "nbformat_minor": 5
}
