{
 "cells": [
  {
   "cell_type": "code",
   "execution_count": 1,
   "id": "efba4b05",
   "metadata": {},
   "outputs": [],
   "source": [
    "%matplotlib qt\n",
    "import numpy as np\n",
    "import matplotlib.pyplot as plt\n",
    "import os.path as op\n",
    "from scipy.io import loadmat"
   ]
  },
  {
   "cell_type": "code",
   "execution_count": 2,
   "id": "de19487f",
   "metadata": {},
   "outputs": [],
   "source": [
    "data_dir = '/home/rob/data/MEG'\n",
    "fname_noise_raw = 'noiseRawDataSub05.mat'\n",
    "fname_noise_cov = 'noiseCovarianceSub05.mat'"
   ]
  },
  {
   "cell_type": "code",
   "execution_count": 3,
   "id": "c7106fb3",
   "metadata": {},
   "outputs": [
    {
     "name": "stdout",
     "output_type": "stream",
     "text": [
      "Shape of C = (306, 306)\n"
     ]
    }
   ],
   "source": [
    "noise = loadmat(op.join(data_dir, fname_noise_cov))\n",
    "C = noise['NM'][0, 0][0][:306, :306]\n",
    "print('Shape of C =', np.shape(C))"
   ]
  },
  {
   "cell_type": "code",
   "execution_count": 4,
   "id": "16328884",
   "metadata": {},
   "outputs": [
    {
     "name": "stdout",
     "output_type": "stream",
     "text": [
      "Shape of Xn = (306, 264000)\n"
     ]
    }
   ],
   "source": [
    "emptyRoomRaw = loadmat(op.join(data_dir, fname_noise_raw))\n",
    "Xn = emptyRoomRaw['X_noise']\n",
    "print('Shape of Xn =', np.shape(Xn))"
   ]
  },
  {
   "cell_type": "markdown",
   "id": "bbe85cf6",
   "metadata": {},
   "source": [
    "# Estimate noise covariance block-by-block"
   ]
  },
  {
   "cell_type": "code",
   "execution_count": 5,
   "id": "4350dd14",
   "metadata": {},
   "outputs": [
    {
     "name": "stdout",
     "output_type": "stream",
     "text": [
      "Total number of channels = 306\n",
      "Total number of samples = 264000\n",
      "Total number of full blocks = 26\n",
      "Shape of F = (306, 264000)\n",
      "Calculating noise covariance from empty room recordings...\n"
     ]
    }
   ],
   "source": [
    "Nchannels, Nsamples = np.shape(Xn)\n",
    "print('Total number of channels =', Nchannels)\n",
    "print('Total number of samples =', Nsamples)\n",
    "Nblocksize = 10000\n",
    "\n",
    "F_list = []\n",
    "Nblocks = int(Nsamples / Nblocksize)\n",
    "print('Total number of full blocks =', Nblocks)\n",
    "\n",
    "for iblk in range(Nblocks):\n",
    "    Fi = Xn[:, iblk * Nblocksize : (iblk + 1) * Nblocksize]\n",
    "    Fi_bar = np.mean(Fi, axis=1).reshape((-1, 1)) @ np.ones((1, Nblocksize))\n",
    "    F_list.append(Fi - Fi_bar)\n",
    "\n",
    "F_fullblocks = np.array(F_list).transpose(1, 2, 0).reshape(Nchannels, -1)\n",
    "\n",
    "# Calculations for the last small block\n",
    "if Nsamples % Nblocksize == 0:\n",
    "    F = F_fullblocks\n",
    "else:\n",
    "    Fi = Xn[:, Nblocks * Nblocksize:]\n",
    "    Fi_bar = np.mean(Fi, axis=1).reshape((-1, 1)) @ np.ones((1, np.size(Fi, 1)))\n",
    "    F_last = np.array(Fi - Fi_bar)\n",
    "    F = np.concatenate((F_fullblocks, F_last), axis=1)\n",
    "print('Shape of F =', np.shape(F))\n",
    "\n",
    "print('Calculating noise covariance from empty room recordings...')\n",
    "NoiseCov = (F @ F.T) / Nsamples"
   ]
  },
  {
   "cell_type": "code",
   "execution_count": 6,
   "id": "5388de01",
   "metadata": {},
   "outputs": [],
   "source": [
    "fig = plt.figure()\n",
    "\n",
    "ax1 = fig.add_subplot(121)\n",
    "plt.imshow(C)\n",
    "plt.colorbar()\n",
    "plt.title('BST')\n",
    "\n",
    "ax1 = fig.add_subplot(122)\n",
    "plt.imshow(NoiseCov)\n",
    "plt.colorbar()\n",
    "plt.title('Calculated')\n",
    "\n",
    "plt.show()"
   ]
  },
  {
   "cell_type": "code",
   "execution_count": null,
   "id": "62741c97",
   "metadata": {},
   "outputs": [],
   "source": []
  }
 ],
 "metadata": {
  "kernelspec": {
   "display_name": "Python 3",
   "language": "python",
   "name": "python3"
  },
  "language_info": {
   "codemirror_mode": {
    "name": "ipython",
    "version": 3
   },
   "file_extension": ".py",
   "mimetype": "text/x-python",
   "name": "python",
   "nbconvert_exporter": "python",
   "pygments_lexer": "ipython3",
   "version": "3.8.8"
  }
 },
 "nbformat": 4,
 "nbformat_minor": 5
}
