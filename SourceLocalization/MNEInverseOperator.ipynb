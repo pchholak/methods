{
 "cells": [
  {
   "cell_type": "code",
   "execution_count": 1,
   "id": "ee222a8c",
   "metadata": {},
   "outputs": [],
   "source": [
    "%matplotlib qt\n",
    "import numpy as np\n",
    "import matplotlib.pyplot as plt\n",
    "import os.path as op\n",
    "from scipy.io import loadmat"
   ]
  },
  {
   "cell_type": "code",
   "execution_count": 2,
   "id": "4d905d87",
   "metadata": {},
   "outputs": [],
   "source": [
    "data_dir = '/home/rob/data/MEG'\n",
    "fname_fwd_model = 'gainConstrainedSub05.mat'\n",
    "fname_inv_model = 'inverseConstrainedSub05.mat'\n",
    "fname_noise_cov = 'noiseCovarianceSub05.mat'"
   ]
  },
  {
   "cell_type": "code",
   "execution_count": 3,
   "id": "5f4db1f6",
   "metadata": {},
   "outputs": [
    {
     "name": "stdout",
     "output_type": "stream",
     "text": [
      "Shape of G = (306, 15002)\n",
      "Shape of C = (306, 306)\n",
      "Shape of R = (15002, 15002)\n"
     ]
    }
   ],
   "source": [
    "fwd_model = loadmat(op.join(data_dir, fname_fwd_model))\n",
    "G = fwd_model['Gain_constrained'][:306, :]\n",
    "print('Shape of G =', np.shape(G))\n",
    "\n",
    "noise = loadmat(op.join(data_dir, fname_noise_cov))\n",
    "C = noise['NM'][0, 0][0][:306, :306]\n",
    "print('Shape of C =', np.shape(C))\n",
    "\n",
    "R = np.identity(np.size(G, 1))\n",
    "print('Shape of R =', np.shape(R))\n",
    "\n",
    "lambda2 = 1 / 3 ** 2"
   ]
  },
  {
   "cell_type": "markdown",
   "id": "33bc0da0",
   "metadata": {},
   "source": [
    "# Load the BST inverse solution"
   ]
  },
  {
   "cell_type": "code",
   "execution_count": null,
   "id": "05413328",
   "metadata": {},
   "outputs": [],
   "source": [
    "inv_model = loadmat(op.join(data_dir, fname_inv_model))\n",
    "M0 = inv_model['ImagingKernel']\n",
    "print('Shape of M_BST =', np.shape(M0))\n",
    "\n",
    "AAinv0 = G @ M0\n",
    "\n",
    "plt.figure()\n",
    "plt.imshow(AAinv0)\n",
    "plt.colorbar()\n",
    "plt.show()"
   ]
  },
  {
   "cell_type": "markdown",
   "id": "6b5641ee",
   "metadata": {},
   "source": [
    "# Straightforward method"
   ]
  },
  {
   "cell_type": "code",
   "execution_count": null,
   "id": "c4933dcf",
   "metadata": {},
   "outputs": [],
   "source": [
    "M = R @ G.T @ np.linalg.inv(G @ R @ G.T + lambda2 * C)"
   ]
  },
  {
   "cell_type": "code",
   "execution_count": null,
   "id": "9044ae91",
   "metadata": {},
   "outputs": [],
   "source": [
    "AAinv = G @ M\n",
    "\n",
    "plt.figure()\n",
    "plt.imshow(AAinv)\n",
    "plt.colorbar()\n",
    "plt.show()"
   ]
  },
  {
   "cell_type": "markdown",
   "id": "1de8cb5e",
   "metadata": {},
   "source": [
    "# Computationally efficient method"
   ]
  },
  {
   "cell_type": "code",
   "execution_count": 4,
   "id": "50d5b37c",
   "metadata": {},
   "outputs": [
    {
     "name": "stdout",
     "output_type": "stream",
     "text": [
      "Shape of G_tilde = (306, 15002)\n"
     ]
    }
   ],
   "source": [
    "Lc, Uc = np.linalg.eig(C)\n",
    "whitener = np.diag(list(1 / lc for lc in Lc)) @ Uc.T\n",
    "\n",
    "G_tilde = whitener @ G\n",
    "print('Shape of G_tilde =', np.shape(G_tilde))"
   ]
  },
  {
   "cell_type": "code",
   "execution_count": null,
   "id": "93fb10ef",
   "metadata": {},
   "outputs": [],
   "source": [
    "countNonDiag = np.count_nonzero(R - np.diag(np.diagonal(R)))\n",
    "\n",
    "if countNonDiag == 0:\n",
    "    R_sqrt = np.diag(list(np.sqrt(r) for r in np.diagonal(R)))\n",
    "else:\n",
    "    R_sqrt = np.linalg.cholesky(R)\n",
    "    \n",
    "print('Shape of R_sqrt =', np.shape(R_sqrt))"
   ]
  },
  {
   "cell_type": "code",
   "execution_count": 5,
   "id": "5b4a0813",
   "metadata": {},
   "outputs": [
    {
     "name": "stdout",
     "output_type": "stream",
     "text": [
      "Shape of R_sqrt = (15002, 15002)\n"
     ]
    }
   ],
   "source": [
    "A = G_tilde @ R_sqrt\n",
    "\n",
    "U, L, VT = np.linalg.svd(A, full_matrices=0)\n",
    "\n",
    "print('Shape of U =', np.shape(U))\n",
    "print('Shape of L =', np.shape(L))\n",
    "print('Shape of V =', np.shape(VT.T))"
   ]
  },
  {
   "cell_type": "code",
   "execution_count": 7,
   "id": "d6857cce",
   "metadata": {},
   "outputs": [
    {
     "name": "stdout",
     "output_type": "stream",
     "text": [
      "Shape of Gamma = (306, 306)\n"
     ]
    }
   ],
   "source": [
    "Gamma = np.diag(list(lk ** 2 / (lk * (lk ** 2 + lambda2)) for lk in L))\n",
    "print('Shape of Gamma =', np.shape(Gamma))"
   ]
  },
  {
   "cell_type": "code",
   "execution_count": 8,
   "id": "ab408495",
   "metadata": {},
   "outputs": [
    {
     "name": "stdout",
     "output_type": "stream",
     "text": [
      "Shape of M_tilde = (15002, 306)\n"
     ]
    }
   ],
   "source": [
    "M_tilde = R_sqrt @ VT.T @ Gamma @ U.T\n",
    "print('Shape of M_tilde =', np.shape(M_tilde))"
   ]
  },
  {
   "cell_type": "code",
   "execution_count": 10,
   "id": "29296000",
   "metadata": {},
   "outputs": [
    {
     "name": "stdout",
     "output_type": "stream",
     "text": [
      "Shape of M_eff = (15002, 306)\n"
     ]
    }
   ],
   "source": [
    "M_eff = M_tilde @ whitener\n",
    "print('Shape of M_eff =', np.shape(M_eff))"
   ]
  },
  {
   "cell_type": "code",
   "execution_count": 13,
   "id": "eadf02f9",
   "metadata": {},
   "outputs": [],
   "source": [
    "AAinv_eff = G @ M_eff\n",
    "# AAinv_tilde = G_tilde @ M_tilde"
   ]
  },
  {
   "cell_type": "code",
   "execution_count": 14,
   "id": "702f9402",
   "metadata": {},
   "outputs": [],
   "source": [
    "plt.figure()\n",
    "plt.imshow(AAinv_eff.real)\n",
    "plt.colorbar()\n",
    "plt.show()"
   ]
  },
  {
   "cell_type": "code",
   "execution_count": null,
   "id": "23b38ac7",
   "metadata": {},
   "outputs": [],
   "source": []
  }
 ],
 "metadata": {
  "kernelspec": {
   "display_name": "Python 3",
   "language": "python",
   "name": "python3"
  },
  "language_info": {
   "codemirror_mode": {
    "name": "ipython",
    "version": 3
   },
   "file_extension": ".py",
   "mimetype": "text/x-python",
   "name": "python",
   "nbconvert_exporter": "python",
   "pygments_lexer": "ipython3",
   "version": "3.8.8"
  }
 },
 "nbformat": 4,
 "nbformat_minor": 5
}
