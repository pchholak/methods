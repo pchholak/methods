{
 "cells": [
  {
   "cell_type": "code",
   "execution_count": 26,
   "id": "0ed80718",
   "metadata": {},
   "outputs": [],
   "source": [
    "%matplotlib qt\n",
    "import os\n",
    "import numpy as np\n",
    "import pandas as pd\n",
    "import matplotlib.pyplot as plt\n",
    "from sklearn.feature_extraction.text import TfidfVectorizer\n",
    "from sklearn.linear_model._logistic import LogisticRegression\n",
    "from sklearn.model_selection import train_test_split, cross_val_score\n",
    "from sklearn.metrics import confusion_matrix"
   ]
  },
  {
   "cell_type": "code",
   "execution_count": 10,
   "id": "fa538e5f",
   "metadata": {},
   "outputs": [],
   "source": [
    "# Given\n",
    "dir_data = os.path.expanduser('~/data/ml/smsspamcollection/')"
   ]
  },
  {
   "cell_type": "code",
   "execution_count": 12,
   "id": "9bcda168",
   "metadata": {},
   "outputs": [
    {
     "name": "stdout",
     "output_type": "stream",
     "text": [
      "Number of spam messages: 747\n",
      "Number of ham messages: 4825\n"
     ]
    }
   ],
   "source": [
    "df = pd.read_csv(os.path.join(dir_data, 'SMSSpamCollection'), delimiter='\\t',\n",
    "                 header=None)\n",
    "X_train_raw, X_test_raw, y_train, y_test = train_test_split(df[1], df[0])\n",
    "\n",
    "print('Number of spam messages:', df[df[0] == 'spam'][0].count())\n",
    "print('Number of ham messages:', df[df[0] == 'ham'][0].count())"
   ]
  },
  {
   "cell_type": "code",
   "execution_count": 19,
   "id": "f718b7b1",
   "metadata": {},
   "outputs": [
    {
     "data": {
      "text/plain": [
       "1393"
      ]
     },
     "execution_count": 19,
     "metadata": {},
     "output_type": "execute_result"
    }
   ],
   "source": [
    "X_test_raw.count()"
   ]
  },
  {
   "cell_type": "code",
   "execution_count": 15,
   "id": "d527bce6",
   "metadata": {},
   "outputs": [],
   "source": [
    "vectorizer = TfidfVectorizer()\n",
    "X_train = vectorizer.fit_transform(X_train_raw)\n",
    "X_test = vectorizer.transform(X_test_raw)"
   ]
  },
  {
   "cell_type": "code",
   "execution_count": 16,
   "id": "a5759b6e",
   "metadata": {},
   "outputs": [
    {
     "data": {
      "text/plain": [
       "<1393x7457 sparse matrix of type '<class 'numpy.float64'>'\n",
       "\twith 16992 stored elements in Compressed Sparse Row format>"
      ]
     },
     "execution_count": 16,
     "metadata": {},
     "output_type": "execute_result"
    }
   ],
   "source": [
    "X_test"
   ]
  },
  {
   "cell_type": "code",
   "execution_count": 30,
   "id": "c0897e6d",
   "metadata": {},
   "outputs": [
    {
     "name": "stdout",
     "output_type": "stream",
     "text": [
      "Prediction: ham. Message: I am taking you for italian food. How about a pretty dress with no panties? :)\n",
      "Prediction: ham. Message: No break time one... How... I come out n get my stuff fr ü?\n",
      "Prediction: ham. Message: You'll never believe this but i have actually got off at taunton. Wow\n",
      "Prediction: ham. Message: Siva is in hostel aha:-.\n",
      "Prediction: ham. Message: Just woke up. Yeesh its late. But I didn't fall asleep til &lt;#&gt; am :/\n"
     ]
    }
   ],
   "source": [
    "classifier = LogisticRegression()\n",
    "classifier.fit(X_train, y_train)\n",
    "predictions = classifier.predict(X_test)\n",
    "for msg, prediction in zip(X_test_raw[:5], predictions[:5]):\n",
    "    print(\"Prediction: %s. Message: %s\" % (prediction, msg))"
   ]
  },
  {
   "cell_type": "code",
   "execution_count": 27,
   "id": "e1e3c70b",
   "metadata": {},
   "outputs": [
    {
     "name": "stdout",
     "output_type": "stream",
     "text": [
      "[[1203    2]\n",
      " [  43  145]]\n"
     ]
    }
   ],
   "source": [
    "cnfsn_mat = confusion_matrix(y_test, predictions)\n",
    "print(cnfsn_mat)\n",
    "plt.figure()\n",
    "plt.matshow(cnfsn_mat)\n",
    "plt.title('Confusion matrix')\n",
    "plt.colorbar()\n",
    "plt.ylabel('True label')\n",
    "plt.xlabel('Predicted label')\n",
    "plt.show()"
   ]
  },
  {
   "cell_type": "code",
   "execution_count": null,
   "id": "04dcccd2",
   "metadata": {},
   "outputs": [],
   "source": []
  }
 ],
 "metadata": {
  "kernelspec": {
   "display_name": "Python 3 (ipykernel)",
   "language": "python",
   "name": "python3"
  },
  "language_info": {
   "codemirror_mode": {
    "name": "ipython",
    "version": 3
   },
   "file_extension": ".py",
   "mimetype": "text/x-python",
   "name": "python",
   "nbconvert_exporter": "python",
   "pygments_lexer": "ipython3",
   "version": "3.9.12"
  }
 },
 "nbformat": 4,
 "nbformat_minor": 5
}
