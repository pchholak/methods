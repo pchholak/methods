{
 "cells": [
  {
   "cell_type": "code",
   "execution_count": 1,
   "id": "b5caaf1f",
   "metadata": {},
   "outputs": [],
   "source": [
    "%matplotlib qt\n",
    "import numpy as np\n",
    "import matplotlib.pyplot as plt\n",
    "import os.path as op\n",
    "from scipy.io import loadmat"
   ]
  },
  {
   "cell_type": "code",
   "execution_count": 2,
   "id": "fc73c71c",
   "metadata": {},
   "outputs": [],
   "source": [
    "data_dir = '/home/rob/data/MEG'\n",
    "fname_fwd_model = 'gainConstrainedSub05.mat'\n",
    "fname_inv_model = 'inverseConstrainedSub05.mat'"
   ]
  },
  {
   "cell_type": "markdown",
   "id": "26b3fd86",
   "metadata": {},
   "source": [
    "# $P = AA^{-1}$ matrix from BST results"
   ]
  },
  {
   "cell_type": "code",
   "execution_count": 3,
   "id": "2093a51d",
   "metadata": {},
   "outputs": [
    {
     "name": "stdout",
     "output_type": "stream",
     "text": [
      "Shape of A = (306, 15002)\n",
      "Shape of A_inv = (15002, 306)\n"
     ]
    }
   ],
   "source": [
    "fwd_model = loadmat(op.join(data_dir, fname_fwd_model))\n",
    "A = fwd_model['Gain_constrained'][:306, :]\n",
    "print('Shape of A =', np.shape(A))\n",
    "\n",
    "inv_model = loadmat(op.join(data_dir, fname_inv_model))\n",
    "A_inv = inv_model['ImagingKernel']\n",
    "print('Shape of A_inv =', np.shape(A_inv))\n",
    "\n",
    "P = A @ A_inv\n",
    "\n",
    "plt.figure()\n",
    "plt.imshow(P)\n",
    "plt.colorbar()\n",
    "plt.show()"
   ]
  },
  {
   "cell_type": "markdown",
   "id": "d4703c6d",
   "metadata": {},
   "source": [
    "# $P = AA^{-1}$ matrix from solving with pseudo-inversion"
   ]
  },
  {
   "cell_type": "code",
   "execution_count": 4,
   "id": "c5324f63",
   "metadata": {},
   "outputs": [
    {
     "name": "stdout",
     "output_type": "stream",
     "text": [
      "Shape of A_pinv = (15002, 306)\n"
     ]
    }
   ],
   "source": [
    "U, S, VT = np.linalg.svd(A, full_matrices=0)\n",
    "A_pinv = VT.T @ np.linalg.inv(np.diag(S)) @ U.T\n",
    "print('Shape of A_pinv =', np.shape(A_pinv))\n",
    "\n",
    "P_pseudo = A @ A_pinv\n",
    "\n",
    "plt.figure()\n",
    "plt.imshow(P_pseudo)\n",
    "plt.colorbar()\n",
    "plt.show()"
   ]
  },
  {
   "cell_type": "markdown",
   "id": "4702de07",
   "metadata": {},
   "source": [
    "# $P = AA^{-1}$ matrix from solving with Tikhonov regularization\n",
    "$x = (A^{T} A + \\phi I)^{-1} A^{T} b$\n",
    "\n",
    "$A^{-1} = V \\frac{\\Lambda}{\\Lambda^2 + \\phi I} U^{T}$"
   ]
  },
  {
   "cell_type": "code",
   "execution_count": 5,
   "id": "dac8d9bd",
   "metadata": {},
   "outputs": [
    {
     "name": "stdout",
     "output_type": "stream",
     "text": [
      "Shape of A_inv_TR = (15002, 306)\n"
     ]
    }
   ],
   "source": [
    "phi = 1 / 3 ** 2\n",
    "n, _ = np.shape(A)\n",
    "\n",
    "U, L, VT = np.linalg.svd(A, full_matrices=0)\n",
    "\n",
    "A_inv_TR = VT.T @ np.diag([l / (l ** 2 + phi) for l in L]) @ U.T\n",
    "print('Shape of A_inv_TR =', np.shape(A_inv_TR))\n",
    "\n",
    "P_TR = A @ A_inv_TR\n",
    "\n",
    "fig = plt.figure()\n",
    "ax1 = fig.add_subplot(121)\n",
    "plt.imshow(P)\n",
    "plt.colorbar()\n",
    "ax2 = fig.add_subplot(122)\n",
    "plt.imshow(P_TR)\n",
    "plt.colorbar()\n",
    "plt.show()"
   ]
  },
  {
   "cell_type": "code",
   "execution_count": 6,
   "id": "f36ec5d5",
   "metadata": {},
   "outputs": [],
   "source": [
    "plt.figure()\n",
    "plt.plot(np.arange(1,n+1), np.log(L), '-o')\n",
    "plt.xlabel('i', fontsize=14)\n",
    "plt.ylabel('ln($\\sigma_i$)', fontsize=14)\n",
    "plt.show()"
   ]
  },
  {
   "cell_type": "code",
   "execution_count": null,
   "id": "1993120d",
   "metadata": {},
   "outputs": [],
   "source": []
  }
 ],
 "metadata": {
  "kernelspec": {
   "display_name": "Python 3",
   "language": "python",
   "name": "python3"
  },
  "language_info": {
   "codemirror_mode": {
    "name": "ipython",
    "version": 3
   },
   "file_extension": ".py",
   "mimetype": "text/x-python",
   "name": "python",
   "nbconvert_exporter": "python",
   "pygments_lexer": "ipython3",
   "version": "3.8.8"
  }
 },
 "nbformat": 4,
 "nbformat_minor": 5
}
