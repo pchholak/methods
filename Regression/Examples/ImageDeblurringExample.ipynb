{
 "cells": [
  {
   "cell_type": "code",
   "execution_count": 1,
   "id": "c635d4d2",
   "metadata": {},
   "outputs": [],
   "source": [
    "%matplotlib qt\n",
    "import math\n",
    "import numpy as np\n",
    "import matplotlib.pyplot as plt\n",
    "from skimage.transform import resize"
   ]
  },
  {
   "cell_type": "markdown",
   "id": "2814fed1",
   "metadata": {},
   "source": [
    "# Generate original image"
   ]
  },
  {
   "cell_type": "code",
   "execution_count": 2,
   "id": "73df1d54",
   "metadata": {},
   "outputs": [],
   "source": [
    "N0, N = 50, 32\n",
    "I0 = 0.1 * np.ones((N0, N0))\n",
    "\n",
    "for r in range(10, 25):\n",
    "    for c in range(14, 29):\n",
    "        I0[r][c] = 1.2\n",
    "\n",
    "for r in range(15, 34):\n",
    "    for c in range(17, 23):\n",
    "        I0[r][c] = 1.6\n",
    "    for c in range(32, 37):\n",
    "        I0[r][c] = 1.2\n",
    "        \n",
    "for r in range(34, 40):\n",
    "    for c in range(8, 42):\n",
    "        I0[r][c] = 2\n",
    "\n",
    "# Show original image\n",
    "fig1 = plt.figure(figsize=(9,6), dpi=100)\n",
    "plt.suptitle('Figure 2.5')\n",
    "ax1 = fig1.add_subplot(121)\n",
    "plt.imshow(I0, cmap='gray_r', vmin=0, vmax=2)\n",
    "plt.colorbar()\n",
    "plt.show()"
   ]
  },
  {
   "cell_type": "markdown",
   "id": "53f9879f",
   "metadata": {},
   "source": [
    "# Define forward model\n",
    "Generate forward model $Ax = y$, where x, y $\\in \\mathbb{R}^{N^2}$ and A $\\in \\mathbb{R}^{N^2 \\times N^2}$.\n",
    "$$\n",
    "\\phi(x) = e^{-\\alpha |x|}\n",
    "$$\n",
    "$$\n",
    "g(p_{jk}) \\approx \\sum_{l,m = 1}^{N} \\Delta^2 \\phi(p_{jk} - p_{lm}) f(p_{lm})\n",
    "$$"
   ]
  },
  {
   "cell_type": "code",
   "execution_count": 3,
   "id": "f8ad5f35",
   "metadata": {},
   "outputs": [],
   "source": [
    "# Function to calculate phi for points p_jk and p_lm\n",
    "def phi(p_jk, p_lm, alpha):\n",
    "    dist = math.sqrt((p_jk[0] - p_lm[0]) ** 2 + (p_jk[1] - p_lm[1]) ** 2)\n",
    "    return math.exp(-alpha * dist)"
   ]
  },
  {
   "cell_type": "code",
   "execution_count": 4,
   "id": "1a54a5de",
   "metadata": {},
   "outputs": [],
   "source": [
    "# Make a grid for the image\n",
    "Delta0, alpha = 1 / N0, 20\n",
    "u0 = v0 = np.arange(0, 1, Delta0) + Delta0 / 2\n",
    "uu0, vv0 = np.meshgrid(u0, v0)\n",
    "U0 = uu0.reshape((-1,1))\n",
    "V0 = vv0.reshape((-1,1))\n",
    "\n",
    "# Evaluate the convolution matrix A\n",
    "N02 = len(U0)\n",
    "A0 = np.zeros((N02, N02))\n",
    "for jk, p_jk in enumerate(zip(U0, V0)):\n",
    "    for lm, p_lm in enumerate(zip(U0, V0)):\n",
    "        A0[jk][lm] = phi(p_jk, p_lm, alpha) * Delta0 ** 2"
   ]
  },
  {
   "cell_type": "code",
   "execution_count": 5,
   "id": "334e62db",
   "metadata": {},
   "outputs": [],
   "source": [
    "# Get blurred image after convolution with phi\n",
    "x0 = I0.reshape((-1, 1))\n",
    "y0 = A0 @ x0\n",
    "\n",
    "# Add Gaussian noise to the blurred image\n",
    "sigma = 0.01 * np.max(y0)\n",
    "e = np.random.normal(scale=sigma, size=N02).reshape(-1, 1)\n",
    "y0_noisy = y0 + e\n",
    "I0_noisy = y0_noisy.reshape((N0, N0))\n",
    "\n",
    "# Downsample from N0 to N\n",
    "I = resize(I0_noisy, (N, N))\n",
    "y = I.reshape((-1, 1))\n",
    "\n",
    "# Show noisy blurred image\n",
    "ax2 = fig1.add_subplot(122)\n",
    "plt.imshow(I, cmap='gray_r')\n",
    "plt.colorbar()\n",
    "plt.show()"
   ]
  },
  {
   "cell_type": "markdown",
   "id": "5c5d4c8b",
   "metadata": {},
   "source": [
    "# Solving the inverse solution using Tikhonov Regularization"
   ]
  },
  {
   "cell_type": "code",
   "execution_count": 6,
   "id": "3cfb5f20",
   "metadata": {},
   "outputs": [],
   "source": [
    "# Make a grid for the image\n",
    "Delta, alpha = 1 / N, 20\n",
    "u = v = np.arange(0, 1, Delta) + Delta / 2\n",
    "uu, vv = np.meshgrid(u, v)\n",
    "U = uu.reshape((-1,1))\n",
    "V = vv.reshape((-1,1))\n",
    "\n",
    "# Evaluate the convolution matrix A\n",
    "N2 = len(U)\n",
    "A = np.zeros((N2, N2))\n",
    "for jk, p_jk in enumerate(zip(U, V)):\n",
    "    for lm, p_lm in enumerate(zip(U, V)):\n",
    "        A[jk][lm] = phi(p_jk, p_lm, alpha) * Delta ** 2"
   ]
  },
  {
   "cell_type": "code",
   "execution_count": 7,
   "id": "815b507b",
   "metadata": {},
   "outputs": [
    {
     "name": "stdout",
     "output_type": "stream",
     "text": [
      "ε = 0.007165\n"
     ]
    }
   ],
   "source": [
    "# Noise level\n",
    "eps = N * sigma\n",
    "print('ε = %f' % eps)\n",
    "\n",
    "# Test values of regularization parameter\n",
    "Omega = np.geomspace(1e-7, 1e-5, num=9)\n",
    "\n",
    "# Find solutions for all test values of regularization parameter\n",
    "err = np.zeros((len(Omega), 1))\n",
    "fig2 = plt.figure(figsize=(9,9))\n",
    "plt.suptitle('Figure 2.7')\n",
    "for i, omega in enumerate(Omega):\n",
    "    # Calculate inverse\n",
    "    U, L, VT = np.linalg.svd(A, full_matrices=0)\n",
    "    A_inv = VT.T @ np.diag([l / (l ** 2 + omega) for l in L]) @ U.T\n",
    "\n",
    "    # Recovered image\n",
    "    x_omega = A_inv @ y\n",
    "    I_omega = x_omega.reshape((N, N))\n",
    "    err[i] = np.linalg.norm(A @ x_omega - y)\n",
    "    \n",
    "    # Show image\n",
    "    ax = fig2.add_subplot(3, 3, i+1)\n",
    "    plt.title('$\\delta$ = %f' % omega)\n",
    "    plt.imshow(I_omega, cmap='gray_r')\n",
    "    plt.colorbar()\n",
    "plt.show()\n",
    "\n",
    "plt.figure(figsize=(9,6))\n",
    "plt.title('Figure 2.6')\n",
    "plt.plot(Omega, err, '-s')\n",
    "plt.axhline(y=eps, ls='-', color='k')\n",
    "plt.xlabel('$\\delta$', fontsize=14)\n",
    "plt.ylabel('$|A x_\\delta - y|$', fontsize=14)\n",
    "plt.show()"
   ]
  },
  {
   "cell_type": "code",
   "execution_count": null,
   "id": "bb2b7aa7",
   "metadata": {},
   "outputs": [],
   "source": []
  }
 ],
 "metadata": {
  "kernelspec": {
   "display_name": "Python 3",
   "language": "python",
   "name": "python3"
  },
  "language_info": {
   "codemirror_mode": {
    "name": "ipython",
    "version": 3
   },
   "file_extension": ".py",
   "mimetype": "text/x-python",
   "name": "python",
   "nbconvert_exporter": "python",
   "pygments_lexer": "ipython3",
   "version": "3.8.8"
  }
 },
 "nbformat": 4,
 "nbformat_minor": 5
}
