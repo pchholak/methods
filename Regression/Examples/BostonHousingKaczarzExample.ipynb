{
 "cells": [
  {
   "cell_type": "code",
   "execution_count": 1,
   "id": "769c7c8c",
   "metadata": {},
   "outputs": [],
   "source": [
    "%matplotlib qt\n",
    "import matplotlib.pyplot as plt\n",
    "import numpy as np\n",
    "import os"
   ]
  },
  {
   "cell_type": "code",
   "execution_count": 2,
   "id": "0d9dcd55",
   "metadata": {},
   "outputs": [],
   "source": [
    "def solveRegressionKaczmarz(A, b, x_0, i_max=1e4, discrepancy=1e-3):\n",
    "    i, x = 0, x_0\n",
    "    err = np.linalg.norm(A @ x - b)\n",
    "    X = []; X.append(x)\n",
    "    while (i < i_max) & (err > discrepancy):\n",
    "        z = x\n",
    "        for j in range(np.size(A, 0)):\n",
    "            z = z + 1 / (A[j, :].dot(A[j, :])) * (b[j] - A[j, :].dot(z)) * A[j, :].T\n",
    "        x = z\n",
    "        err = np.linalg.norm(A @ x - b)\n",
    "        X.append(x)\n",
    "        i += 1\n",
    "    return x, np.array(X), i"
   ]
  },
  {
   "cell_type": "code",
   "execution_count": 3,
   "id": "d8528bc6",
   "metadata": {},
   "outputs": [],
   "source": [
    "# Load dataset\n",
    "H = np.loadtxt(os.path.join('/home/rob/data/databookuw', 'housing.data'))\n",
    "b = H[:, -1] # Housing values in $1000s\n",
    "A = H[:, :-1] # Other factors\n",
    "\n",
    "# Pad with ones for nonzero offset\n",
    "A = np.pad(A, [(0,0),(0,1)], mode='constant', constant_values=1)"
   ]
  },
  {
   "cell_type": "code",
   "execution_count": 4,
   "id": "3e5e7af8",
   "metadata": {},
   "outputs": [
    {
     "name": "stdout",
     "output_type": "stream",
     "text": [
      "x_svd = [-1.08011358e-01  4.64204584e-02  2.05586264e-02  2.68673382e+00\n",
      " -1.77666112e+01  3.80986521e+00  6.92224640e-04 -1.47556685e+00\n",
      "  3.06049479e-01 -1.23345939e-02 -9.52747232e-01  9.31168327e-03\n",
      " -5.24758378e-01  3.64594884e+01]\n"
     ]
    }
   ],
   "source": [
    "# Solve Ax=b using SVD\n",
    "U, S, VT = np.linalg.svd(A, full_matrices=0)\n",
    "x_svd = VT.T @ np.linalg.inv(np.diag(S)) @ U.T @ b\n",
    "print('x_svd =', x_svd)"
   ]
  },
  {
   "cell_type": "code",
   "execution_count": 5,
   "id": "acbf3af8",
   "metadata": {},
   "outputs": [
    {
     "name": "stdout",
     "output_type": "stream",
     "text": [
      "x_kac = [-9.31260053e-02  1.74683101e-04 -1.34940452e-01 -4.30878256e-01\n",
      "  5.40106814e-02  5.12454224e+00 -3.48918049e-02 -2.96417787e-01\n",
      "  6.77591996e-01 -3.83922080e-02  9.88110037e-02 -8.90012254e-03\n",
      " -3.50519400e-01  1.67102469e-01]\n",
      "no. of iterations = 5000\n",
      "Min. norm error = 272.9607754262492\n"
     ]
    }
   ],
   "source": [
    "# Solve using Kaczmarz iteration\n",
    "x_0 = np.zeros((np.size(A, 1),))\n",
    "x_kac, X, n_steps = solveRegressionKaczmarz(A, b, x_0, i_max=5000)\n",
    "print('x_kac =', x_kac)\n",
    "print('no. of iterations =', n_steps)\n",
    "print('Min. norm error =', np.linalg.norm(A @ x_kac - b))"
   ]
  },
  {
   "cell_type": "code",
   "execution_count": 6,
   "id": "e5a2ba02",
   "metadata": {},
   "outputs": [],
   "source": [
    "plt.rcParams['figure.figsize'] = [16, 8]\n",
    "plt.rcParams.update({'font.size': 18})\n",
    "\n",
    "fig = plt.figure()\n",
    "ax1 = fig.add_subplot(121)\n",
    "\n",
    "plt.plot(b, color='k', linewidth=2, label='Housing Value') # True relationship\n",
    "plt.plot(A@x_svd, '-o', color='r', linewidth=2, markersize=6, label='SVD')\n",
    "plt.plot(A@x_kac, '--', color='b', linewidth=3, markersize=6, label='Kaczmarz')\n",
    "plt.xlabel('Neighborhood')\n",
    "plt.ylabel('Median Home Value [$1k]')\n",
    "plt.legend()\n",
    "\n",
    "ax2 = fig.add_subplot(122)\n",
    "sort_ind = np.argsort(H[:,-1])\n",
    "plt.plot(b[sort_ind], color='k', linewidth=2, label='Housing Value') # True relationship\n",
    "plt.plot(A[sort_ind,:]@x_svd, '-o', color='r', linewidth=2, markersize=6, label='SVD')\n",
    "plt.plot(A[sort_ind,:]@x_kac, '--', color='b', linewidth=3, markersize=6, label='Kaczmarz')\n",
    "plt.xlabel('Neighborhood')\n",
    "plt.legend()\n",
    "\n",
    "plt.show()"
   ]
  }
 ],
 "metadata": {
  "kernelspec": {
   "display_name": "Python 3 (ipykernel)",
   "language": "python",
   "name": "python3"
  },
  "language_info": {
   "codemirror_mode": {
    "name": "ipython",
    "version": 3
   },
   "file_extension": ".py",
   "mimetype": "text/x-python",
   "name": "python",
   "nbconvert_exporter": "python",
   "pygments_lexer": "ipython3",
   "version": "3.9.7"
  }
 },
 "nbformat": 4,
 "nbformat_minor": 5
}
