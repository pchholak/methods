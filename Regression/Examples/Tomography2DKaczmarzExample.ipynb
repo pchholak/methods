{
 "cells": [
  {
   "cell_type": "markdown",
   "id": "db3e41fe",
   "metadata": {},
   "source": [
    "# 2D Tomography using ART (Kaczmarz)\n",
    "\n",
    "Let $x \\in \\mathbb{R}^{N^2}$ be a vector containing the stacked pixel values of an $N \\times N$ image, and $A \\in \\mathbb{R}^{M \\times N^2}$ the sparse tomography matrix. \n",
    "\n",
    "Full-angle data: The data consists of 1D shadow images of the true image in different directions of projection. The projection angle varies over an interval of length $\\pi$. We discretize the arc of a semicircle into 40 equal intervals and increase the look angle by $\\pi / 40$ each step, yielding to discrete angles $\\phi_i$, $1 \\le i \\le 40$. The line of projection is divided into 41 intervals. Hence, the projection data has the size $40 \\times 41$."
   ]
  },
  {
   "cell_type": "code",
   "execution_count": 1,
   "id": "2be4a398",
   "metadata": {},
   "outputs": [],
   "source": [
    "%matplotlib qt\n",
    "import numpy as np\n",
    "import matplotlib.pyplot as plt\n",
    "from skimage.transform import radon, resize"
   ]
  },
  {
   "cell_type": "markdown",
   "id": "43039b51",
   "metadata": {},
   "source": [
    "# Generate original image\n",
    "The original image is pixelized into $80 \\times 80$ pixels."
   ]
  },
  {
   "cell_type": "code",
   "execution_count": 2,
   "id": "b6283f12",
   "metadata": {},
   "outputs": [],
   "source": [
    "N0 = 80\n",
    "I0 = 0.1 * np.ones((N0, N0))\n",
    "\n",
    "for r in range(25, 40):\n",
    "    for c in range(29, 43):\n",
    "        I0[r][c] = 1.2\n",
    "\n",
    "for r in range(30, 49):\n",
    "    for c in range(32, 38):\n",
    "        I0[r][c] = 1.6\n",
    "    for c in range(47, 52):\n",
    "        I0[r][c] = 1.2\n",
    "        \n",
    "for r in range(59, 65):\n",
    "    for c in range(37, 43):\n",
    "        I0[r][c] = 2"
   ]
  },
  {
   "cell_type": "markdown",
   "id": "c737551c",
   "metadata": {},
   "source": [
    "# Draw sinogram using radon transform in scikit-image"
   ]
  },
  {
   "cell_type": "code",
   "execution_count": 3,
   "id": "d76f781d",
   "metadata": {},
   "outputs": [
    {
     "name": "stdout",
     "output_type": "stream",
     "text": [
      "Shape of downsampled sinogram = (40, 40)\n"
     ]
    },
    {
     "name": "stderr",
     "output_type": "stream",
     "text": [
      "/home/rob/anaconda3/lib/python3.8/site-packages/skimage/transform/radon_transform.py:83: UserWarning: Radon transform: image must be zero outside the reconstruction circle\n",
      "  warn('Radon transform: image must be zero outside the '\n"
     ]
    }
   ],
   "source": [
    "M, R = 40, 40\n",
    "\n",
    "phi = np.linspace(180 / M, 180, M, endpoint=True)\n",
    "sinogram = radon(I0, theta=phi)\n",
    "W = resize(sinogram, (R, M))\n",
    "\n",
    "print('Shape of downsampled sinogram =', np.shape(W))"
   ]
  },
  {
   "cell_type": "code",
   "execution_count": 4,
   "id": "2b488b6e",
   "metadata": {},
   "outputs": [],
   "source": [
    "fig1, (ax1, ax2) = plt.subplots(1, 2, figsize=(8, 4.5))\n",
    "fig1.suptitle('Figure 2.10')\n",
    "\n",
    "ax1.imshow(I0, cmap='gray_r', vmin=0, vmax=2)\n",
    "\n",
    "dx, dy = 0.5 * 180 / M, 0.5 / R\n",
    "ax2.imshow(W, cmap='gray_r',\n",
    "          extent=(dx, 180 + 2 * dx, -dy, R + dy),\n",
    "          aspect='auto')\n",
    "plt.axvline(x=45, ls='--', color='k')\n",
    "plt.axvline(x=135, ls='--', color='k')\n",
    "\n",
    "fig1.tight_layout()\n",
    "plt.show()"
   ]
  },
  {
   "cell_type": "code",
   "execution_count": null,
   "id": "93224827",
   "metadata": {},
   "outputs": [],
   "source": []
  }
 ],
 "metadata": {
  "kernelspec": {
   "display_name": "Python 3",
   "language": "python",
   "name": "python3"
  },
  "language_info": {
   "codemirror_mode": {
    "name": "ipython",
    "version": 3
   },
   "file_extension": ".py",
   "mimetype": "text/x-python",
   "name": "python",
   "nbconvert_exporter": "python",
   "pygments_lexer": "ipython3",
   "version": "3.8.8"
  }
 },
 "nbformat": 4,
 "nbformat_minor": 5
}
