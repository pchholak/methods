{
 "cells": [
  {
   "cell_type": "code",
   "execution_count": 1,
   "id": "7a4ccb0a",
   "metadata": {},
   "outputs": [],
   "source": [
    "%matplotlib qt\n",
    "import numpy as np\n",
    "import matplotlib.pyplot as plt\n",
    "import math\n",
    "from scipy.special import p_roots"
   ]
  },
  {
   "cell_type": "markdown",
   "id": "850dd892",
   "metadata": {},
   "source": [
    "# Forward modelling\n",
    "Use Gauss-Legendre quadrature with 40 points to model integration of a piecewise-linear function $f(t_k)$.\n",
    "$$\n",
    "x_k = f(t_k)\n",
    "$$\n",
    "$$\n",
    "y_j = \\mathcal{L}f(s_j)\n",
    "$$\n",
    "$$\n",
    "a_{jk} = w_k e^{-s_j t_k}\n",
    "$$\n",
    "\n",
    "The points $s_j$ are logarithmically distributed:\n",
    "$$\n",
    "s_j = 10 ^ {-1 + \\frac{j - 1}{20}}\n",
    "$$\n",
    "$$\n",
    "1 \\leq j \\leq 40\n",
    "$$\n",
    "The Laplace transform of the given function is given by:\n",
    "$$\n",
    "\\mathcal{L}f(s_j) = \\frac{1}{2 s_j^2} (2 - 3 e^{-s_j} + e^{-3 s_j})\n",
    "$$"
   ]
  },
  {
   "cell_type": "code",
   "execution_count": 2,
   "id": "4e64b035",
   "metadata": {},
   "outputs": [],
   "source": [
    "n = 40"
   ]
  },
  {
   "cell_type": "code",
   "execution_count": 3,
   "id": "dfcee055",
   "metadata": {},
   "outputs": [
    {
     "name": "stdout",
     "output_type": "stream",
     "text": [
      "Evaluating n = 40 points to be used by Gauss-Legendre quadrature rule.\n",
      "Evaluating logarithmically distributed points to measure y on.\n",
      "The determinant of the matrix A is 0.00.\n",
      "Min. norm error of true solution = 0.00.\n"
     ]
    }
   ],
   "source": [
    "print('Evaluating n = %d points to be used by Gauss-Legendre quadrature rule.' % n)\n",
    "[T0, W0] = p_roots(n)\n",
    "T = [2.5 * (1 + t0) for t0 in T0] # Transforming integration limits from [-1, 1] to [0, 5]\n",
    "W = 0.5 * (5 - 0) * W0\n",
    "\n",
    "# Compute the loading vector x = f(tk)\n",
    "x = np.zeros((n, 1))\n",
    "for k, tk in enumerate(T):\n",
    "    if (tk >= 0) & (tk < 1):\n",
    "        x[k] = tk\n",
    "    elif tk < 3:\n",
    "        x[k] = 1.5 - 0.5 * tk\n",
    "    else:\n",
    "        x[k] = 0\n",
    "\n",
    "print('Evaluating logarithmically distributed points to measure y on.')\n",
    "S = [10 ** (-1 + (j - 1) / 20) for j in range(1, n + 1)]\n",
    "\n",
    "# Compute the analytical (true) value of the Laplace transform y = Lf(sj)\n",
    "y_list = [1 / (2 * sj ** 2) * (2 - 3 * math.exp(-sj) + math.exp(-3 * sj)) for sj in S]\n",
    "y = np.array(y_list).reshape((n, 1))\n",
    "\n",
    "# Generate the forward model matrix A\n",
    "A = np.zeros((n, n))\n",
    "for j in range(n):\n",
    "    for k in range(n):\n",
    "        A[j][k] = W[k] * math.exp(-S[j] * T[k])\n",
    "print('The determinant of the matrix A is %.2f.' % np.linalg.det(A))\n",
    "\n",
    "# Check if the forward model is correct\n",
    "e = A @ x - y\n",
    "print('Min. norm error of true solution = %.2f.' % np.linalg.norm(e))"
   ]
  },
  {
   "cell_type": "markdown",
   "id": "bdd100fc",
   "metadata": {},
   "source": [
    "# Inverse modelling\n",
    "Case-1: Direct solution of Ax = y"
   ]
  },
  {
   "cell_type": "code",
   "execution_count": 4,
   "id": "97302e04",
   "metadata": {},
   "outputs": [],
   "source": [
    "Ainv = np.linalg.inv(A)\n",
    "xmin = Ainv @ y"
   ]
  },
  {
   "cell_type": "code",
   "execution_count": 5,
   "id": "2da9e586",
   "metadata": {},
   "outputs": [],
   "source": [
    "fig1 = plt.figure(figsize=(9, 12), dpi=65)\n",
    "fig1.suptitle('Figure 2.1', fontsize=16)\n",
    "fig1.add_subplot(311)\n",
    "plt.plot(T, x, '-o')\n",
    "plt.xlabel('$t_k$', fontsize=14)\n",
    "plt.ylabel('$f(t_k)$', fontsize=14)\n",
    "plt.xlim([0, 5])\n",
    "fig1.add_subplot(312)\n",
    "plt.plot(S, y, '-o')\n",
    "plt.xlabel('$s_j$', fontsize=14)\n",
    "plt.ylabel('$\\mathcal{L}f(s_j)$', fontsize=14)\n",
    "fig1.add_subplot(313)\n",
    "plt.plot(T, xmin, '-^')\n",
    "plt.xlabel('$t_k$', fontsize=14)\n",
    "plt.ylabel('$f_{Direct}(t_k)$', fontsize=14)\n",
    "plt.xlim([0, 5])\n",
    "plt.show()"
   ]
  },
  {
   "cell_type": "markdown",
   "id": "020acd8d",
   "metadata": {},
   "source": [
    "Case-2A: Solving Ax = y using Truncated SVD"
   ]
  },
  {
   "cell_type": "code",
   "execution_count": 6,
   "id": "9dd3333c",
   "metadata": {},
   "outputs": [],
   "source": [
    "U, L, VT = np.linalg.svd(A, full_matrices=0)\n",
    "\n",
    "P = [19, 20, 21]\n",
    "Xp = []\n",
    "for p in P:\n",
    "    x_p = VT[:p, :].T @ np.linalg.inv(np.diag(L[:p])) @ U[:, :p].T @ y\n",
    "    Xp.append(x_p)"
   ]
  },
  {
   "cell_type": "markdown",
   "id": "0568844b",
   "metadata": {},
   "source": [
    "Case-2B: Solving Ax = y + $\\eta$ using truncated SVD"
   ]
  },
  {
   "cell_type": "code",
   "execution_count": 7,
   "id": "336dd926",
   "metadata": {},
   "outputs": [],
   "source": [
    "# Generate noisy measurement data\n",
    "y_inf = np.max(np.abs(y))\n",
    "sigma = 0.01 * y_inf\n",
    "eta = np.random.normal(scale=sigma, size=n).reshape(-1, 1)\n",
    "y_noisy = y + eta"
   ]
  },
  {
   "cell_type": "code",
   "execution_count": 8,
   "id": "ff3ce0d4",
   "metadata": {},
   "outputs": [],
   "source": [
    "# Apply TSVD on noisy measurement data\n",
    "Pn = [4, 5, 6]\n",
    "Xnp = []\n",
    "for p in Pn:\n",
    "    xnp = VT[:p, :].T @ np.linalg.inv(np.diag(L[:p])) @ U[:, :p].T @ y_noisy\n",
    "    Xnp.append(xnp)"
   ]
  },
  {
   "cell_type": "code",
   "execution_count": 9,
   "id": "b35cdfa4",
   "metadata": {},
   "outputs": [],
   "source": [
    "plt.figure()\n",
    "plt.plot(range(1, n+1), np.log(L), '*')\n",
    "plt.axhline(y=np.log(1e-16), ls='-', color='k')\n",
    "plt.axhline(y=np.log(sigma), ls='--', color='k')\n",
    "plt.xlabel('i', fontsize=14)\n",
    "plt.ylabel('$\\sigma_i$', fontsize=14)\n",
    "plt.grid()\n",
    "plt.title('Figure 2.2', fontsize=16)\n",
    "plt.show()\n",
    "\n",
    "fig3 = plt.figure(figsize=(8, 6), dpi=120)\n",
    "fig3.suptitle('Figure 2.3', fontsize=16)\n",
    "fig3.add_subplot(211)\n",
    "style = ['.-', '--', '-']\n",
    "for i, xp in enumerate(Xp):\n",
    "    plt.plot(T, xp, style[i], label=P[i])\n",
    "plt.ylabel('$f(t_k)$', fontsize=14)\n",
    "plt.xlim([0, 5])\n",
    "plt.legend()\n",
    "fig3.add_subplot(212)\n",
    "style = ['.-', '--', '-']\n",
    "for i, xnp in enumerate(Xnp):\n",
    "    plt.plot(T, xnp, style[i], label=Pn[i])\n",
    "plt.xlabel('$t_k$', fontsize=14)\n",
    "plt.ylabel('$f(t_k)$', fontsize=14)\n",
    "plt.xlim([0, 5])\n",
    "plt.legend()\n",
    "plt.show()"
   ]
  },
  {
   "cell_type": "markdown",
   "id": "daa74709",
   "metadata": {},
   "source": [
    "Case-3: Solving Ax = y + $\\eta$ using Conjugate Gradient"
   ]
  },
  {
   "cell_type": "code",
   "execution_count": 10,
   "id": "69b1b691",
   "metadata": {},
   "outputs": [],
   "source": [
    "def conjugateGradientDiscrepancy(A, b, x, noise_estimate, i_max=1e3):\n",
    "    i = 0\n",
    "    r = b - A.dot(x)\n",
    "    d = r\n",
    "    delta = np.linalg.norm(r); ResNorm = delta ** 2\n",
    "    X = []; X.append(x)\n",
    "    while (i < i_max) & (delta > noise_estimate):\n",
    "        q = A.dot(d)\n",
    "        alpha = delta ** 2 / (d.T.dot(q))\n",
    "        x = x + alpha * d\n",
    "        r = r - alpha * q\n",
    "        ResNormOld = ResNorm\n",
    "        delta = np.linalg.norm(r); ResNorm = delta ** 2\n",
    "        beta = ResNorm / ResNormOld\n",
    "        d = r + beta * d\n",
    "        X.append(x)\n",
    "        i += 1\n",
    "    return x, np.array(X), i"
   ]
  },
  {
   "cell_type": "code",
   "execution_count": 12,
   "id": "5414d6a1",
   "metadata": {},
   "outputs": [
    {
     "name": "stdout",
     "output_type": "stream",
     "text": [
      "Total no. of iterations tested = 9\n",
      "No. of iterations to match discrepancy = 7\n"
     ]
    }
   ],
   "source": [
    "x_0 = np.zeros((n, 1))\n",
    "noise_estimate = math.sqrt(n) * sigma\n",
    "\n",
    "_, XCG, i_max = conjugateGradientDiscrepancy(A, y, x_0, noise_estimate=0, i_max=9)\n",
    "print('Total no. of iterations tested =', i_max)\n",
    "\n",
    "xCG, _, n_steps = conjugateGradientDiscrepancy(A, y, x_0, noise_estimate=noise_estimate, i_max=9)\n",
    "print('No. of iterations to match discrepancy =', n_steps)"
   ]
  },
  {
   "cell_type": "code",
   "execution_count": 19,
   "id": "dbfaed87",
   "metadata": {},
   "outputs": [
    {
     "data": {
      "text/plain": [
       "(9, 40, 1)"
      ]
     },
     "execution_count": 19,
     "metadata": {},
     "output_type": "execute_result"
    }
   ],
   "source": [
    "np.shape(XCG[1:,:,:])"
   ]
  },
  {
   "cell_type": "code",
   "execution_count": 28,
   "id": "66c9cafc",
   "metadata": {},
   "outputs": [],
   "source": [
    "fig4 = plt.figure(figsize=(9, 9), dpi=100)\n",
    "fig4.suptitle('Figure 2.14', fontsize=16)\n",
    "for k, xCG_k in enumerate(XCG[1:, :, :], start=1):\n",
    "    fig4.add_subplot(3, 3, k)\n",
    "    plt.plot(T, x, lw=0.5)\n",
    "    plt.plot(T, xCG_k, lw=2)\n",
    "    plt.title('Iteration = %d' % k)\n",
    "    plt.xlim([0, 5])\n",
    "    plt.ylim([-0.5, 1.5])\n",
    "fig4.tight_layout()\n",
    "plt.show()"
   ]
  },
  {
   "cell_type": "code",
   "execution_count": null,
   "id": "6d88fe99",
   "metadata": {},
   "outputs": [],
   "source": []
  }
 ],
 "metadata": {
  "kernelspec": {
   "display_name": "Python 3",
   "language": "python",
   "name": "python3"
  },
  "language_info": {
   "codemirror_mode": {
    "name": "ipython",
    "version": 3
   },
   "file_extension": ".py",
   "mimetype": "text/x-python",
   "name": "python",
   "nbconvert_exporter": "python",
   "pygments_lexer": "ipython3",
   "version": "3.8.8"
  }
 },
 "nbformat": 4,
 "nbformat_minor": 5
}
