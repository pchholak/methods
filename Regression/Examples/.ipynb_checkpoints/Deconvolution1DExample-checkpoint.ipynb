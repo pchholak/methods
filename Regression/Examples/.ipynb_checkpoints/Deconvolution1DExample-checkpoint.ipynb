{
 "cells": [
  {
   "cell_type": "markdown",
   "id": "65fef36b",
   "metadata": {},
   "source": [
    "# One-dimensional deconvolution problem\n",
    "Find $f(t), 0 \\le t \\le 1$ from noisy observations of the function\n",
    "$$\n",
    "g(s) = \\int_{0}^{1} \\phi(s-t) f(t) dt, 0 \\le s \\le 1,\n",
    "$$\n",
    "where the convolution kernel is\n",
    "$$\n",
    "\\phi(t) = e^{-a|t|}, a = 20.\n",
    "$$\n",
    "As a test function, we use\n",
    "$$\n",
    "f(t) = t(1-t).\n",
    "$$\n",
    "Analytical solution of function $g$ yields\n",
    "$$\n",
    "g(s) = \\frac{2}{a}s(1-s) + \\frac{1}{a^2}(e^{-as} + e^{-a(1-s)}) + \\frac{2}{a^3}(e^{-as} + e^{-a(1-s)} - 2).\n",
    "$$\n",
    "The data is recorded on an even mesh with mesh size 1/100. The reconstruction mesh is also equispaced with mesh size 1/80. Therefore, the matrix $A$ has entries\n",
    "$$\n",
    "A_{ij} = \\frac{1}{80} e^{-a|t_i - s_j|}, t_i = \\frac{i}{80}, s_j = \\frac{j}{100},\n",
    "$$\n",
    "$$\n",
    "0 \\le i \\le 80, 0 \\le j \\le 100.\n",
    "$$\n",
    "Random normally distributed zero mean noise is added to the exact data with independent components and standard deviation $5\\%$ of the maximum value of the noiseless data."
   ]
  },
  {
   "cell_type": "code",
   "execution_count": 1,
   "id": "d6b81354",
   "metadata": {},
   "outputs": [],
   "source": [
    "%matplotlib qt\n",
    "import math\n",
    "import numpy as np\n",
    "import matplotlib.pyplot as plt"
   ]
  },
  {
   "cell_type": "code",
   "execution_count": 2,
   "id": "0e46703f",
   "metadata": {},
   "outputs": [],
   "source": [
    "# Given data\n",
    "a = 20\n",
    "t = [u / 80 for u in np.arange(0, 81)]\n",
    "s = [v / 100 for v in np.arange(0, 101)]\n",
    "g = [2 / a * sj * (1 - sj) + 1 / a ** 2 * (math.exp(-a * sj) + math.exp(-a * (1 - sj))) \\\n",
    "    + 2 / a ** 3 * (math.exp(-a * sj) + math.exp(-a * (1 - sj)) - 2) for sj in s]\n",
    "f = [tj * (1 - tj) for tj in t]"
   ]
  },
  {
   "cell_type": "code",
   "execution_count": 3,
   "id": "f42c54e4",
   "metadata": {},
   "outputs": [
    {
     "name": "stdout",
     "output_type": "stream",
     "text": [
      "Shape of A = (101, 81)\n"
     ]
    }
   ],
   "source": [
    "# Generate the forward model matrix A\n",
    "m, n = len(s), len(t)\n",
    "A = np.zeros((m, n))\n",
    "for i, ti in enumerate(t):\n",
    "    for j, sj in enumerate(s):\n",
    "        A[j][i] = 1 / 80 * math.exp(-a * np.abs(ti - sj))\n",
    "print('Shape of A =', np.shape(A))"
   ]
  },
  {
   "cell_type": "code",
   "execution_count": 4,
   "id": "327358ac",
   "metadata": {},
   "outputs": [],
   "source": [
    "# Generate noisy measurement data\n",
    "inf_norm = np.max(np.abs(g))\n",
    "sigma = 0.05 * inf_norm\n",
    "eta = np.random.normal(scale=sigma, size=m)\n",
    "y = (g + eta).reshape(-1, 1)"
   ]
  },
  {
   "cell_type": "code",
   "execution_count": 5,
   "id": "1f4a6d91",
   "metadata": {},
   "outputs": [],
   "source": [
    "# Minimum norm solution\n",
    "A_dag = np.linalg.pinv(A)\n",
    "f_dag = A_dag @ y"
   ]
  },
  {
   "cell_type": "code",
   "execution_count": 6,
   "id": "396b9d07",
   "metadata": {},
   "outputs": [],
   "source": [
    "# Figure 2.8\n",
    "fig1 = plt.figure(figsize=(12, 6))\n",
    "plt.suptitle('Figure 2.8')\n",
    "ax11 = fig1.add_subplot(121)\n",
    "plt.plot(s, y, lw=2, color='k', label='noisy')\n",
    "plt.plot(s, g, lw=1, color='k', label='noiseless')\n",
    "plt.xlabel('$s_j$', fontsize=14)\n",
    "plt.ylabel('$g$', fontsize=14)\n",
    "plt.legend()\n",
    "ax21 = fig1.add_subplot(122)\n",
    "plt.plot(t, f_dag, lw=1, color='k', label='minimum norm')\n",
    "plt.plot(t, f, lw=2, color='k', label='true')\n",
    "plt.xlabel('$t_i$', fontsize=14)\n",
    "plt.ylabel('$f$', fontsize=14)\n",
    "plt.legend()\n",
    "plt.show()"
   ]
  },
  {
   "cell_type": "markdown",
   "id": "5764af28",
   "metadata": {},
   "source": [
    "# Solving using Landweber-Fridman iteration\n",
    "The relaxation parameter was chosen as $\\beta = 0.1\\beta_{max}$, where $\\beta_{max} = 2 / \\lVert A \\rVert ^2$. The error for the application of discrepancy principle was chosen as $\\epsilon = \\sqrt{81}\\sigma$."
   ]
  },
  {
   "cell_type": "code",
   "execution_count": 7,
   "id": "9195ca8f",
   "metadata": {},
   "outputs": [],
   "source": [
    "def regressLandweberFridman(A, b, x_0, i_max=1e3, epsilon=1e-6):\n",
    "    '''\n",
    "    Solve inverse problem using Landweber-Fridman iteration scheme\n",
    "    '''\n",
    "    beta_max = 2 / np.linalg.norm(A, ord=2) ** 2; beta = 0.1 * beta_max\n",
    "    i, x = 0, x_0\n",
    "    delta = np.linalg.norm(b - A @ x)\n",
    "    X = []\n",
    "    while (i < i_max) & (delta > epsilon):\n",
    "        x = x + beta * (A.T @ b - A.T @ (A @ x))\n",
    "        delta = np.linalg.norm(b - A @ x)\n",
    "        X.append(x)\n",
    "        i += 1\n",
    "    return x, np.array(X), i"
   ]
  },
  {
   "cell_type": "code",
   "execution_count": 8,
   "id": "a60437c3",
   "metadata": {},
   "outputs": [
    {
     "name": "stdout",
     "output_type": "stream",
     "text": [
      "No. of iterations = 17\n"
     ]
    }
   ],
   "source": [
    "x_0 = np.zeros((np.size(A, 1), 1))\n",
    "epsilon = math.sqrt(len(y)) * sigma # Morozov discrepancy principle\n",
    "xLF, X, n_steps = regressLandweberFridman(A, y, x_0, epsilon=epsilon)\n",
    "print('No. of iterations =', n_steps)"
   ]
  },
  {
   "cell_type": "code",
   "execution_count": 9,
   "id": "53055dc2",
   "metadata": {},
   "outputs": [],
   "source": [
    "fig2 = plt.figure()\n",
    "plt.suptitle('Figure 2.9')\n",
    "plt.plot(t, f, color='k', lw=2, ls='--')\n",
    "for x in X:\n",
    "    plt.plot(t, x, color='k', lw=2)\n",
    "plt.xlabel('$t_i$', fontsize=14)\n",
    "plt.ylabel('$f_k$', fontsize=14)\n",
    "plt.title('Number of iterations = %d' % n_steps)\n",
    "plt.show()"
   ]
  },
  {
   "cell_type": "code",
   "execution_count": null,
   "id": "0c2cf849",
   "metadata": {},
   "outputs": [],
   "source": []
  }
 ],
 "metadata": {
  "kernelspec": {
   "display_name": "Python 3",
   "language": "python",
   "name": "python3"
  },
  "language_info": {
   "codemirror_mode": {
    "name": "ipython",
    "version": 3
   },
   "file_extension": ".py",
   "mimetype": "text/x-python",
   "name": "python",
   "nbconvert_exporter": "python",
   "pygments_lexer": "ipython3",
   "version": "3.8.8"
  }
 },
 "nbformat": 4,
 "nbformat_minor": 5
}
