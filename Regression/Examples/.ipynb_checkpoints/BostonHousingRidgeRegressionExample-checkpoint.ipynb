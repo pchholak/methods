{
 "cells": [
  {
   "cell_type": "code",
   "execution_count": 1,
   "id": "86f16a15",
   "metadata": {},
   "outputs": [],
   "source": [
    "from pandas import read_csv\n",
    "import matplotlib.pyplot as plt\n",
    "import numpy as np\n",
    "from numpy import mean, std, absolute, arange\n",
    "from sklearn.model_selection import cross_val_score, RepeatedKFold, GridSearchCV\n",
    "from sklearn.linear_model import Ridge, RidgeCV"
   ]
  },
  {
   "cell_type": "markdown",
   "id": "a74f92a8",
   "metadata": {},
   "source": [
    "# Define Functions"
   ]
  },
  {
   "cell_type": "code",
   "execution_count": 2,
   "id": "82df0dae",
   "metadata": {},
   "outputs": [],
   "source": [
    "def ridgeRegressionCG(Au, bu, xu, phi=0, i_max=1e6, epsilon=1e-6):\n",
    "    iCheckFPErr = np.max([50, int(np.sqrt(np.size(Au, 1)))])\n",
    "    i = 0\n",
    "    x = Au.T @ xu; b = Au.T @ bu\n",
    "    r = b - (Au.T @ (Au @ x) + phi * x)\n",
    "    d = r\n",
    "    delta_new = r.T.dot(r)\n",
    "    delta_0 = delta_new\n",
    "    X = []; X.append(x)\n",
    "    while (i < i_max) & (delta_new > epsilon ** 2 * delta_0):\n",
    "        q = Au.T @ (Au @ d) + phi * d\n",
    "        alpha = delta_new / (d.T.dot(q))\n",
    "        x = x + alpha * d\n",
    "        if i % iCheckFPErr == 0:\n",
    "            r = b - (Au.T @ (Au @ x) + phi * x)\n",
    "        else:\n",
    "            r = r - alpha * q\n",
    "        delta_old = delta_new\n",
    "        delta_new = r.T.dot(r)\n",
    "        beta = delta_new / delta_old\n",
    "        d = r + beta * d\n",
    "        X.append(x)\n",
    "        i += 1\n",
    "    return x, np.array(X), i"
   ]
  },
  {
   "cell_type": "markdown",
   "id": "e3c50ee6",
   "metadata": {},
   "source": [
    "# Load dataset"
   ]
  },
  {
   "cell_type": "code",
   "execution_count": 3,
   "id": "17737c85",
   "metadata": {},
   "outputs": [
    {
     "name": "stdout",
     "output_type": "stream",
     "text": [
      "Shape summary:\n",
      " (506, 14)\n",
      "Summary of first few lines:\n",
      "         0     1     2   3      4      5     6       7   8      9     10  \\\n",
      "0  0.00632  18.0  2.31   0  0.538  6.575  65.2  4.0900   1  296.0  15.3   \n",
      "1  0.02731   0.0  7.07   0  0.469  6.421  78.9  4.9671   2  242.0  17.8   \n",
      "2  0.02729   0.0  7.07   0  0.469  7.185  61.1  4.9671   2  242.0  17.8   \n",
      "3  0.03237   0.0  2.18   0  0.458  6.998  45.8  6.0622   3  222.0  18.7   \n",
      "4  0.06905   0.0  2.18   0  0.458  7.147  54.2  6.0622   3  222.0  18.7   \n",
      "\n",
      "       11    12    13  \n",
      "0  396.90  4.98  24.0  \n",
      "1  396.90  9.14  21.6  \n",
      "2  392.83  4.03  34.7  \n",
      "3  394.63  2.94  33.4  \n",
      "4  396.90  5.33  36.2  \n"
     ]
    }
   ],
   "source": [
    "# Load dataset\n",
    "url = 'https://raw.githubusercontent.com/jbrownlee/Datasets/master/housing.csv'\n",
    "dataframe = read_csv(url, header=None)\n",
    "\n",
    "print(\"Shape summary:\\n\", dataframe.shape)\n",
    "print(\"Summary of first few lines:\\n\", dataframe.head())\n",
    "\n",
    "# Extract data\n",
    "data = dataframe.values\n",
    "X, y = data[:, :-1], data[:, -1]"
   ]
  },
  {
   "cell_type": "markdown",
   "id": "a45444f5",
   "metadata": {},
   "source": [
    "# Evaluate Ridge Regression Model by Cross-Validation"
   ]
  },
  {
   "cell_type": "code",
   "execution_count": 4,
   "id": "29fa41cf",
   "metadata": {},
   "outputs": [
    {
     "name": "stdout",
     "output_type": "stream",
     "text": [
      "Mean MAE: 3.382 (0.519)\n"
     ]
    }
   ],
   "source": [
    "# Define model\n",
    "model = Ridge(alpha=1.0)\n",
    "\n",
    "# Define model evaluation method\n",
    "cv = RepeatedKFold(n_splits=10, n_repeats=3, random_state=1)\n",
    "\n",
    "# Evaluate model\n",
    "scores = cross_val_score(model, X, y, scoring='neg_mean_absolute_error', cv=cv, n_jobs=-1)\n",
    "\n",
    "# Force scores to be positive\n",
    "scores = absolute(scores)\n",
    "print('Mean MAE: %.3f (%.3f)' % (mean(scores), std(scores)))"
   ]
  },
  {
   "cell_type": "markdown",
   "id": "d7f906b2",
   "metadata": {},
   "source": [
    "# Prediction"
   ]
  },
  {
   "cell_type": "code",
   "execution_count": 5,
   "id": "6ead09de",
   "metadata": {},
   "outputs": [
    {
     "name": "stdout",
     "output_type": "stream",
     "text": [
      "Predicted: 30.253\n"
     ]
    }
   ],
   "source": [
    "# Fit model\n",
    "model.fit(X, y)\n",
    "\n",
    "# Define new data\n",
    "row = [0.00632, 18.00, 2.310, 0, 0.5380, 6.5750, 65.20, 4.0900, 1, 296.0, 15.30, 396.90, 4.98]\n",
    "\n",
    "# Make a prediction\n",
    "yhat = model.predict([row])\n",
    "\n",
    "# Summarize prediction\n",
    "print('Predicted: %.3f' % yhat)"
   ]
  },
  {
   "cell_type": "markdown",
   "id": "77d6804f",
   "metadata": {},
   "source": [
    "# Tuning Ridge Hyperparameters"
   ]
  },
  {
   "cell_type": "code",
   "execution_count": 6,
   "id": "9e7cce55",
   "metadata": {},
   "outputs": [
    {
     "name": "stdout",
     "output_type": "stream",
     "text": [
      "MAE: -3.379\n",
      "Config: {'alpha': 0.51}\n"
     ]
    }
   ],
   "source": [
    "# Define model\n",
    "model = Ridge()\n",
    "\n",
    "# Define model evaluation method\n",
    "cv = RepeatedKFold(n_splits=10, n_repeats=3, random_state=1)\n",
    "\n",
    "# Define grid\n",
    "grid = dict()\n",
    "grid['alpha'] = arange(0, 1, 0.01)\n",
    "\n",
    "# Define search\n",
    "search = GridSearchCV(model, grid, scoring='neg_mean_absolute_error', cv=cv, n_jobs=-1)\n",
    "\n",
    "# Perform the search\n",
    "results = search.fit(X, y)\n",
    "\n",
    "# Summarize\n",
    "print('MAE: %.3f' % results.best_score_)\n",
    "print('Config: %s' % results.best_params_)"
   ]
  },
  {
   "cell_type": "markdown",
   "id": "20f691cd",
   "metadata": {},
   "source": [
    "# Tuning Ridge Hyperparameters via the RidgeCV class of Scikit-Learn"
   ]
  },
  {
   "cell_type": "code",
   "execution_count": 7,
   "id": "caca9350",
   "metadata": {},
   "outputs": [
    {
     "name": "stdout",
     "output_type": "stream",
     "text": [
      "alpha: 0.510000\n"
     ]
    }
   ],
   "source": [
    "# Define model evaluation method\n",
    "cv = RepeatedKFold(n_splits=10, n_repeats=3, random_state=1)\n",
    "\n",
    "# Define model\n",
    "model = RidgeCV(alphas=arange(0, 1, 0.01), cv=cv, scoring='neg_mean_absolute_error')\n",
    "\n",
    "# Fit model\n",
    "model.fit(X, y)\n",
    "\n",
    "# Summarize chosen configuration\n",
    "print('alpha: %f' % model.alpha_)"
   ]
  },
  {
   "cell_type": "markdown",
   "id": "cf412b17",
   "metadata": {},
   "source": [
    "# Solve using CG-based Ridge Regression"
   ]
  },
  {
   "cell_type": "code",
   "execution_count": 8,
   "id": "429ca2c8",
   "metadata": {},
   "outputs": [
    {
     "name": "stdout",
     "output_type": "stream",
     "text": [
      "Predicted value: 29.143\n"
     ]
    }
   ],
   "source": [
    "# Fit model\n",
    "Au = X; bu = y.reshape(-1, 1); xu_0 = np.zeros(np.shape(bu))\n",
    "w_cgm, _, _ = ridgeRegressionCG(Au, bu, xu_0, phi=0.51)\n",
    "\n",
    "# Define new data\n",
    "row = [0.00632, 18.00, 2.310, 0, 0.5380, 6.5750, 65.20, 4.0900, 1, 296.0, 15.30, 396.90, 4.98]\n",
    "Au_hat = np.array(row)\n",
    "\n",
    "# Predict\n",
    "bu_hat = Au_hat @ w_cgm\n",
    "print('Predicted value: %.3f' % bu_hat)"
   ]
  },
  {
   "cell_type": "code",
   "execution_count": null,
   "id": "dcb1e61c",
   "metadata": {},
   "outputs": [],
   "source": []
  }
 ],
 "metadata": {
  "kernelspec": {
   "display_name": "Python 3",
   "language": "python",
   "name": "python3"
  },
  "language_info": {
   "codemirror_mode": {
    "name": "ipython",
    "version": 3
   },
   "file_extension": ".py",
   "mimetype": "text/x-python",
   "name": "python",
   "nbconvert_exporter": "python",
   "pygments_lexer": "ipython3",
   "version": "3.8.8"
  }
 },
 "nbformat": 4,
 "nbformat_minor": 5
}
