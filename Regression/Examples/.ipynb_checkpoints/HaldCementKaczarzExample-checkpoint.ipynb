{
 "cells": [
  {
   "cell_type": "code",
   "execution_count": 1,
   "id": "769c7c8c",
   "metadata": {},
   "outputs": [],
   "source": [
    "%matplotlib qt\n",
    "import matplotlib.pyplot as plt\n",
    "import numpy as np\n",
    "import os"
   ]
  },
  {
   "cell_type": "code",
   "execution_count": 2,
   "id": "d8528bc6",
   "metadata": {},
   "outputs": [],
   "source": [
    "# Load dataset\n",
    "A = np.loadtxt(os.path.join('/home/rob/data/databookuw', 'hald_ingredients.csv'), delimiter=',')\n",
    "b = np.loadtxt(os.path.join('/home/rob/data/databookuw', 'hald_heat.csv'), delimiter=',')"
   ]
  },
  {
   "cell_type": "code",
   "execution_count": 3,
   "id": "c580fcb8",
   "metadata": {},
   "outputs": [],
   "source": [
    "def solveRegressionKaczmarz(A, b, x_0, i_max=1e4, discrepancy=1e-3):\n",
    "    i, x = 0, x_0\n",
    "    err = np.linalg.norm(A @ x - b)\n",
    "    X = []; X.append(x)\n",
    "    while (i < i_max) & (err > discrepancy):\n",
    "        z = x\n",
    "        for j in range(np.size(A, 0)):\n",
    "            z = z + 1 / (A[j, :].dot(A[j, :])) * (b[j] - A[j, :].dot(z)) * A[j, :].T\n",
    "        x = z\n",
    "        err = np.linalg.norm(A @ x - b)\n",
    "        X.append(x)\n",
    "        i += 1\n",
    "    return x, np.array(X), i"
   ]
  },
  {
   "cell_type": "code",
   "execution_count": 13,
   "id": "acbf3af8",
   "metadata": {},
   "outputs": [
    {
     "name": "stdout",
     "output_type": "stream",
     "text": [
      "x = [1.91899101 1.16490064 0.5371049  0.55833394]\n",
      "no. of iterations = 500\n",
      "Min. norm error = 11.555380210914532\n"
     ]
    }
   ],
   "source": [
    "# Solve using Kaczmarz iteration\n",
    "x_0 = np.zeros((np.size(A, 1),))\n",
    "x_kac, X, n_steps = solveRegressionKaczmarz(A, b, x_0, i_max=500)\n",
    "print('x =', x_kac)\n",
    "print('no. of iterations =', n_steps)\n",
    "print('Min. norm error =', np.linalg.norm(A @ x_kac - b))"
   ]
  },
  {
   "cell_type": "code",
   "execution_count": 5,
   "id": "8e55fbed",
   "metadata": {},
   "outputs": [
    {
     "name": "stdout",
     "output_type": "stream",
     "text": [
      "SVD solution =\n",
      " [2.19304602 1.15332597 0.75850914 0.48631933]\n"
     ]
    }
   ],
   "source": [
    "# Solve Ax=b using SVD\n",
    "U, S, VT = np.linalg.svd(A, full_matrices=0)\n",
    "x_svd = VT.T @ np.linalg.inv(np.diag(S)) @ U.T @ b\n",
    "print('SVD solution =\\n', x_svd)"
   ]
  },
  {
   "cell_type": "code",
   "execution_count": 6,
   "id": "e5a2ba02",
   "metadata": {},
   "outputs": [],
   "source": [
    "plt.figure(figsize=(8, 8))\n",
    "plt.plot(b, color='k', linewidth=2, label='Heat Data') # True relationship\n",
    "plt.plot(A @ x_svd, '-o', color='r', linewidth=2, markersize=6, label='SVD')\n",
    "plt.plot(A @ x_kac, '-o', color='g', linewidth=2, markersize=6, label='Kaczmarz')\n",
    "plt.legend()\n",
    "plt.show()"
   ]
  },
  {
   "cell_type": "code",
   "execution_count": null,
   "id": "820b4b2a",
   "metadata": {},
   "outputs": [],
   "source": []
  }
 ],
 "metadata": {
  "kernelspec": {
   "display_name": "Python 3",
   "language": "python",
   "name": "python3"
  },
  "language_info": {
   "codemirror_mode": {
    "name": "ipython",
    "version": 3
   },
   "file_extension": ".py",
   "mimetype": "text/x-python",
   "name": "python",
   "nbconvert_exporter": "python",
   "pygments_lexer": "ipython3",
   "version": "3.8.8"
  }
 },
 "nbformat": 4,
 "nbformat_minor": 5
}
