{
 "cells": [
  {
   "cell_type": "code",
   "execution_count": 1,
   "id": "73bc12f0",
   "metadata": {},
   "outputs": [],
   "source": [
    "%matplotlib qt\n",
    "import numpy as np\n",
    "import matplotlib.pyplot as plt\n",
    "from sklearn.datasets import make_regression\n",
    "from sklearn.linear_model import Ridge"
   ]
  },
  {
   "cell_type": "code",
   "execution_count": 2,
   "id": "ed8b6f3b",
   "metadata": {},
   "outputs": [],
   "source": [
    "def ridgeRegressionSVD(X, y, alpha=0):\n",
    "    '''\n",
    "    Invert X using the SVD-based formula for ridge regression and find the inverse solution.\n",
    "    '''\n",
    "    \n",
    "    # Find inverse of X\n",
    "    U, L, VT = np.linalg.svd(X, full_matrices=0)\n",
    "    X_inv = VT.T @ np.diag([l / (l ** 2 + alpha) for l in L]) @ U.T\n",
    "\n",
    "    # Calculate weights\n",
    "    w = X_inv @ y\n",
    "    \n",
    "    return w, X_inv"
   ]
  },
  {
   "cell_type": "code",
   "execution_count": 3,
   "id": "6797543b",
   "metadata": {},
   "outputs": [
    {
     "name": "stdout",
     "output_type": "stream",
     "text": [
      "w = [80.71051956 38.78606441]\n"
     ]
    }
   ],
   "source": [
    "# Generate sample data for regression\n",
    "X, y, coefficients = make_regression(\n",
    "    n_samples=50,\n",
    "    n_features=2,\n",
    "    n_informative=2,\n",
    "    n_targets=1,\n",
    "    noise=5,\n",
    "    coef=True,\n",
    "    random_state=1\n",
    ")\n",
    "print(\"w =\", coefficients)"
   ]
  },
  {
   "cell_type": "code",
   "execution_count": 4,
   "id": "abb83565",
   "metadata": {},
   "outputs": [],
   "source": [
    "alpha = 1"
   ]
  },
  {
   "cell_type": "code",
   "execution_count": 5,
   "id": "8c44c9b5",
   "metadata": {},
   "outputs": [
    {
     "name": "stdout",
     "output_type": "stream",
     "text": [
      "w_rdg = [78.67157736 38.47318203]\n"
     ]
    }
   ],
   "source": [
    "# Solve using inverse formula for Ridge Regression\n",
    "w_rdg, _ = ridgeRegressionSVD(X, y, alpha=alpha)\n",
    "print(\"w_rdg =\", w_rdg)"
   ]
  },
  {
   "cell_type": "code",
   "execution_count": 6,
   "id": "998fb34b",
   "metadata": {},
   "outputs": [
    {
     "name": "stdout",
     "output_type": "stream",
     "text": [
      "w_skl = [78.59919749 38.46525658]\n"
     ]
    }
   ],
   "source": [
    "# Solve using scikit-learn implementation of Ridge Regression\n",
    "rr = Ridge(alpha=alpha)\n",
    "rr.fit(X, y)\n",
    "w_skl = rr.coef_\n",
    "print(\"w_skl =\", w_skl)"
   ]
  },
  {
   "cell_type": "code",
   "execution_count": 7,
   "id": "97cabbdc",
   "metadata": {},
   "outputs": [],
   "source": [
    "plt.figure()\n",
    "plt.scatter(range(0, len(y)), y, label='True Points')\n",
    "plt.plot(X @ w_skl, 's', c='r', linewidth=2, label='Scikit-Learn')\n",
    "plt.plot(X @ w_rdg, '.-', c='g', linewidth=1, label='Ridge-SVD')\n",
    "plt.legend()\n",
    "plt.show()"
   ]
  },
  {
   "cell_type": "code",
   "execution_count": null,
   "id": "489047b9",
   "metadata": {},
   "outputs": [],
   "source": []
  }
 ],
 "metadata": {
  "kernelspec": {
   "display_name": "Python 3",
   "language": "python",
   "name": "python3"
  },
  "language_info": {
   "codemirror_mode": {
    "name": "ipython",
    "version": 3
   },
   "file_extension": ".py",
   "mimetype": "text/x-python",
   "name": "python",
   "nbconvert_exporter": "python",
   "pygments_lexer": "ipython3",
   "version": "3.8.8"
  }
 },
 "nbformat": 4,
 "nbformat_minor": 5
}
