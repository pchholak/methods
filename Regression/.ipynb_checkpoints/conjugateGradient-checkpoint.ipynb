{
 "cells": [
  {
   "cell_type": "code",
   "execution_count": 1,
   "id": "1efab525",
   "metadata": {},
   "outputs": [],
   "source": [
    "%matplotlib qt\n",
    "import numpy as np\n",
    "import matplotlib.pyplot as plt\n",
    "from mpl_toolkits.mplot3d import Axes3D"
   ]
  },
  {
   "cell_type": "code",
   "execution_count": 9,
   "id": "e5a8f16b",
   "metadata": {},
   "outputs": [],
   "source": [
    "def conjugateGradient(A, b, x, i_max=1e3, epsilon=1e-6):\n",
    "    i = 0\n",
    "    r = b - A.dot(x)\n",
    "    d = r\n",
    "    delta_new = np.linalg.norm(r) ** 2\n",
    "    delta_0 = delta_new\n",
    "    X = []; X.append(x)\n",
    "    while (i < i_max) & (delta_new > epsilon ** 2 * delta_0):\n",
    "        q = A.dot(d)\n",
    "        alpha = delta_new / (d.T.dot(q))\n",
    "        x = x + alpha * d\n",
    "        if i % 50 == 0:\n",
    "            r = b - A.dot(x)\n",
    "        else:\n",
    "            r = r - alpha * q\n",
    "        delta_old = delta_new\n",
    "        delta_new = np.linalg.norm(r) ** 2\n",
    "        beta = delta_new / delta_old\n",
    "        d = r + beta * d\n",
    "        X.append(x)\n",
    "        i += 1\n",
    "    return x, np.array(X), i\n",
    "\n",
    "def conjugateGradientTheoretical(A, b, x_0, eps_tol=1e-6):\n",
    "    d_0 = r_0 = b - A.dot(x_0)\n",
    "    d_i, r_i, x_i = d_0, r_0, x_0\n",
    "    norm_0 = np.linalg.norm(r_0)\n",
    "    X = []\n",
    "    X.append(x_i)\n",
    "    n, n_steps = np.size(x_0), 0\n",
    "    for i in range(n):\n",
    "        n_steps += 1\n",
    "        \n",
    "        Ad_i = A.dot(d_i)\n",
    "        alpha_i = (r_i.T.dot(r_i)) / (d_i.T.dot(Ad_i))\n",
    "        x_iplus1 = x_i + alpha_i * d_i\n",
    "        r_iplus1 = r_i - alpha_i * Ad_i\n",
    "        beta_iplus1 = (r_iplus1.T.dot(r_iplus1)) / (r_i.T.dot(r_i))\n",
    "        d_iplus1 = r_iplus1 + beta_iplus1 * d_i\n",
    "        d_i, r_i, x_i = d_iplus1, r_iplus1, x_iplus1\n",
    "        X.append(x_iplus1)\n",
    "        \n",
    "        epsilon = np.linalg.norm(r_i) / norm_0\n",
    "        if epsilon < eps_tol:\n",
    "            d_i = r_i = b - A.dot(x_i)\n",
    "            epsilon_revised = np.linalg.norm(r_i) / norm_0\n",
    "            if epsilon_revised < eps_tol:\n",
    "                break\n",
    "        \n",
    "    return x_iplus1, np.array(X), n_steps\n",
    "\n",
    "def f(A, b, c, x):\n",
    "    return 1 / 2 * x.T.dot(A.dot(x)) - b.T.dot(x) + c"
   ]
  },
  {
   "cell_type": "code",
   "execution_count": 10,
   "id": "a6e7f67d",
   "metadata": {},
   "outputs": [],
   "source": [
    "A = np.array([[3, 2], [2, 6]])\n",
    "b = np.array([[2], [-8]])\n",
    "c = 0\n",
    "x_0 = np.array([[-2], [-2]])"
   ]
  },
  {
   "cell_type": "code",
   "execution_count": 11,
   "id": "e1f70230",
   "metadata": {},
   "outputs": [
    {
     "name": "stdout",
     "output_type": "stream",
     "text": [
      "x = [[ 2.]\n",
      " [-2.]]\n",
      "no. of iterations = 2\n",
      "Minimum value of function = [[-10.]]\n"
     ]
    }
   ],
   "source": [
    "x, X, n_steps = conjugateGradient(A, b, x_0)\n",
    "print('x =', x)\n",
    "print('no. of iterations =', n_steps)\n",
    "\n",
    "fmin = f(A, b, c, x)\n",
    "print('Minimum value of function =', fmin)"
   ]
  },
  {
   "cell_type": "code",
   "execution_count": 13,
   "id": "c6f67b9c",
   "metadata": {},
   "outputs": [],
   "source": [
    "u = np.arange(-4, 6, .5)\n",
    "v = np.arange(-6, 4, .5)\n",
    "U, V = np.meshgrid(u, v)\n",
    "\n",
    "ws = []\n",
    "for arr in zip(np.ravel(U), np.ravel(V)):\n",
    "    vec = np.array(arr).T\n",
    "    ws.append(f(A, b, c, vec))\n",
    "W = np.array(ws).reshape(U.shape)\n",
    "    \n",
    "# fig = plt.figure()\n",
    "# ax = fig.add_subplot(111, projection='3d')\n",
    "# ax.plot_surface(U, V, W)\n",
    "\n",
    "# ax.set_xlabel('X1')\n",
    "# ax.set_ylabel('X2')\n",
    "# ax.set_zlabel('f(x)')\n",
    "\n",
    "# plt.show()\n",
    "\n",
    "fig, ax = plt.subplots(1, 1)\n",
    "cp = ax.contourf(U, V, W)\n",
    "fig.colorbar(cp)\n",
    "ax.plot(X[:, 0], X[:, 1], c='r', marker='o')\n",
    "\n",
    "ax.set_xlabel('X1')\n",
    "ax.set_ylabel('X2')\n",
    "\n",
    "plt.show()"
   ]
  },
  {
   "cell_type": "code",
   "execution_count": null,
   "id": "9289aa51",
   "metadata": {},
   "outputs": [],
   "source": []
  }
 ],
 "metadata": {
  "kernelspec": {
   "display_name": "Python 3",
   "language": "python",
   "name": "python3"
  },
  "language_info": {
   "codemirror_mode": {
    "name": "ipython",
    "version": 3
   },
   "file_extension": ".py",
   "mimetype": "text/x-python",
   "name": "python",
   "nbconvert_exporter": "python",
   "pygments_lexer": "ipython3",
   "version": "3.8.8"
  }
 },
 "nbformat": 4,
 "nbformat_minor": 5
}
