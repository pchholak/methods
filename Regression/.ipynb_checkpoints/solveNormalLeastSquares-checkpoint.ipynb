{
 "cells": [
  {
   "cell_type": "code",
   "execution_count": 1,
   "id": "5e167a42",
   "metadata": {},
   "outputs": [],
   "source": [
    "%matplotlib qt\n",
    "import numpy as np\n",
    "import matplotlib.pyplot as plt"
   ]
  },
  {
   "cell_type": "code",
   "execution_count": 2,
   "id": "6ffa93cf",
   "metadata": {},
   "outputs": [],
   "source": [
    "def solveNormalLeastSquares(Au, bu, xu_0, method='CG', i_max=1e6, epsilon=1e-6):\n",
    "    \n",
    "    iCheckFPErr = np.max([50, int(np.floor(np.sqrt(np.size(Au, 1))))])\n",
    "    \n",
    "    switcher = {\n",
    "        'SD': lambda : steepestDescentNormal(Au, bu, xu_0,\n",
    "                                                        i_max=i_max, epsilon=epsilon,\n",
    "                                                        iCheckFPErr=iCheckFPErr),\n",
    "        'CG': lambda : conjugateGradientNormal(Au, bu, xu_0,\n",
    "                                                        i_max=i_max, epsilon=epsilon,\n",
    "                                                        iCheckFPErr=iCheckFPErr),\n",
    "        'PCG': lambda : conjugateGradientPreconditionedNormal(Au, bu, xu_0,\n",
    "                                                        i_max=i_max, epsilon=epsilon,\n",
    "                                                        iCheckFPErr=iCheckFPErr),\n",
    "    }\n",
    "    x, X, n_steps = switcher.get(method)()\n",
    "\n",
    "    print('Minimum norm solution =\\n', x)\n",
    "    print('No. of iterations =', n_steps)\n",
    "    return x\n",
    "\n",
    "def conjugateGradientNormal(Au, bu, xu, i_max=1e6, epsilon=1e-6, iCheckFPErr=50):\n",
    "    i = 0\n",
    "    x = Au.T @ xu; b = Au.T @ bu\n",
    "    r = b - Au.T @ (Au @ x)\n",
    "    d = r\n",
    "    delta_new = r.T.dot(r)\n",
    "    delta_0 = delta_new\n",
    "    X = []; X.append(x)\n",
    "    while (i < i_max) & (delta_new > epsilon ** 2 * delta_0):\n",
    "        p = Au @ d\n",
    "        q = Au.T @ p\n",
    "        alpha = delta_new / (p.T.dot(p))\n",
    "        x = x + alpha * d\n",
    "        if i % iCheckFPErr == 0:\n",
    "            r = b - Au.T @ (Au @ x)\n",
    "        else:\n",
    "            r = r - alpha * q\n",
    "        delta_old = delta_new\n",
    "        delta_new = r.T.dot(r)\n",
    "        beta = delta_new / delta_old\n",
    "        d = r + beta * d\n",
    "        X.append(x)\n",
    "        i += 1\n",
    "    return x, np.array(X), i\n",
    "\n",
    "def steepestDescentNormal(Au, bu, xu, i_max=1e6, epsilon=1e-6, iCheckFPErr=50):\n",
    "    i = 0\n",
    "    x = Au.T @ xu; b = Au.T @ bu\n",
    "    r = b - Au.T @ (Au @ x)\n",
    "    delta = r.T.dot(r)\n",
    "    delta_0 = delta\n",
    "    X = []; X.append(x)\n",
    "    while (i < i_max) & (delta > epsilon ** 2 * delta_0):\n",
    "        p = Au @ r\n",
    "        q = Au.T @ p\n",
    "        alpha = delta / (p.T.dot(p))\n",
    "        x = x + alpha * r\n",
    "        if i % iCheckFPErr == 0: # for large n: sqrt(n) might be appropriate here instead of 50\n",
    "            r = b - Au.T @ (Au @ x)\n",
    "        else:\n",
    "            r = r - alpha * q\n",
    "        delta = r.T.dot(r)\n",
    "        X.append(x);\n",
    "        i += 1\n",
    "    return x, np.array(X), i\n",
    "\n",
    "def conjugateGradientPreconditionedNormal(Au, bu, xu,\n",
    "                                                   i_max=1e6, epsilon=1e-6, iCheckFPErr=50):\n",
    "    i = 0\n",
    "    x = Au.T @ xu; b = Au.T @ bu; A = Au.T @ Au\n",
    "    r = b - A @ x\n",
    "    d = precondition(A, r) # M_inverse * r\n",
    "    delta_new = r.T.dot(d)\n",
    "    delta_0 = delta_new\n",
    "    X = []; X.append(x)\n",
    "    while (i < i_max) & (delta_new > epsilon ** 2 * delta_0):\n",
    "        q = A @ d\n",
    "        alpha = delta_new / d.T.dot(q)\n",
    "        x = x + alpha * d\n",
    "        if i % iCheckFPErr == 0:\n",
    "            r = b - A @ x\n",
    "        else:\n",
    "            r = r - alpha * q\n",
    "        s = precondition(A, r)\n",
    "        delta_old = delta_new\n",
    "        delta_new = r.T.dot(s)\n",
    "        beta = delta_new / delta_old\n",
    "        d = s + beta * d\n",
    "        X.append(x)\n",
    "        i += 1\n",
    "    return x, np.array(X), i\n",
    "\n",
    "def precondition(A, r):\n",
    "    M_inv_r = []\n",
    "    for i, a_ii in enumerate(A.diagonal()):\n",
    "        M_inv_r.append(1 / a_ii * r[i])\n",
    "    return np.array(M_inv_r)"
   ]
  },
  {
   "cell_type": "code",
   "execution_count": 3,
   "id": "2322a67c",
   "metadata": {},
   "outputs": [],
   "source": [
    "Au = np.array([[2, 3, 4, 1],\n",
    "               [1, 1, 2, 1],\n",
    "               [2, 4, 5, 2]])\n",
    "bu = np.array([[10], [5], [13]])\n",
    "xu_0 = np.array([[0], [0], [0]])"
   ]
  },
  {
   "cell_type": "code",
   "execution_count": 7,
   "id": "7380c5aa",
   "metadata": {},
   "outputs": [
    {
     "name": "stdout",
     "output_type": "stream",
     "text": [
      "Minimum norm solution =\n",
      " [[0.6]\n",
      " [0.8]\n",
      " [1.4]\n",
      " [0.8]]\n",
      "No. of iterations = 3\n"
     ]
    }
   ],
   "source": [
    "x_sol = solveNormalLeastSquares(Au, bu, xu_0, method='CG')\n",
    "# Au @ x_sol"
   ]
  },
  {
   "cell_type": "code",
   "execution_count": 8,
   "id": "c8023cfd",
   "metadata": {},
   "outputs": [
    {
     "name": "stdout",
     "output_type": "stream",
     "text": [
      "Least squares solution =\n",
      " [[0.6]\n",
      " [0.8]\n",
      " [1.4]\n",
      " [0.8]]\n"
     ]
    }
   ],
   "source": [
    "x_ls = np.linalg.lstsq(Au, bu, rcond=None)[0]\n",
    "print('Least squares solution =\\n', x_ls)"
   ]
  },
  {
   "cell_type": "code",
   "execution_count": 9,
   "id": "4b26e432",
   "metadata": {},
   "outputs": [
    {
     "name": "stdout",
     "output_type": "stream",
     "text": [
      "Pseudo-inverse solution =\n",
      " [[0.6]\n",
      " [0.8]\n",
      " [1.4]\n",
      " [0.8]]\n"
     ]
    }
   ],
   "source": [
    "# Using Moore-Penrose pseudo-inverse\n",
    "Au_inv = np.linalg.pinv(Au)\n",
    "x_pinv = Au_inv @ bu\n",
    "print('Pseudo-inverse solution =\\n', x_pinv)"
   ]
  },
  {
   "cell_type": "code",
   "execution_count": 10,
   "id": "a19811a4",
   "metadata": {},
   "outputs": [
    {
     "name": "stdout",
     "output_type": "stream",
     "text": [
      "SVD solution =\n",
      " [[0.6]\n",
      " [0.8]\n",
      " [1.4]\n",
      " [0.8]]\n"
     ]
    }
   ],
   "source": [
    "# Using SVD\n",
    "U, S, VT = np.linalg.svd(Au, full_matrices=False)\n",
    "x_svd = VT.T @ np.linalg.inv(np.diag(S)) @ U.T @ bu\n",
    "print('SVD solution =\\n', x_svd)"
   ]
  },
  {
   "cell_type": "code",
   "execution_count": null,
   "id": "a3e89d2d",
   "metadata": {},
   "outputs": [],
   "source": []
  }
 ],
 "metadata": {
  "kernelspec": {
   "display_name": "Python 3",
   "language": "python",
   "name": "python3"
  },
  "language_info": {
   "codemirror_mode": {
    "name": "ipython",
    "version": 3
   },
   "file_extension": ".py",
   "mimetype": "text/x-python",
   "name": "python",
   "nbconvert_exporter": "python",
   "pygments_lexer": "ipython3",
   "version": "3.8.8"
  }
 },
 "nbformat": 4,
 "nbformat_minor": 5
}
