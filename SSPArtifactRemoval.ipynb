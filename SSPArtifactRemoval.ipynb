{
 "cells": [
  {
   "cell_type": "code",
   "execution_count": 1,
   "id": "e32b68ed",
   "metadata": {},
   "outputs": [],
   "source": [
    "%matplotlib qt\n",
    "import numpy as np\n",
    "import matplotlib.pyplot as plt\n",
    "\n",
    "import mne\n",
    "from mne.datasets import sample\n",
    "from mne.preprocessing import compute_proj_ecg, compute_proj_eog"
   ]
  },
  {
   "cell_type": "code",
   "execution_count": 2,
   "id": "b00ac4ac",
   "metadata": {},
   "outputs": [
    {
     "name": "stdout",
     "output_type": "stream",
     "text": [
      "Opening raw data file /home/rob/mne_data/MNE-sample-data/MEG/sample/sample_audvis_filt-0-40_raw.fif...\n",
      "    Read a total of 4 projection items:\n",
      "        PCA-v1 (1 x 102)  idle\n",
      "        PCA-v2 (1 x 102)  idle\n",
      "        PCA-v3 (1 x 102)  idle\n",
      "        Average EEG reference (1 x 60)  idle\n",
      "    Range : 6450 ... 48149 =     42.956 ...   320.665 secs\n",
      "Ready.\n",
      "Reading 0 ... 41699  =      0.000 ...   277.709 secs...\n"
     ]
    }
   ],
   "source": [
    "# Getting some data ready\n",
    "data_path = sample.data_path()\n",
    "raw_fname = data_path + '/MEG/sample/sample_audvis_filt-0-40_raw.fif'\n",
    "\n",
    "raw = mne.io.read_raw_fif(raw_fname, preload=True)"
   ]
  },
  {
   "cell_type": "code",
   "execution_count": 3,
   "id": "9b5ecbc5",
   "metadata": {},
   "outputs": [
    {
     "name": "stdout",
     "output_type": "stream",
     "text": [
      "Created an SSP operator (subspace dimension = 4)\n",
      "4 projection items activated\n",
      "SSP projectors applied...\n"
     ]
    }
   ],
   "source": [
    "# print(raw.info['projs'])\n",
    "\n",
    "# raw.plot()\n",
    "\n",
    "raw.apply_proj()\n",
    "# print(raw.info['projs'])\n",
    "\n",
    "projs, events_ecg = compute_proj_ecg(raw, n_grad=1, n_mag=1, n_eeg=0, average=True, verbose=False)\n",
    "# print(projs)\n",
    "\n",
    "ecg_projs = projs[-2:]\n",
    "mne.viz.plot_projs_topomap(ecg_projs, info=raw.info);\n",
    "\n",
    "projs, events_eog = compute_proj_eog(raw, n_grad=1, n_mag=1, n_eeg=1, average=True, verbose=False)\n",
    "# print(projs)\n",
    "\n",
    "eog_projs = projs[-3:]\n",
    "mne.viz.plot_projs_topomap(eog_projs, info=raw.info);"
   ]
  },
  {
   "cell_type": "markdown",
   "id": "2cec02a6",
   "metadata": {},
   "source": [
    "Add SSP Projections"
   ]
  },
  {
   "cell_type": "code",
   "execution_count": 4,
   "id": "bdf67b35",
   "metadata": {},
   "outputs": [],
   "source": [
    "raw.info['projs'] += eog_projs + ecg_projs"
   ]
  },
  {
   "cell_type": "markdown",
   "id": "84c9ba4f",
   "metadata": {},
   "source": [
    "Demonstrate SSP on some evoked data"
   ]
  },
  {
   "cell_type": "code",
   "execution_count": 5,
   "id": "541666ba",
   "metadata": {},
   "outputs": [
    {
     "name": "stdout",
     "output_type": "stream",
     "text": [
      "319 events found\n",
      "Event IDs: [ 1  2  3  4  5 32]\n"
     ]
    }
   ],
   "source": [
    "events = mne.find_events(raw, stim_channel='STI 014')\n",
    "reject = dict(grad=4000e-13, mag=4e-12, eeg=150e-6)\n",
    "\n",
    "event_id = {'auditory/right': 2}\n",
    "\n",
    "epochs_no_proj = mne.Epochs(raw, events, event_id, tmin=-0.2, tmax=0.5,\n",
    "                           proj=False, baseline=(None, 0), reject=reject,\n",
    "                           verbose=False)\n",
    "epochs_no_proj.average().plot(spatial_colors=True, time_unit='s');\n",
    "\n",
    "epochs_proj = mne.Epochs(raw, events, event_id, tmin=-0.2, tmax=0.5, proj=True,\n",
    "                         baseline=(None, 0), reject=reject, verbose=False)\n",
    "epochs_proj.average().plot(spatial_colors=True, time_unit='s');"
   ]
  },
  {
   "cell_type": "markdown",
   "id": "3b1e51a0",
   "metadata": {},
   "source": [
    "For interactive control of applied projectors"
   ]
  },
  {
   "cell_type": "code",
   "execution_count": null,
   "id": "54018ce6",
   "metadata": {},
   "outputs": [],
   "source": [
    "# raw = mne.io.read_raw_fif(raw_fname, preload=True)\n",
    "# evoked = mne.Epochs(raw, events, event_id, tmin=-0.2, tmax=0.5,\n",
    "#                     proj='delayed', baseline=(None, 0),\n",
    "#                     reject=reject, verbose=False).average()\n",
    "\n",
    "# # set time instants in seconds (from 50 to 150ms in a step of 10ms)\n",
    "# times = np.arange(0.05, 0.15, 0.01)\n",
    "\n",
    "# fig = evoked.plot_topomap(times, proj='interactive', time_unit='s')"
   ]
  },
  {
   "cell_type": "markdown",
   "id": "7b88ae1a",
   "metadata": {},
   "source": [
    "# Cleaning ECG and EOG artefacts using custom method for SSP projection"
   ]
  },
  {
   "cell_type": "code",
   "execution_count": 6,
   "id": "7a719025",
   "metadata": {},
   "outputs": [],
   "source": [
    "def apply_ssp(epochs, picks, n_comp=1, to_plot=False):\n",
    "    '''\n",
    "    Clean epoch data using SSP.\n",
    "    '''\n",
    "\n",
    "    evoked = np.mean(epochs, axis=0)\n",
    "\n",
    "    # Applying PCA on noisy epochs using SVD\n",
    "    X = evoked.T\n",
    "    X_bar = np.mean(X, axis=0)\n",
    "    B = X - np.ones((np.size(X, 0), 1)) @ X_bar.reshape((1, -1))\n",
    "#     print('Shape of B', np.shape(B))\n",
    "\n",
    "    U, S, VT = np.linalg.svd(B, full_matrices=0)\n",
    "#     print('Shape of V', np.shape(VT.T))\n",
    "\n",
    "    V_hat = VT.T[:, :n_comp].reshape((-1, n_comp))\n",
    "#     print('Shape of V_hat', np.shape(V_hat))\n",
    "\n",
    "    # Principal components\n",
    "    T = U @ np.diag(S)[:, n_comp]\n",
    "\n",
    "    P_orth = np.identity(np.size(V_hat, 0)) - V_hat @ V_hat.T\n",
    "    evoked_clean = P_orth @ evoked\n",
    "\n",
    "    if to_plot:\n",
    "        time = np.linspace(-0.2, 0.5, np.size(X, 0))\n",
    "        \n",
    "        fig = plt.figure()\n",
    "        \n",
    "        ax1 = fig.add_subplot(211)\n",
    "        plt.plot(time, evoked.T)\n",
    "        \n",
    "        ax2 = fig.add_subplot(212)\n",
    "        plt.plot(time, evoked_clean.T)\n",
    "        plt.show()\n",
    "        \n",
    "    return evoked_clean, P_orth, T"
   ]
  },
  {
   "cell_type": "code",
   "execution_count": 9,
   "id": "446d03f5",
   "metadata": {},
   "outputs": [
    {
     "name": "stdout",
     "output_type": "stream",
     "text": [
      "Opening raw data file /home/rob/mne_data/MNE-sample-data/MEG/sample/sample_audvis_filt-0-40_raw.fif...\n",
      "    Read a total of 4 projection items:\n",
      "        PCA-v1 (1 x 102)  idle\n",
      "        PCA-v2 (1 x 102)  idle\n",
      "        PCA-v3 (1 x 102)  idle\n",
      "        Average EEG reference (1 x 60)  idle\n",
      "    Range : 6450 ... 48149 =     42.956 ...   320.665 secs\n",
      "Ready.\n",
      "Reading 0 ... 41699  =      0.000 ...   277.709 secs...\n",
      "Not setting metadata\n",
      "Not setting metadata\n",
      "284 matching events found\n",
      "Setting baseline interval to [-0.19979521315838786, 0.0] sec\n",
      "Applying baseline correction (mode: mean)\n",
      "Created an SSP operator (subspace dimension = 4)\n",
      "4 projection items activated\n",
      "Loading data for 284 events and 106 original time points ...\n",
      "0 bad epochs dropped\n",
      "Not setting metadata\n",
      "Not setting metadata\n",
      "46 matching events found\n",
      "Setting baseline interval to [-0.19979521315838786, 0.0] sec\n",
      "Applying baseline correction (mode: mean)\n",
      "Created an SSP operator (subspace dimension = 4)\n",
      "4 projection items activated\n",
      "Loading data for 46 events and 106 original time points ...\n",
      "0 bad epochs dropped\n"
     ]
    }
   ],
   "source": [
    "raw = mne.io.read_raw_fif(raw_fname, preload=True)\n",
    "\n",
    "# SSP for ECG\n",
    "ecg_epochs = mne.Epochs(raw, events_ecg)\n",
    "picks = ['mag']\n",
    "ecg_epochs_data = ecg_epochs.get_data(picks=picks)\n",
    "evoked_ecg_clean, P_orth_ecg, T_ecg = apply_ssp(ecg_epochs_data, picks, n_comp=1, to_plot=True)\n",
    "\n",
    "# SSP for EOG\n",
    "eog_epochs = mne.Epochs(raw, events_eog)\n",
    "picks = ['mag']\n",
    "eog_epochs_data = eog_epochs.get_data(picks=picks)\n",
    "evoked_eog_clean, P_orth_eog, T_eog = apply_ssp(eog_epochs_data, picks, n_comp=1, to_plot=True)\n",
    "\n",
    "time = np.linspace(-0.2, 0.5, len(T_ecg))\n",
    "fig = plt.figure()\n",
    "ax1 = fig.add_subplot(211)\n",
    "plt.plot(time, T_ecg)\n",
    "ax2 = fig.add_subplot(212)\n",
    "plt.plot(time, T_eog)\n",
    "plt.show()"
   ]
  },
  {
   "cell_type": "code",
   "execution_count": null,
   "id": "f273f723",
   "metadata": {},
   "outputs": [],
   "source": []
  }
 ],
 "metadata": {
  "kernelspec": {
   "display_name": "Python 3 (ipykernel)",
   "language": "python",
   "name": "python3"
  },
  "language_info": {
   "codemirror_mode": {
    "name": "ipython",
    "version": 3
   },
   "file_extension": ".py",
   "mimetype": "text/x-python",
   "name": "python",
   "nbconvert_exporter": "python",
   "pygments_lexer": "ipython3",
   "version": "3.9.6"
  }
 },
 "nbformat": 4,
 "nbformat_minor": 5
}
