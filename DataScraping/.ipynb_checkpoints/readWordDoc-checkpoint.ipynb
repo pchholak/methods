{
 "cells": [
  {
   "cell_type": "markdown",
   "id": "02404939",
   "metadata": {},
   "source": [
    "# Using docx2txt"
   ]
  },
  {
   "cell_type": "code",
   "execution_count": 1,
   "id": "c38737c6",
   "metadata": {},
   "outputs": [],
   "source": [
    "import docx2txt"
   ]
  },
  {
   "cell_type": "code",
   "execution_count": 5,
   "id": "43047337",
   "metadata": {},
   "outputs": [
    {
     "name": "stdout",
     "output_type": "stream",
     "text": [
      "Beautiful is better than ugly.\n",
      "\n",
      "Explicit is better than implicit.\n",
      "\n",
      "Simple is better than complex.\n",
      "\n",
      "Complex is better than complicated.\n",
      "\n",
      "Flat is better than nested.\n",
      "\n",
      "Sparse is better than dense.\n",
      "\n",
      "Readability counts.\n",
      "\n",
      "Special cases aren't special enough to break the rules.\n",
      "\n",
      "Although practicality beats purity.\n",
      "\n",
      "Errors should never pass silently.\n",
      "\n",
      "Unless explicitly silenced.\n",
      "\n",
      "In the face of ambiguity, refuse the temptation to guess.\n",
      "\n",
      "There should be one-- and preferably only one --obvious way to do it.\n",
      "\n",
      "Although that way may not be obvious at first unless you're Dutch.\n",
      "\n",
      "Now is better than never.\n",
      "\n",
      "Although never is often better than *right* now.\n",
      "\n",
      "If the implementation is hard to explain, it's a bad idea.\n",
      "\n",
      "If the implementation is easy to explain, it may be a good idea.\n",
      "\n",
      "Namespaces are one honking great idea -- let's do more of those!\n"
     ]
    }
   ],
   "source": [
    "# read in word file\n",
    "result = docx2txt.process(\"/home/rob/Desktop/zen of python.docx\")\n",
    "print(result)"
   ]
  },
  {
   "cell_type": "code",
   "execution_count": 8,
   "id": "7778550c",
   "metadata": {},
   "outputs": [
    {
     "name": "stdout",
     "output_type": "stream",
     "text": [
      "Beautiful is better than ugly.\n",
      "\n",
      "Explicit is better than implicit.\n",
      "\n",
      "Simple is better than complex.\n",
      "\n",
      "Complex is better than complicated.\n",
      "\n",
      "Flat is better than nested.\n",
      "\n",
      "Sparse is better than dense.\n",
      "\n",
      "Readability counts.\n",
      "\n",
      "Special cases aren't special enough to break the rules.\n",
      "\n",
      "Although practicality beats purity.\n",
      "\n",
      "Errors should never pass silently.\n",
      "\n",
      "Unless explicitly silenced.\n",
      "\n",
      "In the face of ambiguity, refuse the temptation to guess.\n",
      "\n",
      "There should be one-- and preferably only one --obvious way to do it.\n",
      "\n",
      "Although that way may not be obvious at first unless you're Dutch.\n",
      "\n",
      "Now is better than never.\n",
      "\n",
      "Although never is often better than *right* now.\n",
      "\n",
      "If the implementation is hard to explain, it's a bad idea.\n",
      "\n",
      "If the implementation is easy to explain, it may be a good idea.\n",
      "\n",
      "Namespaces are one honking great idea -- let's do more of those!\n"
     ]
    }
   ],
   "source": [
    "result = docx2txt.process(\"/home/rob/Desktop/zen of python with image.docx\",\n",
    "                          \"/home/rob/Desktop/tutorial/\")\n",
    "print(result)"
   ]
  },
  {
   "cell_type": "markdown",
   "id": "fb761099",
   "metadata": {},
   "source": [
    "# Using docx"
   ]
  },
  {
   "cell_type": "code",
   "execution_count": 9,
   "id": "e3731ee7",
   "metadata": {},
   "outputs": [],
   "source": [
    "import docx"
   ]
  },
  {
   "cell_type": "code",
   "execution_count": 12,
   "id": "3a3b511d",
   "metadata": {},
   "outputs": [],
   "source": [
    "# open connection to Word Document\n",
    "doc = docx.Document(\"/home/rob/Desktop/zen_of_python.docx\")"
   ]
  },
  {
   "cell_type": "code",
   "execution_count": 13,
   "id": "0049e8fe",
   "metadata": {},
   "outputs": [
    {
     "data": {
      "text/plain": [
       "['The Zen of Python',\n",
       " '',\n",
       " 'Beautiful is better than ugly.',\n",
       " 'Explicit is better than implicit.',\n",
       " 'Simple is better than complex.',\n",
       " 'Complex is better than complicated.',\n",
       " 'Flat is better than nested.',\n",
       " 'Sparse is better than dense.',\n",
       " 'Readability counts.',\n",
       " \"Special cases aren't special enough to break the rules.\",\n",
       " 'Although practicality beats purity.',\n",
       " 'Errors should never pass silently.',\n",
       " 'Unless explicitly silenced.',\n",
       " 'In the face of ambiguity, refuse the temptation to guess.',\n",
       " 'There should be one-- and preferably only one --obvious way to do it.',\n",
       " \"Although that way may not be obvious at first unless you're Dutch.\",\n",
       " 'Now is better than never.',\n",
       " 'Although never is often better than *right* now.',\n",
       " \"If the implementation is hard to explain, it's a bad idea.\",\n",
       " 'If the implementation is easy to explain, it may be a good idea.',\n",
       " \"Namespaces are one honking great idea -- let's do more of those!\"]"
      ]
     },
     "execution_count": 13,
     "metadata": {},
     "output_type": "execute_result"
    }
   ],
   "source": [
    "# read in each paragraph in file\n",
    "result = [p.text for p in doc.paragraphs]\n",
    "result"
   ]
  },
  {
   "cell_type": "markdown",
   "id": "b5075a9b",
   "metadata": {},
   "source": [
    "# Using docx2python"
   ]
  },
  {
   "cell_type": "code",
   "execution_count": 14,
   "id": "7b2088f6",
   "metadata": {},
   "outputs": [],
   "source": [
    "from docx2python import docx2python"
   ]
  },
  {
   "cell_type": "code",
   "execution_count": 15,
   "id": "b900fb5e",
   "metadata": {},
   "outputs": [],
   "source": [
    "# extract docx content\n",
    "doc_result = docx2python(\"/home/rob/Desktop/zen of python.docx\")"
   ]
  },
  {
   "cell_type": "code",
   "execution_count": 16,
   "id": "3e518417",
   "metadata": {},
   "outputs": [
    {
     "data": {
      "text/plain": [
       "[[[['Beautiful is better than ugly.',\n",
       "    'Explicit is better than implicit.',\n",
       "    'Simple is better than complex.',\n",
       "    'Complex is better than complicated.',\n",
       "    'Flat is better than nested.',\n",
       "    'Sparse is better than dense.',\n",
       "    'Readability counts.',\n",
       "    \"Special cases aren't special enough to break the rules.\",\n",
       "    'Although practicality beats purity.',\n",
       "    'Errors should never pass silently.',\n",
       "    'Unless explicitly silenced.',\n",
       "    'In the face of ambiguity, refuse the temptation to guess.',\n",
       "    'There should be one-- and preferably only one --obvious way to do it.',\n",
       "    \"Although that way may not be obvious at first unless you're Dutch.\",\n",
       "    'Now is better than never.',\n",
       "    'Although never is often better than *right* now.',\n",
       "    \"If the implementation is hard to explain, it's a bad idea.\",\n",
       "    'If the implementation is easy to explain, it may be a good idea.',\n",
       "    \"Namespaces are one honking great idea -- let's do more of those!\",\n",
       "    '']]],\n",
       " [[['Field1'], ['Field2']], [['Info1'], ['Info2']], [['Info3'], ['Info4']]],\n",
       " [[['', '----media/image1.png----']]]]"
      ]
     },
     "execution_count": 16,
     "metadata": {},
     "output_type": "execute_result"
    }
   ],
   "source": [
    "# get separate components of the document\n",
    "doc_result.body"
   ]
  },
  {
   "cell_type": "code",
   "execution_count": 18,
   "id": "a88362c3",
   "metadata": {},
   "outputs": [
    {
     "data": {
      "text/plain": [
       "[[['Beautiful is better than ugly.',\n",
       "   'Explicit is better than implicit.',\n",
       "   'Simple is better than complex.',\n",
       "   'Complex is better than complicated.',\n",
       "   'Flat is better than nested.',\n",
       "   'Sparse is better than dense.',\n",
       "   'Readability counts.',\n",
       "   \"Special cases aren't special enough to break the rules.\",\n",
       "   'Although practicality beats purity.',\n",
       "   'Errors should never pass silently.',\n",
       "   'Unless explicitly silenced.',\n",
       "   'In the face of ambiguity, refuse the temptation to guess.',\n",
       "   'There should be one-- and preferably only one --obvious way to do it.',\n",
       "   \"Although that way may not be obvious at first unless you're Dutch.\",\n",
       "   'Now is better than never.',\n",
       "   'Although never is often better than *right* now.',\n",
       "   \"If the implementation is hard to explain, it's a bad idea.\",\n",
       "   'If the implementation is easy to explain, it may be a good idea.',\n",
       "   \"Namespaces are one honking great idea -- let's do more of those!\",\n",
       "   '']]]"
      ]
     },
     "execution_count": 18,
     "metadata": {},
     "output_type": "execute_result"
    }
   ],
   "source": [
    "# get the text from Zen of Python\n",
    "doc_result.body[0]"
   ]
  },
  {
   "cell_type": "code",
   "execution_count": 19,
   "id": "1558c5ed",
   "metadata": {},
   "outputs": [
    {
     "data": {
      "text/plain": [
       "[[['Field1'], ['Field2']], [['Info1'], ['Info2']], [['Info3'], ['Info4']]]"
      ]
     },
     "execution_count": 19,
     "metadata": {},
     "output_type": "execute_result"
    }
   ],
   "source": [
    "# get the table text\n",
    "doc_result.body[1]"
   ]
  },
  {
   "cell_type": "code",
   "execution_count": 20,
   "id": "7ecd4c68",
   "metadata": {},
   "outputs": [
    {
     "data": {
      "text/plain": [
       "[[['', '----media/image1.png----']]]"
      ]
     },
     "execution_count": 20,
     "metadata": {},
     "output_type": "execute_result"
    }
   ],
   "source": [
    "# get the image\n",
    "doc_result.body[2]"
   ]
  },
  {
   "cell_type": "markdown",
   "id": "a2395e88",
   "metadata": {},
   "source": [
    "Scraping a Word Document table using docx2python and pandas"
   ]
  },
  {
   "cell_type": "code",
   "execution_count": 21,
   "id": "228d6b2c",
   "metadata": {},
   "outputs": [],
   "source": [
    "import pandas as pd"
   ]
  },
  {
   "cell_type": "code",
   "execution_count": 24,
   "id": "dc93caed",
   "metadata": {},
   "outputs": [
    {
     "data": {
      "text/html": [
       "<div>\n",
       "<style scoped>\n",
       "    .dataframe tbody tr th:only-of-type {\n",
       "        vertical-align: middle;\n",
       "    }\n",
       "\n",
       "    .dataframe tbody tr th {\n",
       "        vertical-align: top;\n",
       "    }\n",
       "\n",
       "    .dataframe thead th {\n",
       "        text-align: right;\n",
       "    }\n",
       "</style>\n",
       "<table border=\"1\" class=\"dataframe\">\n",
       "  <thead>\n",
       "    <tr style=\"text-align: right;\">\n",
       "      <th></th>\n",
       "      <th>0</th>\n",
       "      <th>1</th>\n",
       "    </tr>\n",
       "  </thead>\n",
       "  <tbody>\n",
       "    <tr>\n",
       "      <th>0</th>\n",
       "      <td>[Info1]</td>\n",
       "      <td>[Info2]</td>\n",
       "    </tr>\n",
       "    <tr>\n",
       "      <th>1</th>\n",
       "      <td>[Info3]</td>\n",
       "      <td>[Info4]</td>\n",
       "    </tr>\n",
       "  </tbody>\n",
       "</table>\n",
       "</div>"
      ],
      "text/plain": [
       "         0        1\n",
       "0  [Info1]  [Info2]\n",
       "1  [Info3]  [Info4]"
      ]
     },
     "execution_count": 24,
     "metadata": {},
     "output_type": "execute_result"
    }
   ],
   "source": [
    "pd.DataFrame(doc_result.body[1][1:])"
   ]
  },
  {
   "cell_type": "code",
   "execution_count": 27,
   "id": "22c15397",
   "metadata": {},
   "outputs": [
    {
     "data": {
      "text/html": [
       "<div>\n",
       "<style scoped>\n",
       "    .dataframe tbody tr th:only-of-type {\n",
       "        vertical-align: middle;\n",
       "    }\n",
       "\n",
       "    .dataframe tbody tr th {\n",
       "        vertical-align: top;\n",
       "    }\n",
       "\n",
       "    .dataframe thead th {\n",
       "        text-align: right;\n",
       "    }\n",
       "</style>\n",
       "<table border=\"1\" class=\"dataframe\">\n",
       "  <thead>\n",
       "    <tr style=\"text-align: right;\">\n",
       "      <th></th>\n",
       "      <th>0</th>\n",
       "      <th>1</th>\n",
       "    </tr>\n",
       "  </thead>\n",
       "  <tbody>\n",
       "    <tr>\n",
       "      <th>0</th>\n",
       "      <td>Info1</td>\n",
       "      <td>Info2</td>\n",
       "    </tr>\n",
       "    <tr>\n",
       "      <th>1</th>\n",
       "      <td>Info3</td>\n",
       "      <td>Info4</td>\n",
       "    </tr>\n",
       "  </tbody>\n",
       "</table>\n",
       "</div>"
      ],
      "text/plain": [
       "       0      1\n",
       "0  Info1  Info2\n",
       "1  Info3  Info4"
      ]
     },
     "execution_count": 27,
     "metadata": {},
     "output_type": "execute_result"
    }
   ],
   "source": [
    "df = pd.DataFrame(doc_result.body[1][1:]).applymap(lambda val: val[0])\n",
    "df"
   ]
  },
  {
   "cell_type": "code",
   "execution_count": 28,
   "id": "602539da",
   "metadata": {},
   "outputs": [
    {
     "data": {
      "text/html": [
       "<div>\n",
       "<style scoped>\n",
       "    .dataframe tbody tr th:only-of-type {\n",
       "        vertical-align: middle;\n",
       "    }\n",
       "\n",
       "    .dataframe tbody tr th {\n",
       "        vertical-align: top;\n",
       "    }\n",
       "\n",
       "    .dataframe thead th {\n",
       "        text-align: right;\n",
       "    }\n",
       "</style>\n",
       "<table border=\"1\" class=\"dataframe\">\n",
       "  <thead>\n",
       "    <tr style=\"text-align: right;\">\n",
       "      <th></th>\n",
       "      <th>Field1</th>\n",
       "      <th>Field2</th>\n",
       "    </tr>\n",
       "  </thead>\n",
       "  <tbody>\n",
       "    <tr>\n",
       "      <th>0</th>\n",
       "      <td>Info1</td>\n",
       "      <td>Info2</td>\n",
       "    </tr>\n",
       "    <tr>\n",
       "      <th>1</th>\n",
       "      <td>Info3</td>\n",
       "      <td>Info4</td>\n",
       "    </tr>\n",
       "  </tbody>\n",
       "</table>\n",
       "</div>"
      ],
      "text/plain": [
       "  Field1 Field2\n",
       "0  Info1  Info2\n",
       "1  Info3  Info4"
      ]
     },
     "execution_count": 28,
     "metadata": {},
     "output_type": "execute_result"
    }
   ],
   "source": [
    "df.columns = [val[0] for val in doc_result.body[1][0]]\n",
    "df"
   ]
  },
  {
   "cell_type": "markdown",
   "id": "88984b78",
   "metadata": {},
   "source": [
    "Extracting images"
   ]
  },
  {
   "cell_type": "code",
   "execution_count": 29,
   "id": "b80fe813",
   "metadata": {},
   "outputs": [
    {
     "data": {
      "text/plain": [
       "dict"
      ]
     },
     "execution_count": 29,
     "metadata": {},
     "output_type": "execute_result"
    }
   ],
   "source": [
    "type(doc_result.images)"
   ]
  },
  {
   "cell_type": "code",
   "execution_count": 30,
   "id": "3abe9c7c",
   "metadata": {},
   "outputs": [
    {
     "data": {
      "text/plain": [
       "dict_keys(['image1.png'])"
      ]
     },
     "execution_count": 30,
     "metadata": {},
     "output_type": "execute_result"
    }
   ],
   "source": [
    "doc_result.images.keys()"
   ]
  },
  {
   "cell_type": "code",
   "execution_count": 33,
   "id": "a58a45f1",
   "metadata": {},
   "outputs": [],
   "source": [
    "for key, val in doc_result.images.items():\n",
    "#     print(key)\n",
    "#     print(val)\n",
    "    f = open(key, \"wb\")\n",
    "    f.write(val)\n",
    "    f.close()"
   ]
  },
  {
   "cell_type": "markdown",
   "id": "3b921a69",
   "metadata": {},
   "source": [
    "Other attributes"
   ]
  },
  {
   "cell_type": "code",
   "execution_count": 34,
   "id": "a15f4cba",
   "metadata": {},
   "outputs": [
    {
     "data": {
      "text/plain": [
       "\"Beautiful is better than ugly.\\n\\nExplicit is better than implicit.\\n\\nSimple is better than complex.\\n\\nComplex is better than complicated.\\n\\nFlat is better than nested.\\n\\nSparse is better than dense.\\n\\nReadability counts.\\n\\nSpecial cases aren't special enough to break the rules.\\n\\nAlthough practicality beats purity.\\n\\nErrors should never pass silently.\\n\\nUnless explicitly silenced.\\n\\nIn the face of ambiguity, refuse the temptation to guess.\\n\\nThere should be one-- and preferably only one --obvious way to do it.\\n\\nAlthough that way may not be obvious at first unless you're Dutch.\\n\\nNow is better than never.\\n\\nAlthough never is often better than *right* now.\\n\\nIf the implementation is hard to explain, it's a bad idea.\\n\\nIf the implementation is easy to explain, it may be a good idea.\\n\\nNamespaces are one honking great idea -- let's do more of those!\\n\\n\\n\\nField1\\n\\nField2\\n\\nInfo1\\n\\nInfo2\\n\\nInfo3\\n\\nInfo4\\n\\n\\n\\n----media/image1.png----\""
      ]
     },
     "execution_count": 34,
     "metadata": {},
     "output_type": "execute_result"
    }
   ],
   "source": [
    "# get all text in a single string\n",
    "doc_result.text"
   ]
  },
  {
   "cell_type": "code",
   "execution_count": 35,
   "id": "51b5feb7",
   "metadata": {},
   "outputs": [
    {
     "data": {
      "text/plain": [
       "{'created': '2021-11-24T10:18:43Z',\n",
       " 'creator': 'Parth Chholak',\n",
       " 'description': None,\n",
       " 'language': 'en-US',\n",
       " 'lastModifiedBy': 'Parth Chholak',\n",
       " 'modified': '2021-11-24T11:04:50Z',\n",
       " 'revision': '7',\n",
       " 'subject': None,\n",
       " 'title': None}"
      ]
     },
     "execution_count": 35,
     "metadata": {},
     "output_type": "execute_result"
    }
   ],
   "source": [
    "doc_result.properties"
   ]
  },
  {
   "cell_type": "code",
   "execution_count": 36,
   "id": "c91dc142",
   "metadata": {},
   "outputs": [
    {
     "data": {
      "text/plain": [
       "[]"
      ]
     },
     "execution_count": 36,
     "metadata": {},
     "output_type": "execute_result"
    }
   ],
   "source": [
    "# get the headers\n",
    "doc_result.header"
   ]
  },
  {
   "cell_type": "code",
   "execution_count": 37,
   "id": "bedfdffc",
   "metadata": {},
   "outputs": [
    {
     "data": {
      "text/plain": [
       "[]"
      ]
     },
     "execution_count": 37,
     "metadata": {},
     "output_type": "execute_result"
    }
   ],
   "source": [
    "# get the footers\n",
    "doc_result.footer"
   ]
  },
  {
   "cell_type": "code",
   "execution_count": 38,
   "id": "0942e3e8",
   "metadata": {},
   "outputs": [
    {
     "data": {
      "text/plain": [
       "[]"
      ]
     },
     "execution_count": 38,
     "metadata": {},
     "output_type": "execute_result"
    }
   ],
   "source": [
    "# footnotes\n",
    "doc_result.footnotes"
   ]
  },
  {
   "cell_type": "markdown",
   "id": "734c6992",
   "metadata": {},
   "source": [
    "Getting HTML returned with docx2python"
   ]
  },
  {
   "cell_type": "code",
   "execution_count": 42,
   "id": "1eb36e52",
   "metadata": {},
   "outputs": [
    {
     "data": {
      "text/plain": [
       "[[[['<font size=\"52\"><b><u>The Zen of Python</u></b></font>']]]]"
      ]
     },
     "execution_count": 42,
     "metadata": {},
     "output_type": "execute_result"
    }
   ],
   "source": [
    "doc_html_result = docx2python(\"/home/rob/Desktop/zen of python html.docx\", html=True)\n",
    "doc_html_result.body"
   ]
  },
  {
   "cell_type": "code",
   "execution_count": null,
   "id": "de75c9b3",
   "metadata": {},
   "outputs": [],
   "source": []
  }
 ],
 "metadata": {
  "kernelspec": {
   "display_name": "Python 3",
   "language": "python",
   "name": "python3"
  },
  "language_info": {
   "codemirror_mode": {
    "name": "ipython",
    "version": 3
   },
   "file_extension": ".py",
   "mimetype": "text/x-python",
   "name": "python",
   "nbconvert_exporter": "python",
   "pygments_lexer": "ipython3",
   "version": "3.8.8"
  }
 },
 "nbformat": 4,
 "nbformat_minor": 5
}
