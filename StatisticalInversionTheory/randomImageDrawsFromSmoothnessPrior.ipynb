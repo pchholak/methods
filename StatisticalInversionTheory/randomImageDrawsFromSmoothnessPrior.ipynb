{
 "cells": [
  {
   "cell_type": "code",
   "execution_count": 1,
   "id": "d3788775",
   "metadata": {},
   "outputs": [],
   "source": [
    "%matplotlib qt\n",
    "import math\n",
    "import numpy as np\n",
    "import matplotlib.pyplot as plt"
   ]
  },
  {
   "cell_type": "code",
   "execution_count": 2,
   "id": "757d03ae",
   "metadata": {},
   "outputs": [],
   "source": [
    "def pixelCoord2Index(i, j, n_col):\n",
    "    '''\n",
    "    Helper function to get index in the flattened array\n",
    "    from the pixel coordinates in a square image.\n",
    "    '''\n",
    "    if (i < 0) or (j < 0) or (i >= n_col) or (j >= n_col):\n",
    "        k = -1\n",
    "    else:\n",
    "        k = i * n_col + j\n",
    "    return k"
   ]
  },
  {
   "cell_type": "code",
   "execution_count": 3,
   "id": "3cba9ced",
   "metadata": {},
   "outputs": [],
   "source": [
    "# Given\n",
    "N, gamma = 60, 1\n",
    "n = N ** 2\n",
    "n_draws = 3"
   ]
  },
  {
   "cell_type": "markdown",
   "id": "d92c4fcd",
   "metadata": {},
   "source": [
    "Find all neighbours of each pixel and calculate Dirichlet Laplacian matrix"
   ]
  },
  {
   "cell_type": "code",
   "execution_count": 4,
   "id": "f00ec75d",
   "metadata": {},
   "outputs": [],
   "source": [
    "L = -4 / n * np.identity(n)\n",
    "r = 0\n",
    "for i in range(N):\n",
    "    for j in range(N):\n",
    "        for nbr in [(i - 1, j), (i + 1, j), (i, j - 1), (i, j + 1)]:\n",
    "            k = pixelCoord2Index(nbr[0], nbr[1], N)\n",
    "            if k >= 0:\n",
    "                L[r, k] = 1 / n\n",
    "        r += 1"
   ]
  },
  {
   "cell_type": "markdown",
   "id": "43962e84",
   "metadata": {},
   "source": [
    "Random draws from the smoothness prior by solving for $X$ in\n",
    "$$\n",
    "LX = \\gamma W\n",
    "$$\n",
    "where $W \\in \\mathbb{R}^{N^2}$."
   ]
  },
  {
   "cell_type": "code",
   "execution_count": 5,
   "id": "b57abb6e",
   "metadata": {},
   "outputs": [],
   "source": [
    "X = []\n",
    "for q in range(n_draws):\n",
    "    w = np.random.normal(size=n)\n",
    "    X.append(gamma * np.linalg.solve(L, w))"
   ]
  },
  {
   "cell_type": "code",
   "execution_count": 6,
   "id": "265ee164",
   "metadata": {},
   "outputs": [],
   "source": [
    "plt.rcParams.update({'font.size': 16})\n",
    "fig = plt.figure(figsize=(12, 4), tight_layout=True)\n",
    "plt.suptitle('Figure 3.9')\n",
    "for q, x in enumerate(X):\n",
    "    fig.add_subplot(1, 3, q + 1)\n",
    "    plt.imshow(x.reshape((N, -1)), cmap='gray_r')\n",
    "    plt.xticks([]); plt.yticks([])\n",
    "plt.show()"
   ]
  },
  {
   "cell_type": "code",
   "execution_count": null,
   "id": "cff7a505",
   "metadata": {},
   "outputs": [],
   "source": []
  }
 ],
 "metadata": {
  "kernelspec": {
   "display_name": "Python 3 (ipykernel)",
   "language": "python",
   "name": "python3"
  },
  "language_info": {
   "codemirror_mode": {
    "name": "ipython",
    "version": 3
   },
   "file_extension": ".py",
   "mimetype": "text/x-python",
   "name": "python",
   "nbconvert_exporter": "python",
   "pygments_lexer": "ipython3",
   "version": "3.9.7"
  }
 },
 "nbformat": 4,
 "nbformat_minor": 5
}
