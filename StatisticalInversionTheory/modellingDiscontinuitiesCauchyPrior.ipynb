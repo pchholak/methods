{
 "cells": [
  {
   "cell_type": "markdown",
   "id": "fc88f592",
   "metadata": {},
   "source": [
    "# Modelling discontinuities using impulse priors"
   ]
  },
  {
   "cell_type": "code",
   "execution_count": 1,
   "id": "678d1319",
   "metadata": {},
   "outputs": [],
   "source": [
    "%matplotlib qt\n",
    "import math\n",
    "import numpy as np\n",
    "import matplotlib.pyplot as plt"
   ]
  },
  {
   "cell_type": "code",
   "execution_count": 2,
   "id": "adaaa7d5",
   "metadata": {},
   "outputs": [],
   "source": [
    "# Given\n",
    "n_samples = 4\n",
    "N, alpha, x0 = 1200, 1, 0"
   ]
  },
  {
   "cell_type": "code",
   "execution_count": 3,
   "id": "24ad9fd3",
   "metadata": {},
   "outputs": [],
   "source": [
    "def generateNoisyIncrementSeries(N, alpha, x0=0):\n",
    "    '''\n",
    "    Generate a series of length $N+1$ with increments simulated as a Cauchy random variable.\n",
    "    '''\n",
    "    \n",
    "    # Generate samples from the Uniform distribution\n",
    "    u = np.random.uniform(size=N)\n",
    "    \n",
    "    # Generate samples from the Cauchy distribution\n",
    "    zeta = np.array([1 / alpha * math.tan(math.pi * (uj - 1 / 2)) for uj in u])\n",
    "    \n",
    "    # Add increments to form the series\n",
    "    x = []; x.append(x0)\n",
    "    for j, z in enumerate(zeta):\n",
    "        x.append(x[j] + z)\n",
    "        \n",
    "    return x"
   ]
  },
  {
   "cell_type": "code",
   "execution_count": 4,
   "id": "7ecd4ae7",
   "metadata": {},
   "outputs": [],
   "source": [
    "# Generate 4 noisy incremental series\n",
    "X = []\n",
    "for q in range(n_samples):\n",
    "    X.append(generateNoisyIncrementSeries(N, alpha, x0=x0))\n",
    "\n",
    "# Generate points in discretized interval [0, 1]\n",
    "t = np.linspace(0, 1, N + 1)"
   ]
  },
  {
   "cell_type": "code",
   "execution_count": 5,
   "id": "c6f809af",
   "metadata": {},
   "outputs": [],
   "source": [
    "# Visualize\n",
    "plt.rcParams.update({'font.size': 18})\n",
    "fig = plt.figure(figsize=(9, 9), tight_layout=True)\n",
    "plt.suptitle('Figure 3.4')\n",
    "for q in range(n_samples):\n",
    "    fig.add_subplot(2, 2, q + 1)\n",
    "    plt.plot(t, X[q], lw=2)\n",
    "    plt.xlim([min(t), max(t)])\n",
    "plt.show()"
   ]
  },
  {
   "cell_type": "code",
   "execution_count": null,
   "id": "227570f4",
   "metadata": {},
   "outputs": [],
   "source": []
  }
 ],
 "metadata": {
  "kernelspec": {
   "display_name": "Python 3 (ipykernel)",
   "language": "python",
   "name": "python3"
  },
  "language_info": {
   "codemirror_mode": {
    "name": "ipython",
    "version": 3
   },
   "file_extension": ".py",
   "mimetype": "text/x-python",
   "name": "python",
   "nbconvert_exporter": "python",
   "pygments_lexer": "ipython3",
   "version": "3.9.7"
  }
 },
 "nbformat": 4,
 "nbformat_minor": 5
}
