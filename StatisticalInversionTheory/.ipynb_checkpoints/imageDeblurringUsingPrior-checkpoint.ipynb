{
 "cells": [
  {
   "cell_type": "markdown",
   "id": "33492b72",
   "metadata": {},
   "source": [
    "# Draw original image"
   ]
  },
  {
   "cell_type": "code",
   "execution_count": 1,
   "id": "d3788775",
   "metadata": {},
   "outputs": [],
   "source": [
    "%matplotlib qt\n",
    "import math\n",
    "import numpy as np\n",
    "import matplotlib.pyplot as plt"
   ]
  },
  {
   "cell_type": "code",
   "execution_count": 2,
   "id": "757d03ae",
   "metadata": {},
   "outputs": [],
   "source": [
    "def drawImage(a, r, p0, k):\n",
    "    '''\n",
    "    Draws an image of a round object specified using given params\n",
    "    on the unit square area [0, 1] x [0, 1].\n",
    "    '''\n",
    "    d = np.linspace(0, 1, k)\n",
    "    dx, dy = np.meshgrid(d, d)\n",
    "\n",
    "    I = np.zeros((k ** 2,))\n",
    "    for i, el in enumerate(zip(np.ravel(dx), np.ravel(dy))):\n",
    "        p = np.array(el)\n",
    "        if np.linalg.norm(p - p0) <= r:\n",
    "            I[i] = a\n",
    "\n",
    "    return I"
   ]
  },
  {
   "cell_type": "code",
   "execution_count": 3,
   "id": "554198e3",
   "metadata": {},
   "outputs": [],
   "source": [
    "# Given\n",
    "k, N = 40, 500\n",
    "n = k ** 2"
   ]
  },
  {
   "cell_type": "code",
   "execution_count": 4,
   "id": "5112a7e9",
   "metadata": {},
   "outputs": [],
   "source": [
    "# Generate parameter distributions\n",
    "a = np.random.uniform(low=0.8, high=1.2, size=N)\n",
    "r = np.random.uniform(low=0.2, high=0.25, size=N)\n",
    "p0 = np.random.normal(loc=0.5, scale=0.02, size=(N, 2))"
   ]
  },
  {
   "cell_type": "code",
   "execution_count": 5,
   "id": "5611ea6c",
   "metadata": {},
   "outputs": [
    {
     "name": "stdout",
     "output_type": "stream",
     "text": [
      "Shape of X = (500, 1600)\n"
     ]
    }
   ],
   "source": [
    "X = []\n",
    "for j in range(N):\n",
    "    X.append(drawImage(a[j], r[j], p0[j], k))\n",
    "\n",
    "print(\"Shape of X =\", np.shape(X))"
   ]
  },
  {
   "cell_type": "markdown",
   "id": "2d772020",
   "metadata": {},
   "source": [
    "Calculate approximations for the mean $\\bar{x}$ and the covariance $\\Gamma$."
   ]
  },
  {
   "cell_type": "code",
   "execution_count": 6,
   "id": "dcc40f04",
   "metadata": {},
   "outputs": [],
   "source": [
    "# Mean\n",
    "x_bar = np.mean(X, 0).reshape((-1, 1))"
   ]
  },
  {
   "cell_type": "code",
   "execution_count": 7,
   "id": "af4563e3",
   "metadata": {},
   "outputs": [],
   "source": [
    "# Covariance\n",
    "q = np.zeros((n, n))\n",
    "for j in range(N):\n",
    "    xj = X[j].reshape((-1, 1))\n",
    "    q += xj @ xj.T\n",
    "gamma = q / N - x_bar @ x_bar.T"
   ]
  },
  {
   "cell_type": "markdown",
   "id": "95b96426",
   "metadata": {},
   "source": [
    "# Eigenvalue decomposition"
   ]
  },
  {
   "cell_type": "code",
   "execution_count": 8,
   "id": "d58fa5ac",
   "metadata": {},
   "outputs": [],
   "source": [
    "w, v = np.linalg.eig(gamma)"
   ]
  },
  {
   "cell_type": "code",
   "execution_count": 9,
   "id": "4ac269f7",
   "metadata": {},
   "outputs": [
    {
     "data": {
      "text/plain": [
       "(1600,)"
      ]
     },
     "execution_count": 9,
     "metadata": {},
     "output_type": "execute_result"
    }
   ],
   "source": [
    "np.shape(w)"
   ]
  },
  {
   "cell_type": "code",
   "execution_count": 14,
   "id": "7a6f3d87",
   "metadata": {},
   "outputs": [
    {
     "name": "stderr",
     "output_type": "stream",
     "text": [
      "/home/rob/anaconda3/lib/python3.8/site-packages/numpy/core/_asarray.py:102: ComplexWarning: Casting complex values to real discards the imaginary part\n",
      "  return array(a, dtype, copy=False, order=order)\n"
     ]
    }
   ],
   "source": [
    "plt.figure()\n",
    "plt.semilogy(w[:300], ':')\n",
    "plt.show()"
   ]
  },
  {
   "cell_type": "code",
   "execution_count": null,
   "id": "fa3877a1",
   "metadata": {},
   "outputs": [],
   "source": [
    "plt.figure(tight_layout=True)\n",
    "plt.imshow(x_bar.reshape((k, -1)), cmap='gray_r')\n",
    "plt.show()"
   ]
  },
  {
   "cell_type": "code",
   "execution_count": null,
   "id": "0fdb342e",
   "metadata": {},
   "outputs": [],
   "source": []
  }
 ],
 "metadata": {
  "kernelspec": {
   "display_name": "Python 3",
   "language": "python",
   "name": "python3"
  },
  "language_info": {
   "codemirror_mode": {
    "name": "ipython",
    "version": 3
   },
   "file_extension": ".py",
   "mimetype": "text/x-python",
   "name": "python",
   "nbconvert_exporter": "python",
   "pygments_lexer": "ipython3",
   "version": "3.8.8"
  }
 },
 "nbformat": 4,
 "nbformat_minor": 5
}
