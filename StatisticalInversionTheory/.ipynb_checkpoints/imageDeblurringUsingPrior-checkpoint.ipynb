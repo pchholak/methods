{
 "cells": [
  {
   "cell_type": "markdown",
   "id": "33492b72",
   "metadata": {},
   "source": [
    "# Draw original image"
   ]
  },
  {
   "cell_type": "code",
   "execution_count": 1,
   "id": "d3788775",
   "metadata": {},
   "outputs": [],
   "source": [
    "%matplotlib qt\n",
    "import math\n",
    "import numpy as np\n",
    "import matplotlib.pyplot as plt"
   ]
  },
  {
   "cell_type": "code",
   "execution_count": 2,
   "id": "757d03ae",
   "metadata": {},
   "outputs": [],
   "source": [
    "def drawImage(a, r, p0, k):\n",
    "    '''\n",
    "    Draws an image of a round object specified using given params\n",
    "    on the unit square area [0, 1] x [0, 1].\n",
    "    '''\n",
    "    d = np.linspace(0, 1, k)\n",
    "    dx, dy = np.meshgrid(d, d)\n",
    "\n",
    "    I = np.zeros((k ** 2,))\n",
    "    for i, el in enumerate(zip(np.ravel(dx), np.ravel(dy))):\n",
    "        p = np.array(el)\n",
    "        if np.linalg.norm(p - p0) <= r:\n",
    "            I[i] = a\n",
    "\n",
    "    return I"
   ]
  },
  {
   "cell_type": "code",
   "execution_count": 3,
   "id": "554198e3",
   "metadata": {},
   "outputs": [],
   "source": [
    "# Given\n",
    "k, N = 40, 500\n",
    "n = k ** 2\n",
    "\n",
    "# Generate parameter distributions\n",
    "a = np.random.uniform(low=0.8, high=1.2, size=N)\n",
    "r = np.random.uniform(low=0.2, high=0.25, size=N)\n",
    "p0 = np.random.normal(loc=0.5, scale=0.02, size=(N, 2))"
   ]
  },
  {
   "cell_type": "code",
   "execution_count": 4,
   "id": "5611ea6c",
   "metadata": {},
   "outputs": [
    {
     "name": "stdout",
     "output_type": "stream",
     "text": [
      "Shape of X = (500, 1600)\n"
     ]
    }
   ],
   "source": [
    "X = []\n",
    "for j in range(N):\n",
    "    X.append(drawImage(a[j], r[j], p0[j], k))\n",
    "\n",
    "print(\"Shape of X =\", np.shape(X))"
   ]
  },
  {
   "cell_type": "markdown",
   "id": "2d772020",
   "metadata": {},
   "source": [
    "Calculate approximations for the mean $\\bar{x}$ and the covariance $\\Gamma$."
   ]
  },
  {
   "cell_type": "code",
   "execution_count": 5,
   "id": "dcc40f04",
   "metadata": {},
   "outputs": [],
   "source": [
    "# Mean\n",
    "x_bar = np.mean(X, 0).reshape((-1, 1))\n",
    "\n",
    "# Covariance\n",
    "q = np.zeros((n, n))\n",
    "for j in range(N):\n",
    "    xj = X[j].reshape((-1, 1))\n",
    "    q += xj @ xj.T\n",
    "gamma = q / N - x_bar @ x_bar.T"
   ]
  },
  {
   "cell_type": "markdown",
   "id": "95b96426",
   "metadata": {},
   "source": [
    "# Eigenvalue decomposition"
   ]
  },
  {
   "cell_type": "code",
   "execution_count": 6,
   "id": "d58fa5ac",
   "metadata": {},
   "outputs": [],
   "source": [
    "evals, evecs = np.linalg.eig(gamma)"
   ]
  },
  {
   "cell_type": "code",
   "execution_count": 7,
   "id": "7a6f3d87",
   "metadata": {},
   "outputs": [
    {
     "name": "stderr",
     "output_type": "stream",
     "text": [
      "/home/rob/anaconda3/lib/python3.9/site-packages/numpy/core/_asarray.py:102: ComplexWarning: Casting complex values to real discards the imaginary part\n",
      "  return array(a, dtype, copy=False, order=order)\n"
     ]
    }
   ],
   "source": [
    "plt.rcParams.update({'font.size': 16})\n",
    "fig1 = plt.figure()\n",
    "plt.suptitle('Figure 3.7')\n",
    "plt.semilogy(evals[:300], '.', color='k')\n",
    "plt.xlim([0, 300])\n",
    "plt.yticks([1e5, 1e0, 1e-5, 1e-10, 1e-15, 1e-20])\n",
    "plt.ylim([1e-20, 1e5])\n",
    "plt.axhline(y=1e-10, ls='--', color='k')\n",
    "plt.show()\n",
    "\n",
    "fig2 = plt.figure(figsize=(12, 9), tight_layout=True)\n",
    "plt.suptitle('Figure 3.8')\n",
    "fig2.add_subplot(2, 3, 1)\n",
    "plt.imshow(x_bar.reshape((k, -1)), cmap='gray_r')\n",
    "plt.xticks([]); plt.yticks([])\n",
    "for q in range(5):\n",
    "    fig2.add_subplot(2, 3, q + 2)\n",
    "    plt.imshow(np.abs(evecs[:, q]).reshape((k, -1)), cmap='gray_r')\n",
    "    plt.xticks([]); plt.yticks([])\n",
    "plt.show()"
   ]
  },
  {
   "cell_type": "markdown",
   "id": "9afb49bf",
   "metadata": {},
   "source": [
    "# Additional: Singular Value Decomposition\n",
    "Find eigenvalues and eigendrawings from $Z = X - \\bar{X}$."
   ]
  },
  {
   "cell_type": "code",
   "execution_count": 8,
   "id": "01fd4b4a",
   "metadata": {},
   "outputs": [
    {
     "name": "stdout",
     "output_type": "stream",
     "text": [
      "Shape of Z = (1600, 500)\n"
     ]
    }
   ],
   "source": [
    "# Form the Z matrix\n",
    "Z = np.array(X).T - x_bar @ np.ones((1, N))\n",
    "print('Shape of Z =', np.shape(Z))\n",
    "\n",
    "# Perform SVD\n",
    "U, S, VT = np.linalg.svd(Z, full_matrices=0)\n",
    "\n",
    "# Get eigenvalues\n",
    "EV = np.square(S)"
   ]
  },
  {
   "cell_type": "code",
   "execution_count": 9,
   "id": "31e8c345",
   "metadata": {},
   "outputs": [],
   "source": [
    "# Visualize\n",
    "fig3 = plt.figure()\n",
    "plt.suptitle('Additional Figure 1')\n",
    "plt.semilogy(EV[:300], '.', color='k')\n",
    "plt.xlim([0, 300])\n",
    "plt.yticks([1e5, 1e0, 1e-5, 1e-10, 1e-15, 1e-20, 1e-25, 1e-30])\n",
    "plt.ylim([1e-30, 1e5])\n",
    "plt.axhline(y=1e-10, ls='--', color='k')\n",
    "plt.show()\n",
    "\n",
    "fig4 = plt.figure(figsize=(12, 9), tight_layout=True)\n",
    "plt.suptitle('Additional Figure 2')\n",
    "fig4.add_subplot(2, 3, 1)\n",
    "plt.imshow(x_bar.reshape((k, -1)), cmap='gray_r')\n",
    "plt.xticks([]); plt.yticks([])\n",
    "for q in range(5):\n",
    "    fig4.add_subplot(2, 3, q + 2)\n",
    "    plt.imshow(np.abs(U[:, q]).reshape((k, -1)), cmap='gray_r')\n",
    "    plt.xticks([]); plt.yticks([])\n",
    "plt.show()"
   ]
  },
  {
   "cell_type": "code",
   "execution_count": null,
   "id": "72dd0388",
   "metadata": {},
   "outputs": [],
   "source": []
  }
 ],
 "metadata": {
  "kernelspec": {
   "display_name": "Python 3 (ipykernel)",
   "language": "python",
   "name": "python3"
  },
  "language_info": {
   "codemirror_mode": {
    "name": "ipython",
    "version": 3
   },
   "file_extension": ".py",
   "mimetype": "text/x-python",
   "name": "python",
   "nbconvert_exporter": "python",
   "pygments_lexer": "ipython3",
   "version": "3.9.7"
  }
 },
 "nbformat": 4,
 "nbformat_minor": 5
}
