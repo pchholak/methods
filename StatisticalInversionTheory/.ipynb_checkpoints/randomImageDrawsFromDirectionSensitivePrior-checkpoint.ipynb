{
 "cells": [
  {
   "cell_type": "code",
   "execution_count": 1,
   "id": "d3788775",
   "metadata": {},
   "outputs": [],
   "source": [
    "%matplotlib qt\n",
    "import cv2\n",
    "import math\n",
    "import numpy as np\n",
    "import matplotlib.pyplot as plt"
   ]
  },
  {
   "cell_type": "code",
   "execution_count": 2,
   "id": "4ce7ecf6",
   "metadata": {},
   "outputs": [],
   "source": [
    "def pixelCoord2Index(i, j, n_col):\n",
    "    '''\n",
    "    Helper function to get index in the flattened array\n",
    "    from the pixel coordinates in a square image.\n",
    "    '''\n",
    "    k = i * n_col + j\n",
    "    return k\n",
    "\n",
    "def rearrangeSpecifiedPixelsInMatrix(M, spec):\n",
    "    '''\n",
    "    Rearrange matrix rows and columns to separate specified\n",
    "    and unspecified pixels.\n",
    "    '''\n",
    "    unspec = [ix for ix in range(n) if ix not in spec]\n",
    "    inxr = spec + unspec\n",
    "    M_spec = M[spec, :]\n",
    "    M_dash = M_spec[:, inxr]\n",
    "    M_unspec = M[unspec, :]\n",
    "    M_ddash = M_unspec[:, inxr]\n",
    "    return np.concatenate((M_dash, M_ddash))"
   ]
  },
  {
   "cell_type": "code",
   "execution_count": 3,
   "id": "be0a5d7e",
   "metadata": {},
   "outputs": [],
   "source": [
    "# Given\n",
    "fpath_struct = '/home/rob/data/ml/structure_resized.png'"
   ]
  },
  {
   "cell_type": "code",
   "execution_count": 4,
   "id": "936ef4cd",
   "metadata": {},
   "outputs": [
    {
     "name": "stdout",
     "output_type": "stream",
     "text": [
      "Size of image = (81, 81)\n",
      "Shape of Lx = (6561, 6561)\n",
      "Shape of Ly = (6561, 6561)\n"
     ]
    }
   ],
   "source": [
    "# Level set function defining the structure\n",
    "img_raw = cv2.imread(fpath_struct, 0)\n",
    "_, img = cv2.threshold(img_raw, 127, 255, cv2.THRESH_BINARY)\n",
    "print('Size of image =', np.shape(img))\n",
    "N = np.size(img, 0)\n",
    "n = N ** 2\n",
    "\n",
    "# Show loaded image\n",
    "plt.figure(tight_layout=True)\n",
    "plt.imshow(img, cmap='gray')\n",
    "plt.show()\n",
    "\n",
    "# Find all neighbours of each pixel and calculate Dirichlet Laplacian matrix\n",
    "Lx = np.zeros((n, n))\n",
    "Ly = np.zeros((n, n))\n",
    "r = 0\n",
    "for j in range(N):\n",
    "    for i in range(N):\n",
    "        if i == 0:\n",
    "            Ly[r, r] = -1\n",
    "            nbr = (i + 1, j)\n",
    "            k = pixelCoord2Index(nbr[0], nbr[1], N)\n",
    "            Ly[r, k] = 1\n",
    "        elif i == N - 1:\n",
    "            Ly[r, r] = -1\n",
    "            nbr = (i - 1, j)\n",
    "            k = pixelCoord2Index(nbr[0], nbr[1], N)\n",
    "            Ly[r, k] = 1\n",
    "        else:\n",
    "            Ly[r, r] = -2\n",
    "            for nbr in [(i - 1, j), (i + 1, j)]:\n",
    "                k = pixelCoord2Index(nbr[0], nbr[1], N)\n",
    "                Ly[r, k] = 1\n",
    "        if j == 0:\n",
    "            Lx[r, r] = -1\n",
    "            nbr = (i, j + 1)\n",
    "            k = pixelCoord2Index(nbr[0], nbr[1], N)\n",
    "            Lx[r, k] = 1\n",
    "        elif j == N - 1:\n",
    "            Lx[r, r] = -1\n",
    "            nbr = (i, j - 1)\n",
    "            k = pixelCoord2Index(nbr[0], nbr[1], N)\n",
    "            Lx[r, k] = 1\n",
    "        else:\n",
    "            Lx[r, r] = -2\n",
    "            for nbr in [(i, j - 1), (i, j + 1)]:\n",
    "                k = pixelCoord2Index(nbr[0], nbr[1], N)\n",
    "                Lx[r, k] = 1\n",
    "        r += 1\n",
    "Lx = Lx / n; Ly = Ly / n;\n",
    "print(\"Shape of Lx =\", np.shape(Lx))\n",
    "print(\"Shape of Ly =\", np.shape(Ly))"
   ]
  },
  {
   "cell_type": "code",
   "execution_count": 5,
   "id": "7eac2c21",
   "metadata": {},
   "outputs": [
    {
     "name": "stdout",
     "output_type": "stream",
     "text": [
      "Shape of G = (6561, 2)\n",
      "Shape of L1 = (6561, 6561)\n",
      "Shape of L2 = (6561, 6561)\n"
     ]
    }
   ],
   "source": [
    "# Get the gradient in x and y direction for every location p\n",
    "gamma = img.reshape((-1, 1))\n",
    "ddx_gamma = Lx @ gamma\n",
    "ddy_gamma = Ly @ gamma\n",
    "\n",
    "G = np.squeeze(np.array([(gx, gy) for gx, gy in zip(ddx_gamma, ddy_gamma)]))\n",
    "print(\"Shape of G =\", np.shape(G))\n",
    "\n",
    "# Find the field A and its related components for every location p\n",
    "l1p = 1\n",
    "L1 = []; L2 = []\n",
    "for p, g in enumerate(G):\n",
    "    gp = g.reshape((-1, 1))\n",
    "    l2p = 1 / (1 + gp.T.dot(gp));\n",
    "    v1p = np.array([-gp[1], gp[0]])\n",
    "    if (gp == np.array([0, 0])).all():\n",
    "        v2p = gp\n",
    "    else:\n",
    "        v2p = gp / np.linalg.norm(gp)\n",
    "    L1p = l1p * v1p.T @ np.array([Lx[p, :], Ly[p, :]])\n",
    "    L2p = l2p * v2p.T @ np.array([Lx[p, :], Ly[p, :]])\n",
    "    L1.append(L1p); L2.append(L2p)\n",
    "L1 = np.squeeze(L1); L2 = np.squeeze(L2)\n",
    "print(\"Shape of L1 =\", np.shape(L1))\n",
    "print(\"Shape of L2 =\", np.shape(L2))"
   ]
  },
  {
   "cell_type": "code",
   "execution_count": 6,
   "id": "6cd9f682",
   "metadata": {},
   "outputs": [
    {
     "name": "stdout",
     "output_type": "stream",
     "text": [
      "Shape of B = (6561, 6561)\n",
      "Shape of B22 = (6559, 6559)\n",
      "Determinant of B22 = 0.0\n"
     ]
    }
   ],
   "source": [
    "spec = [0, n // 2 + 1]\n",
    "n_dash = len(spec);\n",
    "\n",
    "L1r = rearrangeSpecifiedPixelsInMatrix(L1, spec)\n",
    "L2r = rearrangeSpecifiedPixelsInMatrix(L2, spec)\n",
    "\n",
    "B = L1r.T @ L1r + L2r.T @ L2r\n",
    "print(\"Shape of B =\", np.shape(B))\n",
    "\n",
    "plt.figure(tight_layout=True)\n",
    "plt.imshow(B[840:880, 840:880], cmap='gray')\n",
    "plt.show()\n",
    "\n",
    "B22 = B[n_dash:, n_dash:]\n",
    "print(\"Shape of B22 =\", np.shape(B22))\n",
    "\n",
    "print(\"Determinant of B22 =\", np.linalg.det(B22))"
   ]
  }
 ],
 "metadata": {
  "kernelspec": {
   "display_name": "Python 3 (ipykernel)",
   "language": "python",
   "name": "python3"
  },
  "language_info": {
   "codemirror_mode": {
    "name": "ipython",
    "version": 3
   },
   "file_extension": ".py",
   "mimetype": "text/x-python",
   "name": "python",
   "nbconvert_exporter": "python",
   "pygments_lexer": "ipython3",
   "version": "3.9.7"
  }
 },
 "nbformat": 4,
 "nbformat_minor": 5
}
