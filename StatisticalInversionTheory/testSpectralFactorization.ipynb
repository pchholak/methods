{
 "cells": [
  {
   "cell_type": "code",
   "execution_count": 1,
   "id": "92657724",
   "metadata": {},
   "outputs": [],
   "source": [
    "%matplotlib qt\n",
    "import math\n",
    "import numpy as np\n",
    "import matplotlib.pyplot as plt"
   ]
  },
  {
   "cell_type": "code",
   "execution_count": 2,
   "id": "75bdeae7",
   "metadata": {},
   "outputs": [],
   "source": [
    "# Generate a random positive definite matrix\n",
    "n = 100\n",
    "A = np.random.rand(n, n)\n",
    "C = A @ A.T"
   ]
  },
  {
   "cell_type": "code",
   "execution_count": 3,
   "id": "72928e8d",
   "metadata": {},
   "outputs": [],
   "source": [
    "# Visualize\n",
    "plt.figure()\n",
    "plt.imshow(C, cmap='gray')\n",
    "plt.colorbar()\n",
    "plt.show()"
   ]
  },
  {
   "cell_type": "code",
   "execution_count": 4,
   "id": "3ba0c208",
   "metadata": {},
   "outputs": [
    {
     "data": {
      "text/plain": [
       "True"
      ]
     },
     "execution_count": 4,
     "metadata": {},
     "output_type": "execute_result"
    }
   ],
   "source": [
    "# Perform SVD to test if U and V are the same\n",
    "U, D, VT = np.linalg.svd(C, full_matrices=0)\n",
    "np.allclose(U, VT.T)"
   ]
  },
  {
   "cell_type": "code",
   "execution_count": null,
   "id": "d0c706d5",
   "metadata": {},
   "outputs": [],
   "source": []
  }
 ],
 "metadata": {
  "kernelspec": {
   "display_name": "Python 3 (ipykernel)",
   "language": "python",
   "name": "python3"
  },
  "language_info": {
   "codemirror_mode": {
    "name": "ipython",
    "version": 3
   },
   "file_extension": ".py",
   "mimetype": "text/x-python",
   "name": "python",
   "nbconvert_exporter": "python",
   "pygments_lexer": "ipython3",
   "version": "3.9.7"
  }
 },
 "nbformat": 4,
 "nbformat_minor": 5
}
