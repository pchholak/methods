{
 "cells": [
  {
   "cell_type": "markdown",
   "id": "fc88f592",
   "metadata": {},
   "source": [
    "# Inverse CDF Sampling"
   ]
  },
  {
   "cell_type": "code",
   "execution_count": 1,
   "id": "678d1319",
   "metadata": {},
   "outputs": [],
   "source": [
    "%matplotlib qt\n",
    "import math\n",
    "import numpy as np\n",
    "import matplotlib.pyplot as plt"
   ]
  },
  {
   "cell_type": "code",
   "execution_count": 2,
   "id": "8fdb9348",
   "metadata": {},
   "outputs": [],
   "source": [
    "def apply_positivity_prior_constraint(x0):\n",
    "    '''\n",
    "    Apply positivity constraint on the prior distribution.\n",
    "    π_+(x) = 1 if x_j > 0 for all j and π_+(x) = 0 otherwise.\n",
    "    '''\n",
    "    i_mask = x0 > 0\n",
    "    n = len(x0)\n",
    "    mask = np.zeros((n,))\n",
    "    mask[i_mask] = 1\n",
    "    return mask * x0\n",
    "\n",
    "def inverseErrorFunc(x, C):\n",
    "    '''\n",
    "    Inverse of error function using the Maclaurin series formula.\n",
    "    C:    Maclaurin series coefficients\n",
    "    '''\n",
    "    arg = math.sqrt(math.pi) * x / 2\n",
    "    res = 0\n",
    "    for k, c_k in enumerate(C):\n",
    "        res += c_k / (2 * k + 1) * arg ** (2 * k + 1)\n",
    "    return res\n",
    "\n",
    "def getMaclaurinCoeffs(L):\n",
    "    '''\n",
    "    Get Maclaurin series coefficients in inverse error function.\n",
    "    '''\n",
    "    c0 = 1.\n",
    "    C = []; C.append(c0);\n",
    "    for k in range(1, L):\n",
    "        c_k = 0\n",
    "        for m in range(k):\n",
    "            c_k += C[m] * C[-(m + 1)] / ((m + 1) * (2 * m + 1))\n",
    "        C.append(c_k)\n",
    "    return C"
   ]
  },
  {
   "cell_type": "code",
   "execution_count": 3,
   "id": "adaaa7d5",
   "metadata": {},
   "outputs": [],
   "source": [
    "# Given\n",
    "n_rows, n_bins = 60, 20\n",
    "alpha = 1"
   ]
  },
  {
   "cell_type": "code",
   "execution_count": 4,
   "id": "a8df2d75",
   "metadata": {},
   "outputs": [],
   "source": [
    "# Generate samples from the Uniform distribution\n",
    "n = n_rows ** 2\n",
    "u = np.random.uniform(size=n)"
   ]
  },
  {
   "cell_type": "code",
   "execution_count": 5,
   "id": "8dd874a2",
   "metadata": {},
   "outputs": [],
   "source": [
    "# Generate samples from the Exponential distribution\n",
    "x1 = np.array([-1 / alpha * np.log(1 - uj) for uj in u])"
   ]
  },
  {
   "cell_type": "code",
   "execution_count": 6,
   "id": "7ecd4ae7",
   "metadata": {},
   "outputs": [],
   "source": [
    "# Generate samples from the Cauchy distribution\n",
    "x2 = np.array([1 / alpha * math.tan(math.pi / 2 * uj) for uj in u])"
   ]
  },
  {
   "cell_type": "code",
   "execution_count": 7,
   "id": "9372faee",
   "metadata": {},
   "outputs": [],
   "source": [
    "# Generate samples from the white noise distribution\n",
    "L = 100; C = getMaclaurinCoeffs(L)\n",
    "x3 = np.array([inverseErrorFunc(uj, C) for uj in u])"
   ]
  },
  {
   "cell_type": "code",
   "execution_count": 8,
   "id": "a104d1c0",
   "metadata": {},
   "outputs": [],
   "source": [
    "# Generate samples from the Normal distribution\n",
    "# x3 = np.random.randn(n)\n",
    "\n",
    "# Apply positivity constraint on the prior(s)\n",
    "# x3 = apply_positivity_prior_constraint(x3)"
   ]
  },
  {
   "cell_type": "code",
   "execution_count": 9,
   "id": "d51a0d13",
   "metadata": {},
   "outputs": [],
   "source": [
    "# Reshape to form images\n",
    "u_img = u.reshape((n_rows, -1))\n",
    "x1_img = x1.reshape((n_rows, -1))\n",
    "x2_img = x2.reshape((n_rows, -1))\n",
    "x3_img = x3.reshape((n_rows, -1))"
   ]
  },
  {
   "cell_type": "code",
   "execution_count": 10,
   "id": "c6f809af",
   "metadata": {},
   "outputs": [],
   "source": [
    "# Visualize\n",
    "plt.rcParams.update({'font.size': 18})\n",
    "\n",
    "# Additional figure:\n",
    "fig1 = plt.figure(figsize=(9, 9), tight_layout=True)\n",
    "plt.suptitle('Prior Distributions With Positivity Constraint')\n",
    "ax1 = fig1.add_subplot(221)\n",
    "plt.hist(u, bins=n_bins)\n",
    "plt.title('Uniform')\n",
    "ax2 = fig1.add_subplot(222)\n",
    "plt.hist(x1, bins=n_bins)\n",
    "plt.title('Exponential')\n",
    "ax2 = fig1.add_subplot(223)\n",
    "plt.hist(x2, bins=n_bins)\n",
    "plt.title('Cauchy')\n",
    "ax2 = fig1.add_subplot(224)\n",
    "plt.hist(x3, bins=n_bins)\n",
    "plt.title('Normal')\n",
    "plt.show()\n",
    "\n",
    "# Figure 3.3\n",
    "fig2 = plt.figure(figsize=(18, 6), tight_layout=True)\n",
    "plt.suptitle('Figure 3.3')\n",
    "fig2.add_subplot(131)\n",
    "plt.imshow(x1_img, cmap='gray')\n",
    "plt.title('L1 prior')\n",
    "fig2.add_subplot(132)\n",
    "plt.imshow(x2_img, cmap='gray')\n",
    "plt.title('Cauchy prior')\n",
    "fig2.add_subplot(133)\n",
    "plt.imshow(x3_img, cmap='gray_r')\n",
    "plt.title('White noise prior')\n",
    "plt.show()"
   ]
  },
  {
   "cell_type": "code",
   "execution_count": null,
   "id": "227570f4",
   "metadata": {},
   "outputs": [],
   "source": []
  }
 ],
 "metadata": {
  "kernelspec": {
   "display_name": "Python 3",
   "language": "python",
   "name": "python3"
  },
  "language_info": {
   "codemirror_mode": {
    "name": "ipython",
    "version": 3
   },
   "file_extension": ".py",
   "mimetype": "text/x-python",
   "name": "python",
   "nbconvert_exporter": "python",
   "pygments_lexer": "ipython3",
   "version": "3.8.8"
  }
 },
 "nbformat": 4,
 "nbformat_minor": 5
}
