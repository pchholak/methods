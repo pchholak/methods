{
 "cells": [
  {
   "cell_type": "code",
   "execution_count": 1,
   "id": "27a2984e",
   "metadata": {},
   "outputs": [],
   "source": [
    "%matplotlib qt\n",
    "import cv2\n",
    "import numpy as np\n",
    "import pandas as pd\n",
    "\n",
    "import matplotlib.pyplot as plt\n",
    "import os.path as op\n",
    "\n",
    "from scipy.signal import hilbert\n",
    "from PyEMD import EMD\n",
    "\n",
    "# plt.rcParams['font.size'] = 14"
   ]
  },
  {
   "cell_type": "code",
   "execution_count": 2,
   "id": "85dccb7d",
   "metadata": {},
   "outputs": [],
   "source": [
    "def perform_EMD(x, plot_emd=None):\n",
    "    '''\n",
    "    Perform empirical mode decomposition on signal block 'x'\n",
    "    '''\n",
    "    # EMD\n",
    "    emd_decomp = EMD()\n",
    "    imfs = emd_decomp(x)\n",
    "    \n",
    "    # Visualize EMD\n",
    "    if plot_emd and plot_emd is not None:\n",
    "        plt.figure(figsize=(12, 12))\n",
    "        for i in range(len(imfs)-1):\n",
    "            plt.subplot(len(imfs)+1, 1, i+1)\n",
    "            plt.plot(t, x, color='0.8')\n",
    "            plt.plot(t, imfs[i], 'k')\n",
    "            plt.xlim([np.min(t), np.max(t)])\n",
    "            plt.ylabel('IMF ' + str(i + 1))\n",
    "        plt.subplot(len(imfs)+1, 1, i+2)\n",
    "        plt.plot(t, x, color='0.8')\n",
    "        plt.plot(t, imfs[-1], 'k')\n",
    "        plt.xlim([np.min(t), np.max(t)])\n",
    "        plt.ylabel('Residual')\n",
    "        plt.xlabel('Time (s)')\n",
    "        plt.tight_layout()\n",
    "        plt.show()\n",
    "    return imfs\n",
    "\n",
    "def downsample_rows(arr, k):\n",
    "    res = np.cumsum(arr, 0)[k-1::k]\n",
    "    res[1:] = res[1:] - res[:-1]\n",
    "    return res / k\n",
    "\n",
    "def calculate_hilbert_spectrum(imfs, t, fs, n=5, plot_hilbert_spec=None, plot_inst_freq=None):\n",
    "    '''\n",
    "    Calculate hilbert amplitude spectrum from a given set of intrinsic mode functions.\n",
    "    '''\n",
    "\n",
    "    ## Create Hilbert spectrum\n",
    "    T = t[-1] - t[0]; delta_t = 1 / fs\n",
    "    fmin = fres = 1 / T; fmax = 1 / (n * delta_t)\n",
    "    N = int(T / (n * delta_t))\n",
    "    bin_centres = np.arange(N) * fres + fmin\n",
    "    bin_edges = np.arange(N + 1) * fres + (fmin - fres / 2)\n",
    "\n",
    "    hht = np.zeros((len(imfs), N, (len(t) - 2)))\n",
    "\n",
    "    for j, imf in enumerate(imfs):\n",
    "        Z = hilbert(imf)\n",
    "        A = np.abs(Z)\n",
    "        theta_inst = np.unwrap(np.angle(Z))\n",
    "        f_inst = np.r_[np.nan,\n",
    "                       0.5 * (np.angle(-Z[2:] * np.conj(Z[:-2])) + np.pi) / (2 * np.pi) * fs,\n",
    "                       np.nan]\n",
    "        t_spec = t[1:-1]; A_spec = A[1:-1]; f_spec = f_inst[1:-1]\n",
    "\n",
    "        # Plot instantaneous frequency curves\n",
    "        if plot_inst_freq and plot_inst_freq is not None:\n",
    "            fig, (ax0, ax1) = plt.subplots(nrows=2)\n",
    "            ax0.plot(t, imf, label='signal')\n",
    "            ax0.plot(t, A, label='envelope')\n",
    "            ax0.set_xlabel(\"time (s)\")\n",
    "            ax0.set_ylabel(\"signal (units)\")\n",
    "            ax0.legend()\n",
    "            ax1.plot(t_spec, f_spec)\n",
    "            ax1.set_xlabel(\"time (s)\")\n",
    "            ax1.set_ylabel(\"frequency (Hz)\")\n",
    "            fig.tight_layout()\n",
    "            plt.show()\n",
    "\n",
    "        # Binning of frequency values\n",
    "        binned_freq = pd.cut(f_spec, bin_edges)\n",
    "        bin_inds = binned_freq.codes\n",
    "\n",
    "        # Populate Hilbert spectrum matrix\n",
    "        for i, bin_ind in enumerate(bin_inds):\n",
    "            if bin_ind > 0:\n",
    "                hht[j][bin_ind][i] = A_spec[i]\n",
    "            else:\n",
    "                pass\n",
    "\n",
    "    hht_sum = np.sum(hht, axis=0)\n",
    "    \n",
    "    # Downsample HHT\n",
    "#     hht_sum = downsample_rows(hht_sum, 3)\n",
    "#     bin_centres = downsample_rows(bin_centres, 3)\n",
    "    \n",
    "    # Plot Hilbert spectrum for all IMFs\n",
    "    if plot_hilbert_spec and plot_hilbert_spec is not None:\n",
    "        plt.figure()\n",
    "        plt.pcolormesh(t_spec, bin_centres, hht_sum)\n",
    "        plt.xlabel('Time (s)')\n",
    "        plt.ylabel('Frequency (Hz)')\n",
    "        plt.show()\n",
    "        \n",
    "    return hht_sum, t_spec, bin_centres"
   ]
  },
  {
   "cell_type": "code",
   "execution_count": 3,
   "id": "cf6ab1c3",
   "metadata": {},
   "outputs": [],
   "source": [
    "# Import data\n",
    "fs = 1000\n",
    "data_path = op.expanduser('~/data/meg/')\n",
    "x = np.load(op.join(data_path, 'ssvef.npy')); x = x / np.mean(np.abs(x))\n",
    "# t = np.arange(0, len(x)/fs, 1/fs)\n",
    "t = np.arange(0, 10001/fs, 1/fs); x = x[:len(t)]"
   ]
  },
  {
   "cell_type": "code",
   "execution_count": 4,
   "id": "362f35c6",
   "metadata": {},
   "outputs": [],
   "source": [
    "# Perform EMD-HHT\n",
    "imfs = perform_EMD(x, plot_emd=False)\n",
    "C = imfs[:-1]\n",
    "hht, t_hht, f_hht = calculate_hilbert_spectrum(C, t, fs, plot_hilbert_spec=False)"
   ]
  },
  {
   "cell_type": "code",
   "execution_count": 5,
   "id": "ad4b9e14",
   "metadata": {},
   "outputs": [
    {
     "data": {
      "text/plain": [
       "(12, 10001)"
      ]
     },
     "execution_count": 5,
     "metadata": {},
     "output_type": "execute_result"
    }
   ],
   "source": [
    "imfs.shape"
   ]
  },
  {
   "cell_type": "code",
   "execution_count": 6,
   "id": "8b3ec5ec",
   "metadata": {},
   "outputs": [],
   "source": [
    "# Marginal spectrum\n",
    "marginal_spec = np.mean(hht, axis=1)\n",
    "\n",
    "# Draw marginal spectrum\n",
    "# plt.figure()\n",
    "# plt.plot(f_hht, marginal_spec)\n",
    "# plt.xlim([0, 50])\n",
    "# plt.xlabel('Frequency (Hz)')\n",
    "# plt.ylabel('Marginal Hilbert Spectrum')\n",
    "# plt.show()"
   ]
  },
  {
   "cell_type": "code",
   "execution_count": 7,
   "id": "5d7dc540",
   "metadata": {},
   "outputs": [],
   "source": [
    "# Smoothing - Weighted Gaussian Filtering\n",
    "k_gauss = 15\n",
    "hht_smooth = cv2.GaussianBlur(hht, (k_gauss, k_gauss), 0)"
   ]
  },
  {
   "cell_type": "code",
   "execution_count": 8,
   "id": "1717201c",
   "metadata": {},
   "outputs": [
    {
     "name": "stderr",
     "output_type": "stream",
     "text": [
      "qt.qpa.drawing: Layer-backing can not be explicitly controlled on 10.14 when built against the 10.14 SDK\n"
     ]
    }
   ],
   "source": [
    "# Draw HHT\n",
    "plt.figure()\n",
    "# plt.pcolormesh(t_hht, f_hht, hht_smooth)\n",
    "plt.pcolormesh(t_hht, f_hht[:500], hht_smooth[:500, :])\n",
    "plt.xlabel('Time (s)')\n",
    "plt.ylabel('Frequency (Hz)')\n",
    "plt.show()"
   ]
  },
  {
   "cell_type": "code",
   "execution_count": 9,
   "id": "f9e00d29",
   "metadata": {},
   "outputs": [
    {
     "data": {
      "text/plain": [
       "(2000, 9999)"
      ]
     },
     "execution_count": 9,
     "metadata": {},
     "output_type": "execute_result"
    }
   ],
   "source": [
    "hht.shape"
   ]
  },
  {
   "cell_type": "code",
   "execution_count": null,
   "id": "177fe601",
   "metadata": {},
   "outputs": [],
   "source": []
  }
 ],
 "metadata": {
  "kernelspec": {
   "display_name": "Python [conda env:mne]",
   "language": "python",
   "name": "conda-env-mne-py"
  },
  "language_info": {
   "codemirror_mode": {
    "name": "ipython",
    "version": 3
   },
   "file_extension": ".py",
   "mimetype": "text/x-python",
   "name": "python",
   "nbconvert_exporter": "python",
   "pygments_lexer": "ipython3",
   "version": "3.9.10"
  }
 },
 "nbformat": 4,
 "nbformat_minor": 5
}
