{
 "cells": [
  {
   "cell_type": "markdown",
   "id": "bb96cb21",
   "metadata": {},
   "source": [
    "# 1) HHT using 'emd' package"
   ]
  },
  {
   "cell_type": "code",
   "execution_count": null,
   "id": "ee02ad54",
   "metadata": {},
   "outputs": [],
   "source": [
    "%matplotlib qt\n",
    "import emd\n",
    "# from PyEMD import EMD\n",
    "import numpy as np\n",
    "from scipy import ndimage\n",
    "\n",
    "import matplotlib.pyplot as plt\n",
    "import matplotlib.patches as patches\n",
    "\n",
    "# Define and simulate a simple signal\n",
    "sample_rate = 512\n",
    "seconds = 10\n",
    "# peak_freq = 12\n",
    "# noise_std = 0.5\n",
    "# x = emd.utils.ar_simulate(peak_freq, sample_rate, seconds, noise_std=noise_std,\n",
    "#                           random_seed=42, r=0.99)[:, 0]\n",
    "# x *= 1e-4\n",
    "x = np.load('/Users/creator/analysis/methods/HilbertTransform/exampledata.npy')\n",
    "x = x[4000:9121]\n",
    "x *= 1e-2\n",
    "t = np.linspace(0, seconds, seconds * sample_rate)\n",
    "\n",
    "# Plot the first 3 seconds of data\n",
    "plt.figure(figsize=(10, 2))\n",
    "plt.plot(t[:sample_rate*3], x[:sample_rate*3], 'k')\n",
    "plt.show()\n",
    "\n",
    "# Run a mask sift\n",
    "imf = emd.sift.mask_sift(x, max_imfs=5)\n",
    "\n",
    "emd.plotting.plot_imfs(imf[:2000, :], cmap=True, scale_y=True)\n",
    "\n",
    "# # Compute frequency statistics\n",
    "# IP, IF, IA = emd.spectra.frequency_transform(imf, sample_rate, 'nht')\n",
    "\n",
    "# plt.figure(figsize=(8, 4))\n",
    "# # Plot a simple histogram using frequency bins from 0-40 Hz\n",
    "# plt.subplot(121)\n",
    "# plt.hist(IF[:, 2], np.linspace(0, 40))\n",
    "# plt.grid()\n",
    "# plt.title('IF Histogram')\n",
    "# plt.xticks(np.arange(0, 40, 4))\n",
    "# plt.xlabel('Frequency (Hz)')\n",
    "# # Plot an amplitude-weighted histogram using frequency bins from 0-40 Hz\n",
    "# plt.subplot(122)\n",
    "# plt.hist(IF[:, 2], np.linspace(0, 40), weights=IA[:, 2])\n",
    "# plt.grid()\n",
    "# plt.title('IF Histogram\\nweighted by IA')\n",
    "# plt.xticks(np.arange(0, 40, 4))\n",
    "# plt.xlabel('Frequency (Hz)')\n",
    "# plt.show()\n",
    "\n",
    "# freq_edges, freq_centres = emd.spectra.define_hist_bins(0, 100, 128, 'linear')\n",
    "\n",
    "# # Amplitude weighted HHT\n",
    "# _, spec_weighted = emd.spectra.hilberthuang(IF, IA, freq_edges)\n",
    "\n",
    "# # Unweighted HHT - we replace the instantaneous amplitude values with ones\n",
    "# _, spec_unweighted = emd.spectra.hilberthuang(IF, np.ones_like(IA), freq_edges)\n",
    "\n",
    "# plt.figure(figsize=(8, 4))\n",
    "# plt.subplot(121)\n",
    "# plt.plot(freq_centres, spec_unweighted)\n",
    "# plt.xticks(np.arange(8)*12)\n",
    "# plt.xlim([0, 100])\n",
    "# plt.ylim([0, 6000])\n",
    "# plt.xlabel('Frequency (Hz)')\n",
    "# plt.title('Unweighted\\nHilbert-Huang Transform')\n",
    "# plt.subplot(122)\n",
    "# plt.plot(freq_centres, spec_weighted)\n",
    "# plt.xticks(np.arange(8)*12)\n",
    "# plt.xlim([0, 100])\n",
    "# plt.ylim([0, 6000])\n",
    "# plt.xlabel('Frequency (Hz)')\n",
    "# plt.title('IA-weighted\\nHilbert-Huang Transform')\n",
    "# plt.show()\n",
    "\n",
    "# # Carrier frequency histogram definition\n",
    "# freq_edges, freq_centres = emd.spectra.define_hist_bins(1, 25, 24, 'linear')\n",
    "\n",
    "# _, hht = emd.spectra.hilberthuang(IF[:, 2], IA[:, 2], freq_edges, mode='amplitude')\n",
    "# time_centres = np.arange(201) - 0.5\n",
    "\n",
    "# plt.figure(figsize=(10, 8))\n",
    "# # Add signal and IA\n",
    "# plt.axes([0.1, 0.6, 0.64, 0.3])\n",
    "# plt.plot(imf[:, 2], 'k')\n",
    "# plt.plot(IA[:, 2], 'r')\n",
    "# plt.legend(['IMF', 'IA'])\n",
    "# plt.xlim([50, 150])\n",
    "\n",
    "# # Add IF axis and legend\n",
    "# plt.axes([0.1, 0.1, 0.8, 0.45])\n",
    "# plt.plot(IF[:, 2], 'g', lw=3)\n",
    "# plt.legend('IF')\n",
    "\n",
    "# # Plot HHT\n",
    "# # plt.pcolormesh(time_centres, freq_edges, hht, cmap='hot_r', vmin=0)\n",
    "# plt.show()\n",
    "\n",
    "# hht = ndimage.gaussian_filter(hht, 0.7)"
   ]
  },
  {
   "cell_type": "markdown",
   "id": "441c8e1c",
   "metadata": {},
   "source": [
    "# 2) HHT using 'scipy' and 'pyEMD' package"
   ]
  },
  {
   "cell_type": "code",
   "execution_count": 1,
   "id": "ce034562",
   "metadata": {},
   "outputs": [],
   "source": [
    "%matplotlib qt\n",
    "import numpy as np\n",
    "import matplotlib.pyplot as plt\n",
    "import pandas as pd\n",
    "\n",
    "from scipy.signal import hilbert, chirp\n",
    "from PyEMD import EMD\n",
    "\n",
    "plt.rcParams['font.size'] = 14"
   ]
  },
  {
   "cell_type": "code",
   "execution_count": 2,
   "id": "0ed6e3de",
   "metadata": {},
   "outputs": [],
   "source": [
    "def calculate_hilbert_spectrum(imfs, t, fs, n=5, plot_hilbert_spec=None, plot_inst_freq=None):\n",
    "    '''\n",
    "    Calculate hilbert amplitude spectrum from a given set of intrinsic mode functions.\n",
    "    '''\n",
    "\n",
    "    ## Create Hilbert spectrum\n",
    "    T = t[-1] - t[0]; delta_t = 1 / fs\n",
    "    fmin = fres = 1 / T; fmax = 1 / (n * delta_t)\n",
    "    N = int(T / (n * delta_t))\n",
    "    bin_centres = np.arange(N) * fres + fmin\n",
    "    bin_edges = np.arange(N + 1) * fres + (fmin - fres / 2)\n",
    "\n",
    "    hht = np.zeros((len(imfs), N, (len(t) - 2)))\n",
    "\n",
    "    for j, imf in enumerate(imfs):\n",
    "        Z = hilbert(imf)\n",
    "        A = np.abs(Z)\n",
    "        theta_inst = np.unwrap(np.angle(Z))\n",
    "        f_inst = np.r_[np.nan,\n",
    "                       0.5 * (np.angle(-Z[2:] * np.conj(Z[:-2])) + np.pi) / (2 * np.pi) * fs,\n",
    "                       np.nan]\n",
    "        t_spec = t[1:-1]; A_spec = A[1:-1]; f_spec = f_inst[1:-1]\n",
    "\n",
    "        # Plot instantaneous frequency curves\n",
    "        if plot_inst_freq and plot_inst_freq is not None:\n",
    "            fig, (ax0, ax1) = plt.subplots(nrows=2)\n",
    "            ax0.plot(t, imf, label='signal')\n",
    "            ax0.plot(t, A, label='envelope')\n",
    "            ax0.set_xlabel(\"time (s)\")\n",
    "            ax0.set_ylabel(\"signal (units)\")\n",
    "            ax0.legend()\n",
    "            ax1.plot(t_spec, f_spec)\n",
    "            ax1.set_xlabel(\"time (s)\")\n",
    "            ax1.set_ylabel(\"frequency (Hz)\")\n",
    "            fig.tight_layout()\n",
    "            plt.show()\n",
    "\n",
    "        # Binning of frequency values\n",
    "        binned_freq = pd.cut(f_spec, bin_edges)\n",
    "        bin_inds = binned_freq.codes\n",
    "\n",
    "        # Populate Hilbert spectrum matrix\n",
    "        for i, bin_ind in enumerate(bin_inds):\n",
    "            if bin_ind > 0:\n",
    "                hht[j][bin_ind][i] = A_spec[i]\n",
    "            else:\n",
    "                pass\n",
    "\n",
    "    hht_sum = np.sum(hht, axis=0)\n",
    "    \n",
    "    # Plot Hilbert spectrum for all IMFs\n",
    "    if plot_hilbert_spec and plot_hilbert_spec is not None:\n",
    "        plt.figure()\n",
    "        plt.pcolormesh(t_spec, bin_centres, hht_sum)\n",
    "        plt.xlabel('Time (s)')\n",
    "        plt.ylabel('Frequency (Hz)')\n",
    "        plt.show()\n",
    "        \n",
    "    return hht_sum\n",
    "\n",
    "def derivative_central_secondorder(x, fs):\n",
    "    n = len(x)\n",
    "    dxdt = np.zeros((n, 1))\n",
    "    dxdt[0] = (x[1] - x[0]) * fs # 1 / dt = fs\n",
    "    for i in range(1, n-1):\n",
    "        dxdt[i] = (x[i+1] - x[i-1]) / 2 * fs\n",
    "    dxdt[n-1] = (x[n-1] - x[n-2]) * fs\n",
    "    return dxdt\n",
    "\n",
    "def derivative_central_fourthorder(x, fs):\n",
    "    n = len(x)\n",
    "    dxdt = np.zeros((n, 1))\n",
    "    dxdt[0] = (x[1] - x[0]) * fs # 1 / dt = fs\n",
    "    dxdt[1] = (x[2] - x[0]) * fs / 2\n",
    "    for i in range(2, n-2):\n",
    "        dxdt[i] = (- x[i+2] + 8*x[i+1] - 8*x[i-1] + x[i-2]) * fs / 12\n",
    "    dxdt[n-2] = (x[n-1] - x[n-3]) * fs / 2\n",
    "    dxdt[n-1] = (x[n-1] - x[n-2]) * fs\n",
    "    return dxdt"
   ]
  },
  {
   "cell_type": "code",
   "execution_count": 7,
   "id": "0bb411db",
   "metadata": {},
   "outputs": [],
   "source": [
    "# Import data\n",
    "fs = 1000\n",
    "x = np.load('./exampledata.npy')\n",
    "x = x[7000:9001]\n",
    "t = np.arange(0, len(x)/fs, 1/fs)\n",
    "# t = np.arange(0, 2001/fs, 1/fs); x = np.sin(2*np.pi*3*t) + np.sin(2*np.pi*6*t);"
   ]
  },
  {
   "cell_type": "code",
   "execution_count": 8,
   "id": "89d475e6",
   "metadata": {},
   "outputs": [],
   "source": [
    "# EMD\n",
    "emd_decomp = EMD()\n",
    "imfs = emd_decomp(x)\n",
    "C = imfs[:-1]"
   ]
  },
  {
   "cell_type": "code",
   "execution_count": 9,
   "id": "54f5bc70",
   "metadata": {},
   "outputs": [],
   "source": [
    "# Visualize EMD\n",
    "plt.figure(figsize=(12, 12))\n",
    "for i in range(len(imfs)-1):\n",
    "    plt.subplot(len(imfs)+1, 1, i+1)\n",
    "    plt.plot(t, x, color='0.8')\n",
    "    plt.plot(t, imfs[i], 'k')\n",
    "    plt.xlim([np.min(t), np.max(t)])\n",
    "    plt.ylabel('IMF ' + str(i + 1))\n",
    "plt.subplot(len(imfs)+1, 1, i+2)\n",
    "plt.plot(t, x, color='0.8')\n",
    "plt.plot(t, imfs[-1], 'k')\n",
    "plt.xlim([np.min(t), np.max(t)])\n",
    "plt.ylabel('Residual')\n",
    "plt.xlabel('Time (s)')\n",
    "plt.tight_layout()\n",
    "plt.show()"
   ]
  },
  {
   "cell_type": "code",
   "execution_count": 10,
   "id": "05e4c1e7",
   "metadata": {},
   "outputs": [],
   "source": [
    "hht = calculate_hilbert_spectrum(C, t, fs, plot_hilbert_spec=True)"
   ]
  },
  {
   "cell_type": "code",
   "execution_count": null,
   "id": "ad263907",
   "metadata": {},
   "outputs": [],
   "source": []
  },
  {
   "cell_type": "code",
   "execution_count": null,
   "id": "dded6b0e",
   "metadata": {},
   "outputs": [],
   "source": []
  },
  {
   "cell_type": "code",
   "execution_count": null,
   "id": "1181dd48",
   "metadata": {},
   "outputs": [],
   "source": []
  },
  {
   "cell_type": "code",
   "execution_count": null,
   "id": "2e67f5cb",
   "metadata": {},
   "outputs": [],
   "source": [
    "# HT on IMF-3 (i = 2)\n",
    "signal_x = imfs[2]\n",
    "signal_z = hilbert(signal_x)\n",
    "amp = np.abs(signal_z)\n",
    "inst_phase = np.unwrap(np.angle(signal_z))\n",
    "# inst_freq = np.diff(inst_phase) / (2 * np.pi) * fs\n",
    "# inst_freq = derivative_central_secondorder(inst_phase, fs) / (2 * np.pi)\n",
    "# inst_freq = derivative_central_fourthorder(inst_phase, fs) / (2 * np.pi)\n",
    "inst_freq = np.r_[np.nan, 0.5*(np.angle(-signal_z[2:]*np.conj(signal_z[:-2]))+np.pi)/(2*np.pi)*fs, np.nan]"
   ]
  },
  {
   "cell_type": "code",
   "execution_count": null,
   "id": "059ea6ec",
   "metadata": {},
   "outputs": [],
   "source": [
    "t_hht = t[1:-1]; amp_hht = amp[1:-1]; f_hht = inst_freq[1:-1]"
   ]
  },
  {
   "cell_type": "code",
   "execution_count": null,
   "id": "407505be",
   "metadata": {},
   "outputs": [],
   "source": [
    "# Visualize HT\n",
    "fig, (ax0, ax1) = plt.subplots(nrows=2)\n",
    "ax0.plot(t, signal_x, label='signal')\n",
    "ax0.plot(t, amp, label='envelope')\n",
    "ax0.set_xlabel(\"time (s)\")\n",
    "ax0.set_ylabel(\"signal (units)\")\n",
    "# ax0.legend()\n",
    "ax1.plot(t_hht, f_hht)\n",
    "ax1.set_xlabel(\"time (s)\")\n",
    "ax1.set_ylabel(\"frequency (Hz)\")\n",
    "fig.tight_layout()\n",
    "plt.show()"
   ]
  },
  {
   "cell_type": "code",
   "execution_count": null,
   "id": "c1dceb6a",
   "metadata": {},
   "outputs": [],
   "source": [
    "# Create Hilbert spectrum\n",
    "n = 5\n",
    "T = t[-1] - t[0]\n",
    "delta_t = 1 / fs\n",
    "fmin = 1 / T\n",
    "fres = 1 / T\n",
    "fmax = 1 / (n * delta_t)\n",
    "N = int(T / (n * delta_t))\n",
    "print(delta_t)\n",
    "print(fmin)\n",
    "print(fres)\n",
    "print(fmax)\n",
    "print(N)"
   ]
  },
  {
   "cell_type": "code",
   "execution_count": null,
   "id": "5c0fda37",
   "metadata": {},
   "outputs": [],
   "source": [
    "bin_centres = np.arange(N) * fres + fmin\n",
    "bin_edges = np.arange(N + 1) * fres + (fmin - fres / 2)\n",
    "binned_freq = pd.cut(f_hht, bin_edges)"
   ]
  },
  {
   "cell_type": "code",
   "execution_count": null,
   "id": "81057d4d",
   "metadata": {},
   "outputs": [],
   "source": [
    "f_hht[0]"
   ]
  },
  {
   "cell_type": "code",
   "execution_count": null,
   "id": "c873773a",
   "metadata": {
    "scrolled": true
   },
   "outputs": [],
   "source": [
    "binned_freq[0]"
   ]
  },
  {
   "cell_type": "code",
   "execution_count": null,
   "id": "8dc1a6cd",
   "metadata": {},
   "outputs": [],
   "source": [
    "bin_inds = binned_freq.codes\n",
    "bin_inds"
   ]
  },
  {
   "cell_type": "code",
   "execution_count": null,
   "id": "92d1c7e7",
   "metadata": {},
   "outputs": [],
   "source": [
    "bin_wins = binned_freq.categories\n",
    "bin_wins[18]"
   ]
  },
  {
   "cell_type": "code",
   "execution_count": null,
   "id": "a03d221f",
   "metadata": {},
   "outputs": [],
   "source": [
    "len(bin_inds)"
   ]
  },
  {
   "cell_type": "code",
   "execution_count": null,
   "id": "563b363e",
   "metadata": {},
   "outputs": [],
   "source": [
    "hht = np.zeros((N, len(bin_inds)))\n",
    "for i, bin_ind in enumerate(bin_inds):\n",
    "    if bin_ind > 0:\n",
    "        hht[bin_ind][i] = amp_hht[i]\n",
    "    else:\n",
    "        pass"
   ]
  },
  {
   "cell_type": "code",
   "execution_count": null,
   "id": "b9c756ae",
   "metadata": {},
   "outputs": [],
   "source": [
    "plt.figure()\n",
    "plt.pcolormesh(t_hht, bin_centres, hht)\n",
    "plt.xlabel('Time (s)')\n",
    "plt.ylabel('Frequency (Hz)')\n",
    "plt.show()"
   ]
  },
  {
   "cell_type": "code",
   "execution_count": null,
   "id": "21cf81c4",
   "metadata": {},
   "outputs": [],
   "source": []
  }
 ],
 "metadata": {
  "kernelspec": {
   "display_name": "Python [conda env:mne]",
   "language": "python",
   "name": "conda-env-mne-py"
  },
  "language_info": {
   "codemirror_mode": {
    "name": "ipython",
    "version": 3
   },
   "file_extension": ".py",
   "mimetype": "text/x-python",
   "name": "python",
   "nbconvert_exporter": "python",
   "pygments_lexer": "ipython3",
   "version": "3.10.4"
  }
 },
 "nbformat": 4,
 "nbformat_minor": 5
}
