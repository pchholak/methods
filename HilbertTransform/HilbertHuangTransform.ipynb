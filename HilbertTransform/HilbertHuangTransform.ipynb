{
 "cells": [
  {
   "cell_type": "code",
   "execution_count": 1,
   "id": "ee02ad54",
   "metadata": {},
   "outputs": [],
   "source": [
    "%matplotlib qt\n",
    "import emd\n",
    "# from PyEMD import EMD\n",
    "import numpy as np\n",
    "from scipy import ndimage\n",
    "\n",
    "import matplotlib.pyplot as plt\n",
    "import matplotlib.patches as patches"
   ]
  },
  {
   "cell_type": "markdown",
   "id": "88c27dda",
   "metadata": {},
   "source": [
    "<!-- Simulate a noisy signal with a 12 Hz oscillation -->\n",
    "Simulate a noisy signal"
   ]
  },
  {
   "cell_type": "code",
   "execution_count": 2,
   "id": "7fec1728",
   "metadata": {},
   "outputs": [
    {
     "name": "stderr",
     "output_type": "stream",
     "text": [
      "qt.qpa.drawing: Layer-backing can not be explicitly controlled on 10.14 when built against the 10.14 SDK\n"
     ]
    }
   ],
   "source": [
    "# Define and simulate a simple signal\n",
    "sample_rate = 512\n",
    "seconds = 10\n",
    "# peak_freq = 12\n",
    "# noise_std = 0.5\n",
    "# x = emd.utils.ar_simulate(peak_freq, sample_rate, seconds, noise_std=noise_std,\n",
    "#                           random_seed=42, r=0.99)[:, 0]\n",
    "# x *= 1e-4\n",
    "x = np.load('/Users/creator/analysis/methods/HilbertTransform/exampledata.npy')\n",
    "x = x[4000:9121]\n",
    "x *= 1e-2\n",
    "t = np.linspace(0, seconds, seconds * sample_rate)\n",
    "\n",
    "# Plot the first 3 seconds of data\n",
    "plt.figure(figsize=(10, 2))\n",
    "plt.plot(t[:sample_rate*3], x[:sample_rate*3], 'k')\n",
    "plt.show()"
   ]
  },
  {
   "cell_type": "markdown",
   "id": "b596bab9",
   "metadata": {},
   "source": [
    "Extract the IMFs"
   ]
  },
  {
   "cell_type": "code",
   "execution_count": 3,
   "id": "be98a9d6",
   "metadata": {},
   "outputs": [
    {
     "name": "stdout",
     "output_type": "stream",
     "text": [
      " The argument 'scale_y' is depreciated and will be                         removed in a future version. Please use 'sharey' to remove this                         warning\n"
     ]
    },
    {
     "data": {
      "text/plain": [
       "<AxesSubplot:xlabel='Time (samples)'>"
      ]
     },
     "execution_count": 3,
     "metadata": {},
     "output_type": "execute_result"
    }
   ],
   "source": [
    "# Run a mask sift\n",
    "imf = emd.sift.mask_sift(x, max_imfs=5)\n",
    "\n",
    "emd.plotting.plot_imfs(imf[:2000, :], cmap=True, scale_y=True)"
   ]
  },
  {
   "cell_type": "markdown",
   "id": "29457665",
   "metadata": {},
   "source": [
    "1d frequency transform"
   ]
  },
  {
   "cell_type": "code",
   "execution_count": 5,
   "id": "9b4844ea",
   "metadata": {},
   "outputs": [],
   "source": [
    "# # Compute frequency statistics\n",
    "# IP, IF, IA = emd.spectra.frequency_transform(imf, sample_rate, 'nht')"
   ]
  },
  {
   "cell_type": "code",
   "execution_count": null,
   "id": "cec1205b",
   "metadata": {},
   "outputs": [],
   "source": [
    "# plt.figure(figsize=(8, 4))\n",
    "# # Plot a simple histogram using frequency bins from 0-40 Hz\n",
    "# plt.subplot(121)\n",
    "# plt.hist(IF[:, 2], np.linspace(0, 40))\n",
    "# plt.grid()\n",
    "# plt.title('IF Histogram')\n",
    "# plt.xticks(np.arange(0, 40, 4))\n",
    "# plt.xlabel('Frequency (Hz)')\n",
    "# # Plot an amplitude-weighted histogram using frequency bins from 0-40 Hz\n",
    "# plt.subplot(122)\n",
    "# plt.hist(IF[:, 2], np.linspace(0, 40), weights=IA[:, 2])\n",
    "# plt.grid()\n",
    "# plt.title('IF Histogram\\nweighted by IA')\n",
    "# plt.xticks(np.arange(0, 40, 4))\n",
    "# plt.xlabel('Frequency (Hz)')\n",
    "# plt.show()\n",
    "\n",
    "# freq_edges, freq_centres = emd.spectra.define_hist_bins(0, 100, 128, 'linear')\n",
    "\n",
    "# # Amplitude weighted HHT\n",
    "# _, spec_weighted = emd.spectra.hilberthuang(IF, IA, freq_edges)\n",
    "\n",
    "# # Unweighted HHT - we replace the instantaneous amplitude values with ones\n",
    "# _, spec_unweighted = emd.spectra.hilberthuang(IF, np.ones_like(IA), freq_edges)\n",
    "\n",
    "# plt.figure(figsize=(8, 4))\n",
    "# plt.subplot(121)\n",
    "# plt.plot(freq_centres, spec_unweighted)\n",
    "# plt.xticks(np.arange(8)*12)\n",
    "# plt.xlim([0, 100])\n",
    "# plt.ylim([0, 6000])\n",
    "# plt.xlabel('Frequency (Hz)')\n",
    "# plt.title('Unweighted\\nHilbert-Huang Transform')\n",
    "# plt.subplot(122)\n",
    "# plt.plot(freq_centres, spec_weighted)\n",
    "# plt.xticks(np.arange(8)*12)\n",
    "# plt.xlim([0, 100])\n",
    "# plt.ylim([0, 6000])\n",
    "# plt.xlabel('Frequency (Hz)')\n",
    "# plt.title('IA-weighted\\nHilbert-Huang Transform')\n",
    "# plt.show()"
   ]
  },
  {
   "cell_type": "markdown",
   "id": "48890fc4",
   "metadata": {},
   "source": [
    "2d time-frequency transform"
   ]
  },
  {
   "cell_type": "code",
   "execution_count": 8,
   "id": "1afe1972",
   "metadata": {},
   "outputs": [],
   "source": [
    "# # Carrier frequency histogram definition\n",
    "# freq_edges, freq_centres = emd.spectra.define_hist_bins(1, 25, 24, 'linear')\n",
    "\n",
    "# _, hht = emd.spectra.hilberthuang(IF[:, 2], IA[:, 2], freq_edges, mode='amplitude')\n",
    "# time_centres = np.arange(201) - 0.5\n",
    "\n",
    "# plt.figure(figsize=(10, 8))\n",
    "# # Add signal and IA\n",
    "# plt.axes([0.1, 0.6, 0.64, 0.3])\n",
    "# plt.plot(imf[:, 2], 'k')\n",
    "# plt.plot(IA[:, 2], 'r')\n",
    "# plt.legend(['IMF', 'IA'])\n",
    "# plt.xlim([50, 150])\n",
    "\n",
    "# # Add IF axis and legend\n",
    "# plt.axes([0.1, 0.1, 0.8, 0.45])\n",
    "# plt.plot(IF[:, 2], 'g', lw=3)\n",
    "# plt.legend('IF')\n",
    "\n",
    "# # Plot HHT\n",
    "# # plt.pcolormesh(time_centres, freq_edges, hht, cmap='hot_r', vmin=0)\n",
    "# plt.show()"
   ]
  },
  {
   "cell_type": "markdown",
   "id": "6015c1f8",
   "metadata": {},
   "source": [
    "hht = ndimage.gaussian_filter(hht, 0.7)"
   ]
  },
  {
   "cell_type": "code",
   "execution_count": null,
   "id": "d398094c",
   "metadata": {},
   "outputs": [],
   "source": []
  }
 ],
 "metadata": {
  "kernelspec": {
   "display_name": "Python [conda env:mne]",
   "language": "python",
   "name": "conda-env-mne-py"
  },
  "language_info": {
   "codemirror_mode": {
    "name": "ipython",
    "version": 3
   },
   "file_extension": ".py",
   "mimetype": "text/x-python",
   "name": "python",
   "nbconvert_exporter": "python",
   "pygments_lexer": "ipython3",
   "version": "3.9.10"
  }
 },
 "nbformat": 4,
 "nbformat_minor": 5
}
