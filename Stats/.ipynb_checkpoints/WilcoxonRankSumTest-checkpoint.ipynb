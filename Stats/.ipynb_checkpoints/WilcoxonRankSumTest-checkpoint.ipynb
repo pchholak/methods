{
 "cells": [
  {
   "cell_type": "markdown",
   "id": "ff93eac1",
   "metadata": {},
   "source": [
    "# The Wilcoxon Rank-Sum Test\n",
    "The Wilcoxon rank-sum test is a nonparametric alternative to the twosample\n",
    "t-test which is based solely on the order in which the observations\n",
    "from the two samples fall.\n",
    "\n",
    "The Mann-Whitney test is essentially identical to the Wilcoxon test, even\n",
    "though it uses a di®erent test statistic.\n",
    "\n",
    "**Task**: Assume we have two independent samples of data, [x1, x2, ...] and [x1', x2', ...]\n",
    ", each from a different population. Also assume that the sample sizes are small or the populations are not normally distributed, but that the two population distributions are approximately the same shape. The _Wilcoxon Rank-Sum Test_ allows testing whether there is a significant difference between the two medians (or if one is significantly greater than or less than the other)."
   ]
  },
  {
   "cell_type": "code",
   "execution_count": null,
   "id": "5d7c3f0f",
   "metadata": {},
   "outputs": [],
   "source": [
    "import numpy as np"
   ]
  },
  {
   "cell_type": "code",
   "execution_count": null,
   "id": "cf8cc77c",
   "metadata": {},
   "outputs": [],
   "source": [
    "# Given\n",
    "xA = [8.50, 9.48, 8.65, 8.16, 8.83, 7.76, 8.63]\n",
    "xB = [8.27, 8.20, 8.25, 8.14, 9.00, 8.10, 7.20, 8.32, 7.70]"
   ]
  },
  {
   "cell_type": "code",
   "execution_count": null,
   "id": "56769780",
   "metadata": {},
   "outputs": [],
   "source": [
    "nA = len(xA); nB = len(xB)\n",
    "print(\"nA = %d, nB = %d\" % (nA, nB))"
   ]
  },
  {
   "cell_type": "code",
   "execution_count": null,
   "id": "fcc89f03",
   "metadata": {},
   "outputs": [],
   "source": [
    "# Combine data\n",
    "xC = xA + xB\n",
    "lbl = ['A'] * nA + ['B'] * nB\n",
    "print(xC)\n",
    "print(lbl)"
   ]
  },
  {
   "cell_type": "code",
   "execution_count": null,
   "id": "ef9531a4",
   "metadata": {},
   "outputs": [],
   "source": [
    "# Sort combined data in ascending order\n",
    "i_sort = np.argsort(xC)\n",
    "xC_sorted = [xC[i] for i in i_sort]\n",
    "lbl_sorted = [lbl[i] for i in i_sort]\n",
    "print(xC_sorted)\n",
    "print(lbl_sorted)"
   ]
  },
  {
   "cell_type": "code",
   "execution_count": null,
   "id": "282ff621",
   "metadata": {},
   "outputs": [],
   "source": [
    "# List ranks of each value\n",
    "ranks = [r for r in range(1, len(xC)+1)]\n",
    "print(ranks)"
   ]
  },
  {
   "cell_type": "code",
   "execution_count": null,
   "id": "473d982f",
   "metadata": {},
   "outputs": [],
   "source": [
    "# Treatment of ties (TODO)"
   ]
  },
  {
   "cell_type": "code",
   "execution_count": null,
   "id": "6fcf7f12",
   "metadata": {},
   "outputs": [],
   "source": [
    "# Find sums of ranks\n",
    "wA = 0; wB = 0\n",
    "for i_r, r in enumerate(ranks):\n",
    "    if lbl_sorted[i_r] == 'A':\n",
    "        wA += r\n",
    "    elif lbl_sorted[i_r] == 'B':\n",
    "        wB += r\n",
    "    else:\n",
    "        raise ValueError(\"Labels 'lbl' could only take values 'A' or 'B'.\")\n",
    "\n",
    "print(\"wA = %d, wB = %d\" % (wA, wB))"
   ]
  },
  {
   "cell_type": "code",
   "execution_count": null,
   "id": "077e65d6",
   "metadata": {},
   "outputs": [],
   "source": [
    "if wA > wB:\n",
    "    print(\"Find the p-value from the upper-tail of the distribution.\")\n",
    "else:\n",
    "    print(\"Find the p-value from the lower-tail of the distribution.\")"
   ]
  },
  {
   "cell_type": "code",
   "execution_count": null,
   "id": "12598f06",
   "metadata": {},
   "outputs": [],
   "source": [
    "# From Wilcoxon Rank-Sum Table, for nA = 7, nB = 9, and wA = 75, prob is btw 0.05 and 0.1\n",
    "prob = 0.114 / 2 # Taken from Ch10.wilcoxon.pdf\n",
    "pval = 2 * prob\n",
    "print(\"p-val = %.3f\" % pval)"
   ]
  },
  {
   "cell_type": "markdown",
   "id": "626dca68",
   "metadata": {},
   "source": [
    "## Using scipy to perform the same test"
   ]
  },
  {
   "cell_type": "code",
   "execution_count": null,
   "id": "b90b8f62",
   "metadata": {},
   "outputs": [],
   "source": [
    "from scipy.stats import ranksums\n",
    "res = ranksums(xA, xB)\n",
    "print(\"p-val = %.3f\" % res.pvalue)"
   ]
  }
 ],
 "metadata": {
  "kernelspec": {
   "display_name": "Python 3 (ipykernel)",
   "language": "python",
   "name": "python3"
  },
  "language_info": {
   "codemirror_mode": {
    "name": "ipython",
    "version": 3
   },
   "file_extension": ".py",
   "mimetype": "text/x-python",
   "name": "python",
   "nbconvert_exporter": "python",
   "pygments_lexer": "ipython3",
   "version": "3.9.12"
  }
 },
 "nbformat": 4,
 "nbformat_minor": 5
}
